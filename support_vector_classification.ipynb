{
  "metadata": {
    "kernelspec": {
      "language": "python",
      "display_name": "Python 3",
      "name": "python3"
    },
    "language_info": {
      "name": "python",
      "version": "3.10.12",
      "mimetype": "text/x-python",
      "codemirror_mode": {
        "name": "ipython",
        "version": 3
      },
      "pygments_lexer": "ipython3",
      "nbconvert_exporter": "python",
      "file_extension": ".py"
    },
    "kaggle": {
      "accelerator": "none",
      "dataSources": [
        {
          "sourceId": 96400,
          "databundleVersionId": 11455223,
          "sourceType": "competition"
        }
      ],
      "dockerImageVersionId": 30918,
      "isInternetEnabled": true,
      "language": "python",
      "sourceType": "notebook",
      "isGpuEnabled": false
    },
    "colab": {
      "provenance": [],
      "include_colab_link": true
    }
  },
  "nbformat_minor": 0,
  "nbformat": 4,
  "cells": [
    {
      "cell_type": "markdown",
      "metadata": {
        "id": "view-in-github",
        "colab_type": "text"
      },
      "source": [
        "<a href=\"https://colab.research.google.com/github/johanamcr/RetoCAMAMA/blob/main/support_vector_classification.ipynb\" target=\"_parent\"><img src=\"https://colab.research.google.com/assets/colab-badge.svg\" alt=\"Open In Colab\"/></a>"
      ]
    },
    {
      "cell_type": "markdown",
      "source": [
        "# Modeling de Cancer de Mama\n",
        "\n",
        "Se prueban inicialmente bajo un train/validation/split los modelos de:\n",
        "\n",
        "Ahora iniciaremos con modelos de ensamble\n",
        "\n",
        "  * SVC\n",
        "\n",
        "Y ejecutaremos los visto en las clases anteriores\n",
        "\n",
        "  * Regresión Logística\n",
        "  * Knn\n",
        "  * CART\n",
        "  * ID3\n",
        "  * CHAID\n",
        "  * Bagging\n",
        "  * Random Forest\n",
        "  * AdaBoost\n",
        "  * XGBoost\n",
        "  * LightGBM"
      ],
      "metadata": {
        "id": "tpUuWf5owjJj"
      }
    },
    {
      "cell_type": "code",
      "source": [
        "# Upload your kaggle.json file (contains API key)\n",
        "from google.colab import files\n",
        "files.upload()"
      ],
      "metadata": {
        "colab": {
          "base_uri": "https://localhost:8080/",
          "height": 91
        },
        "id": "wtk_3hP-wo3C",
        "outputId": "d37eaf50-9320-4a7b-dd0b-dd8b6d4be21f"
      },
      "execution_count": null,
      "outputs": [
        {
          "output_type": "display_data",
          "data": {
            "text/plain": [
              "<IPython.core.display.HTML object>"
            ],
            "text/html": [
              "\n",
              "     <input type=\"file\" id=\"files-0fafdd8a-bf69-4287-b3e5-8231be5628a5\" name=\"files[]\" multiple disabled\n",
              "        style=\"border:none\" />\n",
              "     <output id=\"result-0fafdd8a-bf69-4287-b3e5-8231be5628a5\">\n",
              "      Upload widget is only available when the cell has been executed in the\n",
              "      current browser session. Please rerun this cell to enable.\n",
              "      </output>\n",
              "      <script>// Copyright 2017 Google LLC\n",
              "//\n",
              "// Licensed under the Apache License, Version 2.0 (the \"License\");\n",
              "// you may not use this file except in compliance with the License.\n",
              "// You may obtain a copy of the License at\n",
              "//\n",
              "//      http://www.apache.org/licenses/LICENSE-2.0\n",
              "//\n",
              "// Unless required by applicable law or agreed to in writing, software\n",
              "// distributed under the License is distributed on an \"AS IS\" BASIS,\n",
              "// WITHOUT WARRANTIES OR CONDITIONS OF ANY KIND, either express or implied.\n",
              "// See the License for the specific language governing permissions and\n",
              "// limitations under the License.\n",
              "\n",
              "/**\n",
              " * @fileoverview Helpers for google.colab Python module.\n",
              " */\n",
              "(function(scope) {\n",
              "function span(text, styleAttributes = {}) {\n",
              "  const element = document.createElement('span');\n",
              "  element.textContent = text;\n",
              "  for (const key of Object.keys(styleAttributes)) {\n",
              "    element.style[key] = styleAttributes[key];\n",
              "  }\n",
              "  return element;\n",
              "}\n",
              "\n",
              "// Max number of bytes which will be uploaded at a time.\n",
              "const MAX_PAYLOAD_SIZE = 100 * 1024;\n",
              "\n",
              "function _uploadFiles(inputId, outputId) {\n",
              "  const steps = uploadFilesStep(inputId, outputId);\n",
              "  const outputElement = document.getElementById(outputId);\n",
              "  // Cache steps on the outputElement to make it available for the next call\n",
              "  // to uploadFilesContinue from Python.\n",
              "  outputElement.steps = steps;\n",
              "\n",
              "  return _uploadFilesContinue(outputId);\n",
              "}\n",
              "\n",
              "// This is roughly an async generator (not supported in the browser yet),\n",
              "// where there are multiple asynchronous steps and the Python side is going\n",
              "// to poll for completion of each step.\n",
              "// This uses a Promise to block the python side on completion of each step,\n",
              "// then passes the result of the previous step as the input to the next step.\n",
              "function _uploadFilesContinue(outputId) {\n",
              "  const outputElement = document.getElementById(outputId);\n",
              "  const steps = outputElement.steps;\n",
              "\n",
              "  const next = steps.next(outputElement.lastPromiseValue);\n",
              "  return Promise.resolve(next.value.promise).then((value) => {\n",
              "    // Cache the last promise value to make it available to the next\n",
              "    // step of the generator.\n",
              "    outputElement.lastPromiseValue = value;\n",
              "    return next.value.response;\n",
              "  });\n",
              "}\n",
              "\n",
              "/**\n",
              " * Generator function which is called between each async step of the upload\n",
              " * process.\n",
              " * @param {string} inputId Element ID of the input file picker element.\n",
              " * @param {string} outputId Element ID of the output display.\n",
              " * @return {!Iterable<!Object>} Iterable of next steps.\n",
              " */\n",
              "function* uploadFilesStep(inputId, outputId) {\n",
              "  const inputElement = document.getElementById(inputId);\n",
              "  inputElement.disabled = false;\n",
              "\n",
              "  const outputElement = document.getElementById(outputId);\n",
              "  outputElement.innerHTML = '';\n",
              "\n",
              "  const pickedPromise = new Promise((resolve) => {\n",
              "    inputElement.addEventListener('change', (e) => {\n",
              "      resolve(e.target.files);\n",
              "    });\n",
              "  });\n",
              "\n",
              "  const cancel = document.createElement('button');\n",
              "  inputElement.parentElement.appendChild(cancel);\n",
              "  cancel.textContent = 'Cancel upload';\n",
              "  const cancelPromise = new Promise((resolve) => {\n",
              "    cancel.onclick = () => {\n",
              "      resolve(null);\n",
              "    };\n",
              "  });\n",
              "\n",
              "  // Wait for the user to pick the files.\n",
              "  const files = yield {\n",
              "    promise: Promise.race([pickedPromise, cancelPromise]),\n",
              "    response: {\n",
              "      action: 'starting',\n",
              "    }\n",
              "  };\n",
              "\n",
              "  cancel.remove();\n",
              "\n",
              "  // Disable the input element since further picks are not allowed.\n",
              "  inputElement.disabled = true;\n",
              "\n",
              "  if (!files) {\n",
              "    return {\n",
              "      response: {\n",
              "        action: 'complete',\n",
              "      }\n",
              "    };\n",
              "  }\n",
              "\n",
              "  for (const file of files) {\n",
              "    const li = document.createElement('li');\n",
              "    li.append(span(file.name, {fontWeight: 'bold'}));\n",
              "    li.append(span(\n",
              "        `(${file.type || 'n/a'}) - ${file.size} bytes, ` +\n",
              "        `last modified: ${\n",
              "            file.lastModifiedDate ? file.lastModifiedDate.toLocaleDateString() :\n",
              "                                    'n/a'} - `));\n",
              "    const percent = span('0% done');\n",
              "    li.appendChild(percent);\n",
              "\n",
              "    outputElement.appendChild(li);\n",
              "\n",
              "    const fileDataPromise = new Promise((resolve) => {\n",
              "      const reader = new FileReader();\n",
              "      reader.onload = (e) => {\n",
              "        resolve(e.target.result);\n",
              "      };\n",
              "      reader.readAsArrayBuffer(file);\n",
              "    });\n",
              "    // Wait for the data to be ready.\n",
              "    let fileData = yield {\n",
              "      promise: fileDataPromise,\n",
              "      response: {\n",
              "        action: 'continue',\n",
              "      }\n",
              "    };\n",
              "\n",
              "    // Use a chunked sending to avoid message size limits. See b/62115660.\n",
              "    let position = 0;\n",
              "    do {\n",
              "      const length = Math.min(fileData.byteLength - position, MAX_PAYLOAD_SIZE);\n",
              "      const chunk = new Uint8Array(fileData, position, length);\n",
              "      position += length;\n",
              "\n",
              "      const base64 = btoa(String.fromCharCode.apply(null, chunk));\n",
              "      yield {\n",
              "        response: {\n",
              "          action: 'append',\n",
              "          file: file.name,\n",
              "          data: base64,\n",
              "        },\n",
              "      };\n",
              "\n",
              "      let percentDone = fileData.byteLength === 0 ?\n",
              "          100 :\n",
              "          Math.round((position / fileData.byteLength) * 100);\n",
              "      percent.textContent = `${percentDone}% done`;\n",
              "\n",
              "    } while (position < fileData.byteLength);\n",
              "  }\n",
              "\n",
              "  // All done.\n",
              "  yield {\n",
              "    response: {\n",
              "      action: 'complete',\n",
              "    }\n",
              "  };\n",
              "}\n",
              "\n",
              "scope.google = scope.google || {};\n",
              "scope.google.colab = scope.google.colab || {};\n",
              "scope.google.colab._files = {\n",
              "  _uploadFiles,\n",
              "  _uploadFilesContinue,\n",
              "};\n",
              "})(self);\n",
              "</script> "
            ]
          },
          "metadata": {}
        },
        {
          "output_type": "stream",
          "name": "stdout",
          "text": [
            "Saving kaggle.json to kaggle.json\n"
          ]
        },
        {
          "output_type": "execute_result",
          "data": {
            "text/plain": [
              "{'kaggle.json': b'{\"username\":\"danipipe777\",\"key\":\"5f9066e7b2a5b13bcb2554c8a4d363f0\"}'}"
            ]
          },
          "metadata": {},
          "execution_count": 1
        }
      ]
    },
    {
      "cell_type": "code",
      "source": [
        "# Make directory and move kaggle.json\n",
        "!mkdir -p ~/.kaggle\n",
        "!mv kaggle.json ~/.kaggle/\n",
        "\n",
        "# Set permissions\n",
        "!chmod 600 ~/.kaggle/kaggle.json\n",
        "\n",
        "!kaggle competitions download -c fa-i-2025-i-modelos-tradicionales-ca-mamaII\n",
        "\n",
        "!unzip fa-i-2025-i-modelos-tradicionales-ca-mamaII"
      ],
      "metadata": {
        "colab": {
          "base_uri": "https://localhost:8080/"
        },
        "id": "4vv3SrHiwtK1",
        "outputId": "cb52c003-de91-4401-91d0-92aab00a6f0e"
      },
      "execution_count": null,
      "outputs": [
        {
          "output_type": "stream",
          "name": "stdout",
          "text": [
            "Archive:  fa-i-2025-i-modelos-tradicionales-ca-mamaII.zip\n",
            "  inflating: Diccionario.xlsx        \n",
            "  inflating: df_test.parquet         \n",
            "  inflating: df_train.parquet        \n",
            "  inflating: sample_submission.csv   \n"
          ]
        }
      ]
    },
    {
      "cell_type": "markdown",
      "source": [
        "## Importamos Librerias"
      ],
      "metadata": {
        "id": "6dNkhkRqwjJl"
      }
    },
    {
      "cell_type": "code",
      "source": [
        "import numpy as np  # Algebra lineal, manipulación de arreglos numéricos.\n",
        "import pandas as pd  # Procesamiento de datos, lectura/escritura de archivos CSV.\n",
        "import os.path as osp  # Manejo de rutas de archivos.\n",
        "import pickle  # Serialización y deserialización de objetos Python (guardar/cargar modelos).\n",
        "\n",
        "\n",
        "# Modelos de clasificación Adicional\n",
        "\n",
        "from sklearn.svm import SVC\n",
        "\n",
        "# Modelos de clasificación\n",
        "from sklearn.ensemble import BaggingClassifier\n",
        "from sklearn.ensemble import RandomForestClassifier\n",
        "from sklearn.ensemble import AdaBoostClassifier\n",
        "from xgboost import XGBClassifier\n",
        "import lightgbm as lgb\n",
        "from sklearn import tree\n",
        "from sklearn.linear_model import LogisticRegression  # Modelo de regresión logística para clasificación binaria.\n",
        "from sklearn.neighbors import KNeighborsClassifier  # K-Nearest Neighbors (KNN) para clasificación basada en distancia.\n",
        "from sklearn.naive_bayes import GaussianNB  # Clasificador Naive Bayes basado en distribución Gaussiana.\n",
        "\n",
        "# Preprocesamiento de datos\n",
        "from sklearn.preprocessing import OneHotEncoder  # Codificación one-hot para variables categóricas nominales.\n",
        "from sklearn.preprocessing import OrdinalEncoder  # Codificación ordinal para variables categóricas con orden.\n",
        "from sklearn.preprocessing import StandardScaler  # Normalización de datos para mejorar el rendimiento del modelo.\n",
        "from sklearn.preprocessing import FunctionTransformer  # Aplicación de transformaciones personalizadas.\n",
        "\n",
        "# División del conjunto de datos\n",
        "from sklearn.model_selection import train_test_split  # División en conjunto de entrenamiento y prueba.\n",
        "\n",
        "# Selección de características\n",
        "from sklearn.feature_selection import VarianceThreshold  # Elimina características con varianza baja (irrelevantes).\n",
        "from sklearn.feature_selection import SelectPercentile, chi2  # Selección de características más relevantes con Chi-cuadrado.\n",
        "\n",
        "# Construcción del pipeline de procesamiento y modelado\n",
        "from sklearn.compose import ColumnTransformer  # Aplica transformaciones específicas a diferentes columnas.\n",
        "from sklearn.pipeline import Pipeline, make_pipeline  # Automatiza el flujo de preprocesamiento y modelado.\n",
        "\n",
        "# Manejo de valores faltantes\n",
        "from sklearn.impute import SimpleImputer  # Rellena valores faltantes con media, mediana, moda, etc.\n",
        "\n",
        "# Evaluación de modelos\n",
        "import sklearn.metrics as skm  # Métricas de rendimiento como precisión, recall, F1-score, AUC-ROC, etc.\n",
        "\n",
        "# Visualización de datos\n",
        "import matplotlib.pyplot as plt  # Gráficos y visualización de métricas.\n",
        "import seaborn as sns  # Visualización avanzada con gráficos estadísticos.\n",
        "\n",
        "# Medición de tiempos de ejecución\n",
        "from time import time  # Captura de tiempo de inicio y fin de ejecución.\n",
        "from datetime import timedelta  # Cálculo de diferencias de tiempo en ejecución.\n",
        "\n",
        "# Input data files are available in the read-only \"../input/\" directory\n",
        "# For example, running this (by clicking run or pressing Shift+Enter) will list all files under the input directory\n",
        "\n",
        "import os\n",
        "for dirname, _, filenames in os.walk('/kaggle/input'):\n",
        "    for filename in filenames:\n",
        "        print(os.path.join(dirname, filename))\n",
        "\n",
        "# You can write up to 20GB to the current directory (/kaggle/working/) that gets preserved as output when you create a version using \"Save & Run All\"\n",
        "# You can also write temporary files to /kaggle/temp/, but they won't be saved outside of the current session"
      ],
      "metadata": {
        "_uuid": "8f2839f25d086af736a60e9eeb907d3b93b6e0e5",
        "_cell_guid": "b1076dfc-b9ad-4769-8c92-a6c4dae69d19",
        "trusted": true,
        "execution": {
          "iopub.status.busy": "2025-03-20T13:09:29.113312Z",
          "iopub.execute_input": "2025-03-20T13:09:29.113708Z",
          "iopub.status.idle": "2025-03-20T13:09:35.281698Z",
          "shell.execute_reply.started": "2025-03-20T13:09:29.113676Z",
          "shell.execute_reply": "2025-03-20T13:09:35.280046Z"
        },
        "id": "wJoCKSviwjJl"
      },
      "outputs": [],
      "execution_count": null
    },
    {
      "cell_type": "markdown",
      "source": [
        "## Funciones útiles"
      ],
      "metadata": {
        "id": "7jrRV55kwjJm"
      }
    },
    {
      "cell_type": "code",
      "source": [
        "def get_imbalaced_metrics(y_true, y_preds):\n",
        "    '''calcula métricas de evaluación para modelos de clasificación cuando los datos están desbalanceados.'''\n",
        "    ths = np.linspace(0, 1, 1000)\n",
        "    best_th = ths[\n",
        "        np.argmax([skm.f1_score(y_true, y_preds>th) for th in ths])\n",
        "    ]\n",
        "\n",
        "    roc_auc = skm.roc_auc_score(y_true, y_preds)\n",
        "    average_precision = skm.average_precision_score(y_true, y_preds)\n",
        "    max_f1 = skm.f1_score(y_true, y_preds>best_th)\n",
        "    accuracy_on_max_f1 = skm.accuracy_score(y_true, y_preds>best_th)\n",
        "    kappa = skm.cohen_kappa_score(y_true, y_preds>best_th)\n",
        "    baseline=y_true.value_counts(True)\n",
        "\n",
        "\n",
        "    return dict(\n",
        "        roc_auc=roc_auc,\n",
        "        average_precision=average_precision,\n",
        "        max_f1=max_f1,\n",
        "        accuracy_on_max_f1=accuracy_on_max_f1,\n",
        "        kappa=kappa,\n",
        "        baseline=baseline.iloc[0],\n",
        "        best_th = best_th\n",
        "    )"
      ],
      "metadata": {
        "trusted": true,
        "execution": {
          "iopub.status.busy": "2025-03-20T13:09:35.283276Z",
          "iopub.execute_input": "2025-03-20T13:09:35.284086Z",
          "iopub.status.idle": "2025-03-20T13:09:35.291277Z",
          "shell.execute_reply.started": "2025-03-20T13:09:35.283934Z",
          "shell.execute_reply": "2025-03-20T13:09:35.289951Z"
        },
        "id": "BVEJ-3zHwjJn"
      },
      "outputs": [],
      "execution_count": null
    },
    {
      "cell_type": "markdown",
      "source": [
        "## Carga de Datos\n",
        "\n",
        "Este fragmento de código carga los datos del conjunto de entrenamiento (df_train.parquet) desde un directorio en Kaggle."
      ],
      "metadata": {
        "id": "y1qJQEMUwjJn"
      }
    },
    {
      "cell_type": "code",
      "source": [
        "df = pd.read_parquet(\"df_train.parquet\")\n",
        "df.head()"
      ],
      "metadata": {
        "trusted": true,
        "execution": {
          "iopub.status.busy": "2025-03-20T13:09:35.293902Z",
          "iopub.execute_input": "2025-03-20T13:09:35.294355Z",
          "iopub.status.idle": "2025-03-20T13:09:35.489539Z",
          "shell.execute_reply.started": "2025-03-20T13:09:35.294309Z",
          "shell.execute_reply": "2025-03-20T13:09:35.488347Z"
        },
        "colab": {
          "base_uri": "https://localhost:8080/",
          "height": 286
        },
        "id": "r4axw-KVwjJn",
        "outputId": "e28b263e-f75c-42b2-97d0-f1e3aea07feb"
      },
      "outputs": [
        {
          "output_type": "execute_result",
          "data": {
            "text/plain": [
              "     GENERO ESTADO_CIVIL FECHA_NACIMIENTO CODIGO_SEDE MULTI_CANCER CESION  \\\n",
              "ID                                                                          \n",
              "2987      F           SO       1977-01-17        1051         None      0   \n",
              "3423      F           CA       1980-10-13        1028         None      0   \n",
              "6981      F           SO       1951-10-28        1022         None      0   \n",
              "6701      F           SO       1984-03-31        1026         None      0   \n",
              "7361      F           UL       1974-03-28        1007         None      0   \n",
              "\n",
              "      RIESGOS CANCER_MAMA_FAMILIAR CANCER_OTRO_SITIO  \\\n",
              "ID                                                     \n",
              "2987      2.0                    0                 0   \n",
              "3423      1.0                    0                 0   \n",
              "6981      3.0                    0                 0   \n",
              "6701      1.0                    0                 0   \n",
              "7361      1.0                    0                 0   \n",
              "\n",
              "     CANCER_OTRO_SITIO_FAMILIAR  ... radioterapias_cancer  \\\n",
              "ID                               ...                        \n",
              "2987                          1  ...                  0.0   \n",
              "3423                          0  ...                  0.0   \n",
              "6981                          0  ...                  0.0   \n",
              "6701                          0  ...                  0.0   \n",
              "7361                          0  ...                  0.0   \n",
              "\n",
              "     quimioterapias__cancer  hormonoterapias__cancer  \\\n",
              "ID                                                     \n",
              "2987                    0.0                      0.0   \n",
              "3423                    0.0                      0.0   \n",
              "6981                    0.0                      0.0   \n",
              "6701                    0.0                      0.0   \n",
              "7361                    1.0                      0.0   \n",
              "\n",
              "      cuidado_palitiavo__cancer inmunoterapias_cancer  \\\n",
              "ID                                                      \n",
              "2987                        0.0                   0.0   \n",
              "3423                        0.0                   0.0   \n",
              "6981                        0.0                   0.0   \n",
              "6701                        0.0                   0.0   \n",
              "7361                        0.0                   0.0   \n",
              "\n",
              "      Citas_oncologicas_cancer  psiquiatria_cancer psicologia_cancer  \\\n",
              "ID                                                                     \n",
              "2987                       2.0                 0.0               0.0   \n",
              "3423                       5.0                 1.0               1.0   \n",
              "6981                       0.0                 0.0               0.0   \n",
              "6701                       4.0                 0.0               0.0   \n",
              "7361                       7.0                 0.0               0.0   \n",
              "\n",
              "      nutricion_cancer       atencion_nutricion  \n",
              "ID                                               \n",
              "2987               0.0  Sin servicios nutricion  \n",
              "3423               0.0  Sin servicios nutricion  \n",
              "6981               1.0   Una servicio nutricion  \n",
              "6701               0.0  Sin servicios nutricion  \n",
              "7361               0.0  Sin servicios nutricion  \n",
              "\n",
              "[5 rows x 42 columns]"
            ],
            "text/html": [
              "\n",
              "  <div id=\"df-2ed09864-a1e8-4d10-b311-96bda4aaeef7\" class=\"colab-df-container\">\n",
              "    <div>\n",
              "<style scoped>\n",
              "    .dataframe tbody tr th:only-of-type {\n",
              "        vertical-align: middle;\n",
              "    }\n",
              "\n",
              "    .dataframe tbody tr th {\n",
              "        vertical-align: top;\n",
              "    }\n",
              "\n",
              "    .dataframe thead th {\n",
              "        text-align: right;\n",
              "    }\n",
              "</style>\n",
              "<table border=\"1\" class=\"dataframe\">\n",
              "  <thead>\n",
              "    <tr style=\"text-align: right;\">\n",
              "      <th></th>\n",
              "      <th>GENERO</th>\n",
              "      <th>ESTADO_CIVIL</th>\n",
              "      <th>FECHA_NACIMIENTO</th>\n",
              "      <th>CODIGO_SEDE</th>\n",
              "      <th>MULTI_CANCER</th>\n",
              "      <th>CESION</th>\n",
              "      <th>RIESGOS</th>\n",
              "      <th>CANCER_MAMA_FAMILIAR</th>\n",
              "      <th>CANCER_OTRO_SITIO</th>\n",
              "      <th>CANCER_OTRO_SITIO_FAMILIAR</th>\n",
              "      <th>...</th>\n",
              "      <th>radioterapias_cancer</th>\n",
              "      <th>quimioterapias__cancer</th>\n",
              "      <th>hormonoterapias__cancer</th>\n",
              "      <th>cuidado_palitiavo__cancer</th>\n",
              "      <th>inmunoterapias_cancer</th>\n",
              "      <th>Citas_oncologicas_cancer</th>\n",
              "      <th>psiquiatria_cancer</th>\n",
              "      <th>psicologia_cancer</th>\n",
              "      <th>nutricion_cancer</th>\n",
              "      <th>atencion_nutricion</th>\n",
              "    </tr>\n",
              "    <tr>\n",
              "      <th>ID</th>\n",
              "      <th></th>\n",
              "      <th></th>\n",
              "      <th></th>\n",
              "      <th></th>\n",
              "      <th></th>\n",
              "      <th></th>\n",
              "      <th></th>\n",
              "      <th></th>\n",
              "      <th></th>\n",
              "      <th></th>\n",
              "      <th></th>\n",
              "      <th></th>\n",
              "      <th></th>\n",
              "      <th></th>\n",
              "      <th></th>\n",
              "      <th></th>\n",
              "      <th></th>\n",
              "      <th></th>\n",
              "      <th></th>\n",
              "      <th></th>\n",
              "      <th></th>\n",
              "    </tr>\n",
              "  </thead>\n",
              "  <tbody>\n",
              "    <tr>\n",
              "      <th>2987</th>\n",
              "      <td>F</td>\n",
              "      <td>SO</td>\n",
              "      <td>1977-01-17</td>\n",
              "      <td>1051</td>\n",
              "      <td>None</td>\n",
              "      <td>0</td>\n",
              "      <td>2.0</td>\n",
              "      <td>0</td>\n",
              "      <td>0</td>\n",
              "      <td>1</td>\n",
              "      <td>...</td>\n",
              "      <td>0.0</td>\n",
              "      <td>0.0</td>\n",
              "      <td>0.0</td>\n",
              "      <td>0.0</td>\n",
              "      <td>0.0</td>\n",
              "      <td>2.0</td>\n",
              "      <td>0.0</td>\n",
              "      <td>0.0</td>\n",
              "      <td>0.0</td>\n",
              "      <td>Sin servicios nutricion</td>\n",
              "    </tr>\n",
              "    <tr>\n",
              "      <th>3423</th>\n",
              "      <td>F</td>\n",
              "      <td>CA</td>\n",
              "      <td>1980-10-13</td>\n",
              "      <td>1028</td>\n",
              "      <td>None</td>\n",
              "      <td>0</td>\n",
              "      <td>1.0</td>\n",
              "      <td>0</td>\n",
              "      <td>0</td>\n",
              "      <td>0</td>\n",
              "      <td>...</td>\n",
              "      <td>0.0</td>\n",
              "      <td>0.0</td>\n",
              "      <td>0.0</td>\n",
              "      <td>0.0</td>\n",
              "      <td>0.0</td>\n",
              "      <td>5.0</td>\n",
              "      <td>1.0</td>\n",
              "      <td>1.0</td>\n",
              "      <td>0.0</td>\n",
              "      <td>Sin servicios nutricion</td>\n",
              "    </tr>\n",
              "    <tr>\n",
              "      <th>6981</th>\n",
              "      <td>F</td>\n",
              "      <td>SO</td>\n",
              "      <td>1951-10-28</td>\n",
              "      <td>1022</td>\n",
              "      <td>None</td>\n",
              "      <td>0</td>\n",
              "      <td>3.0</td>\n",
              "      <td>0</td>\n",
              "      <td>0</td>\n",
              "      <td>0</td>\n",
              "      <td>...</td>\n",
              "      <td>0.0</td>\n",
              "      <td>0.0</td>\n",
              "      <td>0.0</td>\n",
              "      <td>0.0</td>\n",
              "      <td>0.0</td>\n",
              "      <td>0.0</td>\n",
              "      <td>0.0</td>\n",
              "      <td>0.0</td>\n",
              "      <td>1.0</td>\n",
              "      <td>Una servicio nutricion</td>\n",
              "    </tr>\n",
              "    <tr>\n",
              "      <th>6701</th>\n",
              "      <td>F</td>\n",
              "      <td>SO</td>\n",
              "      <td>1984-03-31</td>\n",
              "      <td>1026</td>\n",
              "      <td>None</td>\n",
              "      <td>0</td>\n",
              "      <td>1.0</td>\n",
              "      <td>0</td>\n",
              "      <td>0</td>\n",
              "      <td>0</td>\n",
              "      <td>...</td>\n",
              "      <td>0.0</td>\n",
              "      <td>0.0</td>\n",
              "      <td>0.0</td>\n",
              "      <td>0.0</td>\n",
              "      <td>0.0</td>\n",
              "      <td>4.0</td>\n",
              "      <td>0.0</td>\n",
              "      <td>0.0</td>\n",
              "      <td>0.0</td>\n",
              "      <td>Sin servicios nutricion</td>\n",
              "    </tr>\n",
              "    <tr>\n",
              "      <th>7361</th>\n",
              "      <td>F</td>\n",
              "      <td>UL</td>\n",
              "      <td>1974-03-28</td>\n",
              "      <td>1007</td>\n",
              "      <td>None</td>\n",
              "      <td>0</td>\n",
              "      <td>1.0</td>\n",
              "      <td>0</td>\n",
              "      <td>0</td>\n",
              "      <td>0</td>\n",
              "      <td>...</td>\n",
              "      <td>0.0</td>\n",
              "      <td>1.0</td>\n",
              "      <td>0.0</td>\n",
              "      <td>0.0</td>\n",
              "      <td>0.0</td>\n",
              "      <td>7.0</td>\n",
              "      <td>0.0</td>\n",
              "      <td>0.0</td>\n",
              "      <td>0.0</td>\n",
              "      <td>Sin servicios nutricion</td>\n",
              "    </tr>\n",
              "  </tbody>\n",
              "</table>\n",
              "<p>5 rows × 42 columns</p>\n",
              "</div>\n",
              "    <div class=\"colab-df-buttons\">\n",
              "\n",
              "  <div class=\"colab-df-container\">\n",
              "    <button class=\"colab-df-convert\" onclick=\"convertToInteractive('df-2ed09864-a1e8-4d10-b311-96bda4aaeef7')\"\n",
              "            title=\"Convert this dataframe to an interactive table.\"\n",
              "            style=\"display:none;\">\n",
              "\n",
              "  <svg xmlns=\"http://www.w3.org/2000/svg\" height=\"24px\" viewBox=\"0 -960 960 960\">\n",
              "    <path d=\"M120-120v-720h720v720H120Zm60-500h600v-160H180v160Zm220 220h160v-160H400v160Zm0 220h160v-160H400v160ZM180-400h160v-160H180v160Zm440 0h160v-160H620v160ZM180-180h160v-160H180v160Zm440 0h160v-160H620v160Z\"/>\n",
              "  </svg>\n",
              "    </button>\n",
              "\n",
              "  <style>\n",
              "    .colab-df-container {\n",
              "      display:flex;\n",
              "      gap: 12px;\n",
              "    }\n",
              "\n",
              "    .colab-df-convert {\n",
              "      background-color: #E8F0FE;\n",
              "      border: none;\n",
              "      border-radius: 50%;\n",
              "      cursor: pointer;\n",
              "      display: none;\n",
              "      fill: #1967D2;\n",
              "      height: 32px;\n",
              "      padding: 0 0 0 0;\n",
              "      width: 32px;\n",
              "    }\n",
              "\n",
              "    .colab-df-convert:hover {\n",
              "      background-color: #E2EBFA;\n",
              "      box-shadow: 0px 1px 2px rgba(60, 64, 67, 0.3), 0px 1px 3px 1px rgba(60, 64, 67, 0.15);\n",
              "      fill: #174EA6;\n",
              "    }\n",
              "\n",
              "    .colab-df-buttons div {\n",
              "      margin-bottom: 4px;\n",
              "    }\n",
              "\n",
              "    [theme=dark] .colab-df-convert {\n",
              "      background-color: #3B4455;\n",
              "      fill: #D2E3FC;\n",
              "    }\n",
              "\n",
              "    [theme=dark] .colab-df-convert:hover {\n",
              "      background-color: #434B5C;\n",
              "      box-shadow: 0px 1px 3px 1px rgba(0, 0, 0, 0.15);\n",
              "      filter: drop-shadow(0px 1px 2px rgba(0, 0, 0, 0.3));\n",
              "      fill: #FFFFFF;\n",
              "    }\n",
              "  </style>\n",
              "\n",
              "    <script>\n",
              "      const buttonEl =\n",
              "        document.querySelector('#df-2ed09864-a1e8-4d10-b311-96bda4aaeef7 button.colab-df-convert');\n",
              "      buttonEl.style.display =\n",
              "        google.colab.kernel.accessAllowed ? 'block' : 'none';\n",
              "\n",
              "      async function convertToInteractive(key) {\n",
              "        const element = document.querySelector('#df-2ed09864-a1e8-4d10-b311-96bda4aaeef7');\n",
              "        const dataTable =\n",
              "          await google.colab.kernel.invokeFunction('convertToInteractive',\n",
              "                                                    [key], {});\n",
              "        if (!dataTable) return;\n",
              "\n",
              "        const docLinkHtml = 'Like what you see? Visit the ' +\n",
              "          '<a target=\"_blank\" href=https://colab.research.google.com/notebooks/data_table.ipynb>data table notebook</a>'\n",
              "          + ' to learn more about interactive tables.';\n",
              "        element.innerHTML = '';\n",
              "        dataTable['output_type'] = 'display_data';\n",
              "        await google.colab.output.renderOutput(dataTable, element);\n",
              "        const docLink = document.createElement('div');\n",
              "        docLink.innerHTML = docLinkHtml;\n",
              "        element.appendChild(docLink);\n",
              "      }\n",
              "    </script>\n",
              "  </div>\n",
              "\n",
              "\n",
              "    <div id=\"df-a65ec5a6-ab92-4417-bfa6-9f1e89062bd0\">\n",
              "      <button class=\"colab-df-quickchart\" onclick=\"quickchart('df-a65ec5a6-ab92-4417-bfa6-9f1e89062bd0')\"\n",
              "                title=\"Suggest charts\"\n",
              "                style=\"display:none;\">\n",
              "\n",
              "<svg xmlns=\"http://www.w3.org/2000/svg\" height=\"24px\"viewBox=\"0 0 24 24\"\n",
              "     width=\"24px\">\n",
              "    <g>\n",
              "        <path d=\"M19 3H5c-1.1 0-2 .9-2 2v14c0 1.1.9 2 2 2h14c1.1 0 2-.9 2-2V5c0-1.1-.9-2-2-2zM9 17H7v-7h2v7zm4 0h-2V7h2v10zm4 0h-2v-4h2v4z\"/>\n",
              "    </g>\n",
              "</svg>\n",
              "      </button>\n",
              "\n",
              "<style>\n",
              "  .colab-df-quickchart {\n",
              "      --bg-color: #E8F0FE;\n",
              "      --fill-color: #1967D2;\n",
              "      --hover-bg-color: #E2EBFA;\n",
              "      --hover-fill-color: #174EA6;\n",
              "      --disabled-fill-color: #AAA;\n",
              "      --disabled-bg-color: #DDD;\n",
              "  }\n",
              "\n",
              "  [theme=dark] .colab-df-quickchart {\n",
              "      --bg-color: #3B4455;\n",
              "      --fill-color: #D2E3FC;\n",
              "      --hover-bg-color: #434B5C;\n",
              "      --hover-fill-color: #FFFFFF;\n",
              "      --disabled-bg-color: #3B4455;\n",
              "      --disabled-fill-color: #666;\n",
              "  }\n",
              "\n",
              "  .colab-df-quickchart {\n",
              "    background-color: var(--bg-color);\n",
              "    border: none;\n",
              "    border-radius: 50%;\n",
              "    cursor: pointer;\n",
              "    display: none;\n",
              "    fill: var(--fill-color);\n",
              "    height: 32px;\n",
              "    padding: 0;\n",
              "    width: 32px;\n",
              "  }\n",
              "\n",
              "  .colab-df-quickchart:hover {\n",
              "    background-color: var(--hover-bg-color);\n",
              "    box-shadow: 0 1px 2px rgba(60, 64, 67, 0.3), 0 1px 3px 1px rgba(60, 64, 67, 0.15);\n",
              "    fill: var(--button-hover-fill-color);\n",
              "  }\n",
              "\n",
              "  .colab-df-quickchart-complete:disabled,\n",
              "  .colab-df-quickchart-complete:disabled:hover {\n",
              "    background-color: var(--disabled-bg-color);\n",
              "    fill: var(--disabled-fill-color);\n",
              "    box-shadow: none;\n",
              "  }\n",
              "\n",
              "  .colab-df-spinner {\n",
              "    border: 2px solid var(--fill-color);\n",
              "    border-color: transparent;\n",
              "    border-bottom-color: var(--fill-color);\n",
              "    animation:\n",
              "      spin 1s steps(1) infinite;\n",
              "  }\n",
              "\n",
              "  @keyframes spin {\n",
              "    0% {\n",
              "      border-color: transparent;\n",
              "      border-bottom-color: var(--fill-color);\n",
              "      border-left-color: var(--fill-color);\n",
              "    }\n",
              "    20% {\n",
              "      border-color: transparent;\n",
              "      border-left-color: var(--fill-color);\n",
              "      border-top-color: var(--fill-color);\n",
              "    }\n",
              "    30% {\n",
              "      border-color: transparent;\n",
              "      border-left-color: var(--fill-color);\n",
              "      border-top-color: var(--fill-color);\n",
              "      border-right-color: var(--fill-color);\n",
              "    }\n",
              "    40% {\n",
              "      border-color: transparent;\n",
              "      border-right-color: var(--fill-color);\n",
              "      border-top-color: var(--fill-color);\n",
              "    }\n",
              "    60% {\n",
              "      border-color: transparent;\n",
              "      border-right-color: var(--fill-color);\n",
              "    }\n",
              "    80% {\n",
              "      border-color: transparent;\n",
              "      border-right-color: var(--fill-color);\n",
              "      border-bottom-color: var(--fill-color);\n",
              "    }\n",
              "    90% {\n",
              "      border-color: transparent;\n",
              "      border-bottom-color: var(--fill-color);\n",
              "    }\n",
              "  }\n",
              "</style>\n",
              "\n",
              "      <script>\n",
              "        async function quickchart(key) {\n",
              "          const quickchartButtonEl =\n",
              "            document.querySelector('#' + key + ' button');\n",
              "          quickchartButtonEl.disabled = true;  // To prevent multiple clicks.\n",
              "          quickchartButtonEl.classList.add('colab-df-spinner');\n",
              "          try {\n",
              "            const charts = await google.colab.kernel.invokeFunction(\n",
              "                'suggestCharts', [key], {});\n",
              "          } catch (error) {\n",
              "            console.error('Error during call to suggestCharts:', error);\n",
              "          }\n",
              "          quickchartButtonEl.classList.remove('colab-df-spinner');\n",
              "          quickchartButtonEl.classList.add('colab-df-quickchart-complete');\n",
              "        }\n",
              "        (() => {\n",
              "          let quickchartButtonEl =\n",
              "            document.querySelector('#df-a65ec5a6-ab92-4417-bfa6-9f1e89062bd0 button');\n",
              "          quickchartButtonEl.style.display =\n",
              "            google.colab.kernel.accessAllowed ? 'block' : 'none';\n",
              "        })();\n",
              "      </script>\n",
              "    </div>\n",
              "\n",
              "    </div>\n",
              "  </div>\n"
            ],
            "application/vnd.google.colaboratory.intrinsic+json": {
              "type": "dataframe",
              "variable_name": "df"
            }
          },
          "metadata": {},
          "execution_count": 5
        }
      ],
      "execution_count": null
    },
    {
      "cell_type": "markdown",
      "source": [
        "Separamos las características (X) y la variable objetivo (y) del conjunto de datos, y luego analiza el balance de clases en la variable objetivo. Del EDA realizado anteriormente ya sabiamos del desbalanceo de nuestra variable objetivo, un 11% de complicaciones."
      ],
      "metadata": {
        "id": "euy6I7p9wjJn"
      }
    },
    {
      "cell_type": "code",
      "source": [
        "X, y = df.drop(columns=\"Target\"), df[\"Target\"]\n",
        "y.value_counts(True) * 100"
      ],
      "metadata": {
        "trusted": true,
        "execution": {
          "iopub.status.busy": "2025-03-20T13:09:37.969587Z",
          "iopub.execute_input": "2025-03-20T13:09:37.969956Z",
          "iopub.status.idle": "2025-03-20T13:09:37.988467Z",
          "shell.execute_reply.started": "2025-03-20T13:09:37.969925Z",
          "shell.execute_reply": "2025-03-20T13:09:37.987097Z"
        },
        "colab": {
          "base_uri": "https://localhost:8080/",
          "height": 178
        },
        "id": "culDCBWOwjJn",
        "outputId": "9b2c0336-342a-49d7-a21d-092b6324aed2"
      },
      "outputs": [
        {
          "output_type": "execute_result",
          "data": {
            "text/plain": [
              "Target\n",
              "0.0    88.697851\n",
              "1.0    11.302149\n",
              "Name: proportion, dtype: float64"
            ],
            "text/html": [
              "<div>\n",
              "<style scoped>\n",
              "    .dataframe tbody tr th:only-of-type {\n",
              "        vertical-align: middle;\n",
              "    }\n",
              "\n",
              "    .dataframe tbody tr th {\n",
              "        vertical-align: top;\n",
              "    }\n",
              "\n",
              "    .dataframe thead th {\n",
              "        text-align: right;\n",
              "    }\n",
              "</style>\n",
              "<table border=\"1\" class=\"dataframe\">\n",
              "  <thead>\n",
              "    <tr style=\"text-align: right;\">\n",
              "      <th></th>\n",
              "      <th>proportion</th>\n",
              "    </tr>\n",
              "    <tr>\n",
              "      <th>Target</th>\n",
              "      <th></th>\n",
              "    </tr>\n",
              "  </thead>\n",
              "  <tbody>\n",
              "    <tr>\n",
              "      <th>0.0</th>\n",
              "      <td>88.697851</td>\n",
              "    </tr>\n",
              "    <tr>\n",
              "      <th>1.0</th>\n",
              "      <td>11.302149</td>\n",
              "    </tr>\n",
              "  </tbody>\n",
              "</table>\n",
              "</div><br><label><b>dtype:</b> float64</label>"
            ]
          },
          "metadata": {},
          "execution_count": 6
        }
      ],
      "execution_count": null
    },
    {
      "cell_type": "markdown",
      "source": [
        "Calculamos la edad de los pacientes al momento de la complicación o corte del analisis."
      ],
      "metadata": {
        "id": "R8HtMgQ0wjJn"
      }
    },
    {
      "cell_type": "code",
      "source": [
        "X['EDAD_COMPLICACION'] = (X['Fecha_cero'] - X['FECHA_NACIMIENTO']).dt.days // 365"
      ],
      "metadata": {
        "trusted": true,
        "execution": {
          "iopub.status.busy": "2025-03-20T13:09:42.150909Z",
          "iopub.execute_input": "2025-03-20T13:09:42.151303Z",
          "iopub.status.idle": "2025-03-20T13:09:42.159481Z",
          "shell.execute_reply.started": "2025-03-20T13:09:42.151272Z",
          "shell.execute_reply": "2025-03-20T13:09:42.158179Z"
        },
        "id": "LrDG9V0_wjJo"
      },
      "outputs": [],
      "execution_count": null
    },
    {
      "cell_type": "markdown",
      "source": [
        "Validamos las variables que tienen mucha nulidad ¿La quitamos? o que nos dice el negocio? Esto es importante para la limpieza y preprocesamiento de datos antes de entrenar modelos de clasificación."
      ],
      "metadata": {
        "id": "Zee84_1_wjJo"
      }
    },
    {
      "cell_type": "code",
      "source": [
        "porcetaje_de_nulidad = (\n",
        "    X.isnull()\n",
        "    .apply(lambda s: s.value_counts(True)).T\n",
        ")\n",
        "\n",
        "porcetaje_de_nulidad.columns = ['not_null', 'null']\n",
        "variables_muy_nulas = porcetaje_de_nulidad.query('null > 0.7').index"
      ],
      "metadata": {
        "trusted": true,
        "execution": {
          "iopub.status.busy": "2025-03-20T13:09:42.841291Z",
          "iopub.execute_input": "2025-03-20T13:09:42.841821Z",
          "iopub.status.idle": "2025-03-20T13:09:42.910679Z",
          "shell.execute_reply.started": "2025-03-20T13:09:42.841773Z",
          "shell.execute_reply": "2025-03-20T13:09:42.909413Z"
        },
        "id": "p8AxHRUjwjJo"
      },
      "outputs": [],
      "execution_count": null
    },
    {
      "cell_type": "markdown",
      "source": [
        "Por conocimiento de negocio, se cambian los tipos de algunas variables"
      ],
      "metadata": {
        "id": "IPYHI26UwjJo"
      }
    },
    {
      "cell_type": "code",
      "source": [
        "columnas_numerico=['MULTI_CANCER','RIESGOS']\n",
        "X[columnas_numerico] = X[columnas_numerico].astype(float)\n",
        "\n",
        "columnas_categ= ['GENERO','ESTADO_CIVIL',\n",
        "                 'CESION','CANCER_MAMA_FAMILIAR',\n",
        "                'CANCER_OTRO_SITIO','CANCER_OTRO_SITIO_FAMILIAR','CEREBRAL_FAMILIAR'\n",
        "                ,'atencion_nutricion'\n",
        "                ]\n",
        "X[columnas_categ] = X[columnas_categ].astype(str)"
      ],
      "metadata": {
        "trusted": true,
        "execution": {
          "iopub.status.busy": "2025-03-20T13:09:43.983186Z",
          "iopub.execute_input": "2025-03-20T13:09:43.983619Z",
          "iopub.status.idle": "2025-03-20T13:09:43.997375Z",
          "shell.execute_reply.started": "2025-03-20T13:09:43.983584Z",
          "shell.execute_reply": "2025-03-20T13:09:43.996124Z"
        },
        "id": "gIRqndAawjJo"
      },
      "outputs": [],
      "execution_count": null
    },
    {
      "cell_type": "markdown",
      "source": [
        "Dividimos el conjunto de datos en entrenamiento y prueba, por ahora, sin implementar un protocolo complejo de evaluación."
      ],
      "metadata": {
        "id": "dcDs3Yj-wjJo"
      }
    },
    {
      "cell_type": "code",
      "source": [
        "X_train, X_test, y_train, y_test = train_test_split(X, y, test_size=0.15, random_state=42)\n"
      ],
      "metadata": {
        "trusted": true,
        "execution": {
          "iopub.status.busy": "2025-03-20T13:09:45.953040Z",
          "iopub.execute_input": "2025-03-20T13:09:45.953454Z",
          "iopub.status.idle": "2025-03-20T13:09:45.964799Z",
          "shell.execute_reply.started": "2025-03-20T13:09:45.953423Z",
          "shell.execute_reply": "2025-03-20T13:09:45.963338Z"
        },
        "id": "ARBeZJL-wjJo"
      },
      "outputs": [],
      "execution_count": null
    },
    {
      "cell_type": "markdown",
      "source": [
        "Validemos que tan desbalanceados quedaron los particionamientos"
      ],
      "metadata": {
        "id": "P2tlO2Y7wjJo"
      }
    },
    {
      "cell_type": "code",
      "source": [
        "print(y_train.value_counts(True)*100)\n",
        "print(y_test.value_counts(True)*100)"
      ],
      "metadata": {
        "trusted": true,
        "execution": {
          "iopub.status.busy": "2025-03-20T13:09:46.970212Z",
          "iopub.execute_input": "2025-03-20T13:09:46.970624Z",
          "iopub.status.idle": "2025-03-20T13:09:46.980641Z",
          "shell.execute_reply.started": "2025-03-20T13:09:46.970589Z",
          "shell.execute_reply": "2025-03-20T13:09:46.978943Z"
        },
        "colab": {
          "base_uri": "https://localhost:8080/"
        },
        "id": "vrqiFeNXwjJo",
        "outputId": "5cdaacc9-70d5-4a6a-de66-6b024f5db073"
      },
      "outputs": [
        {
          "output_type": "stream",
          "name": "stdout",
          "text": [
            "Target\n",
            "0.0    88.693841\n",
            "1.0    11.306159\n",
            "Name: proportion, dtype: float64\n",
            "Target\n",
            "0.0    88.720539\n",
            "1.0    11.279461\n",
            "Name: proportion, dtype: float64\n"
          ]
        }
      ],
      "execution_count": null
    },
    {
      "cell_type": "markdown",
      "source": [
        "### Pipeline"
      ],
      "metadata": {
        "id": "v1ynDVAnwjJo"
      }
    },
    {
      "cell_type": "markdown",
      "source": [
        "Este fragmento de código separa las variables en categóricas y numéricas, eliminando aquellas que tienen más del 70% de valores nulos (almacenadas en variables_muy_nulas)."
      ],
      "metadata": {
        "id": "MtnktM0IwjJo"
      }
    },
    {
      "cell_type": "code",
      "source": [
        "##Selecciona las columnas categóricas (variables tipo object o cadenas de texto) en X_train.\n",
        "categoricas = X_train.select_dtypes('object').columns\n",
        "categoricas = categoricas.delete(\n",
        "    categoricas.isin(variables_muy_nulas)\n",
        ")\n",
        "\n",
        "##Selecciona las columnas numéricas en X_train (variables tipo int o float).\n",
        "numericas = X_train.select_dtypes('number').columns\n",
        "numericas = numericas.delete(\n",
        "    numericas.isin(variables_muy_nulas)\n",
        ")"
      ],
      "metadata": {
        "trusted": true,
        "execution": {
          "iopub.status.busy": "2025-03-20T13:09:48.495386Z",
          "iopub.execute_input": "2025-03-20T13:09:48.495910Z",
          "iopub.status.idle": "2025-03-20T13:09:48.507897Z",
          "shell.execute_reply.started": "2025-03-20T13:09:48.495868Z",
          "shell.execute_reply": "2025-03-20T13:09:48.506116Z"
        },
        "id": "W2WjG_DCwjJo"
      },
      "outputs": [],
      "execution_count": null
    },
    {
      "cell_type": "markdown",
      "source": [
        "Configuración para el codificador One-Hot (OneHotEncoder) en el preprocesamiento de variables categóricas."
      ],
      "metadata": {
        "id": "4epokL2cwjJo"
      }
    },
    {
      "cell_type": "code",
      "source": [
        "config_onehot = dict(\n",
        "    handle_unknown='ignore' # Ignora cualquier categoría desconocida que aparezca en los datos de prueba pero que no estaba en los datos de entrenamiento.\n",
        ")"
      ],
      "metadata": {
        "trusted": true,
        "execution": {
          "iopub.status.busy": "2025-03-20T13:09:50.967583Z",
          "iopub.execute_input": "2025-03-20T13:09:50.968032Z",
          "iopub.status.idle": "2025-03-20T13:09:50.972710Z",
          "shell.execute_reply.started": "2025-03-20T13:09:50.967997Z",
          "shell.execute_reply": "2025-03-20T13:09:50.971308Z"
        },
        "id": "vnluvjSgwjJo"
      },
      "outputs": [],
      "execution_count": null
    },
    {
      "cell_type": "code",
      "source": [
        "numeric_transformer = Pipeline(\n",
        "    steps=[(\"imputer\",  SimpleImputer(strategy='mean')),\n",
        "           (\"scaler\", StandardScaler()),\n",
        "           (\"select_var\", VarianceThreshold(0.1))\n",
        "           ]\n",
        ")\n",
        "\n",
        "categorical_transformer = Pipeline(\n",
        "    steps=[('imputer', SimpleImputer(strategy='most_frequent')),\n",
        "           ('dumm', OneHotEncoder(**config_onehot)),\n",
        "           (\"selector\", SelectPercentile(chi2, percentile=50))\n",
        "           ]\n",
        ")\n",
        "\n",
        "preprocessor = ColumnTransformer(\n",
        "    transformers=[\n",
        "        (\"num\", numeric_transformer, numericas),\n",
        "        (\"cat\", categorical_transformer, categoricas),\n",
        "    ]\n",
        ")"
      ],
      "metadata": {
        "trusted": true,
        "execution": {
          "iopub.status.busy": "2025-03-20T13:11:25.518520Z",
          "iopub.execute_input": "2025-03-20T13:11:25.518947Z",
          "iopub.status.idle": "2025-03-20T13:11:25.526895Z",
          "shell.execute_reply.started": "2025-03-20T13:11:25.518918Z",
          "shell.execute_reply": "2025-03-20T13:11:25.524634Z"
        },
        "id": "FHiJjmEdwjJo"
      },
      "outputs": [],
      "execution_count": null
    },
    {
      "cell_type": "markdown",
      "source": [
        "## SVC"
      ],
      "metadata": {
        "id": "gmFV6uXuwjJp"
      }
    },
    {
      "cell_type": "code",
      "source": [
        "svc_pipeline = Pipeline([\n",
        "    ('preprocesamiento', preprocessor),\n",
        "    ('classificador', SVC(kernel='rbf', C=1.0, probability=True)) #RBF, Linear, sigmoid\n",
        "])\n",
        "\n",
        "start = time()\n",
        "svc_pipeline.fit(X_train, y_train)\n",
        "end = time()\n",
        "\n",
        "print(\n",
        "    'Tiempo Entrenamiento Regresión Logistica:',\n",
        "    str(timedelta(seconds=end-start))\n",
        ")"
      ],
      "metadata": {
        "trusted": true,
        "execution": {
          "iopub.status.busy": "2025-03-20T13:15:39.716985Z",
          "iopub.execute_input": "2025-03-20T13:15:39.717717Z",
          "iopub.status.idle": "2025-03-20T13:15:41.627755Z",
          "shell.execute_reply.started": "2025-03-20T13:15:39.717675Z",
          "shell.execute_reply": "2025-03-20T13:15:41.626281Z"
        },
        "colab": {
          "base_uri": "https://localhost:8080/"
        },
        "id": "qJKLR_s_wjJp",
        "outputId": "a3054a11-d740-4053-fc92-ff0f0d36ed30"
      },
      "outputs": [
        {
          "output_type": "stream",
          "name": "stdout",
          "text": [
            "Tiempo Entrenamiento Regresión Logistica: 0:00:02.723768\n"
          ]
        }
      ],
      "execution_count": null
    },
    {
      "cell_type": "code",
      "source": [
        "svc_val_preds = svc_pipeline.predict_proba(X_test)[:, 1]\n",
        "svc_metrics = get_imbalaced_metrics(y_test, svc_val_preds)\n",
        "svc_metrics"
      ],
      "metadata": {
        "trusted": true,
        "execution": {
          "iopub.status.busy": "2025-03-20T13:16:11.668852Z",
          "iopub.execute_input": "2025-03-20T13:16:11.669229Z",
          "iopub.status.idle": "2025-03-20T13:16:13.787857Z",
          "shell.execute_reply.started": "2025-03-20T13:16:11.669199Z",
          "shell.execute_reply": "2025-03-20T13:16:13.786641Z"
        },
        "colab": {
          "base_uri": "https://localhost:8080/"
        },
        "id": "KgAlyaEzwjJp",
        "outputId": "10cabf81-26db-4241-e86f-460babd5fbc9"
      },
      "outputs": [
        {
          "output_type": "execute_result",
          "data": {
            "text/plain": [
              "{'roc_auc': np.float64(0.783284714945198),\n",
              " 'average_precision': np.float64(0.5399476079421451),\n",
              " 'max_f1': 0.5360824742268041,\n",
              " 'accuracy_on_max_f1': 0.9242424242424242,\n",
              " 'kappa': np.float64(0.5012873614687116),\n",
              " 'baseline': np.float64(0.8872053872053872),\n",
              " 'best_th': np.float64(0.47147147147147145)}"
            ]
          },
          "metadata": {},
          "execution_count": 16
        }
      ],
      "execution_count": null
    },
    {
      "cell_type": "markdown",
      "source": [
        "https://scikit-learn.org/stable/modules/generated/sklearn.svm.SVC.html"
      ],
      "metadata": {
        "id": "FEOQgYv7wjJp"
      }
    },
    {
      "cell_type": "markdown",
      "source": [
        "## Ejecutemos los que ya vimos"
      ],
      "metadata": {
        "id": "R-EroqAEwjJp"
      }
    },
    {
      "cell_type": "code",
      "source": [
        "numeric_transformer = Pipeline(\n",
        "    steps=[(\"imputer\",  SimpleImputer(strategy='mean')),\n",
        "           (\"select_var\", VarianceThreshold(0.1))\n",
        "           ]\n",
        ")\n",
        "\n",
        "categorical_transformer = Pipeline(\n",
        "    steps=[('imputer', SimpleImputer(strategy='most_frequent')),\n",
        "           ('dumm', OneHotEncoder(**config_onehot)),\n",
        "           ]\n",
        ")\n",
        "\n",
        "tree_preprocessing = ColumnTransformer(\n",
        "    transformers=[\n",
        "        (\"num\", numeric_transformer, numericas),\n",
        "        (\"cat\", categorical_transformer, categoricas),\n",
        "    ]\n",
        ")"
      ],
      "metadata": {
        "trusted": true,
        "execution": {
          "iopub.status.busy": "2025-03-20T13:26:20.432206Z",
          "iopub.execute_input": "2025-03-20T13:26:20.432718Z",
          "iopub.status.idle": "2025-03-20T13:26:20.439794Z",
          "shell.execute_reply.started": "2025-03-20T13:26:20.432678Z",
          "shell.execute_reply": "2025-03-20T13:26:20.438228Z"
        },
        "id": "2Obks_O_wjJp"
      },
      "outputs": [],
      "execution_count": null
    },
    {
      "cell_type": "markdown",
      "source": [
        "### Bagging"
      ],
      "metadata": {
        "id": "mu-652E8wjJp"
      }
    },
    {
      "cell_type": "code",
      "source": [
        "config_bagging = dict(\n",
        "    n_estimators=300,          # Número de modelos a crear\n",
        "                    max_samples=0.5,          # Número o % de registros de la muestra de aprendizaje\n",
        "                    max_features=0.5,         # Número o % de atributos de la muestra de aprendizaje\n",
        "                    bootstrap=True,           # Utilizar reemplazo en el muestreo de los registros de aprendizaje\n",
        "                    bootstrap_features=False, # Utilizar reemplazo en el muestreo de los atributos de aprendizaje\n",
        "                    oob_score=False,          # Evaluar cada modelo con los registros no utilizados en su aprendizaje\n",
        "                    n_jobs=2,                 # Número de cores a utilizar\n",
        "                    verbose=0\n",
        ")\n",
        "\n",
        "bagging_pipeline = Pipeline([\n",
        "    ('preprocesamiento', tree_preprocessing),\n",
        "    ('classificador', BaggingClassifier(**config_bagging))\n",
        "])\n",
        "\n",
        "start = time()\n",
        "bagging_pipeline.fit(X_train, y_train)\n",
        "end = time()\n",
        "\n",
        "print(\n",
        "    'Tiempo Entrenamiento bagging:',\n",
        "    str(timedelta(seconds=end-start))\n",
        ")"
      ],
      "metadata": {
        "trusted": true,
        "execution": {
          "iopub.status.busy": "2025-03-20T13:26:22.658442Z",
          "iopub.execute_input": "2025-03-20T13:26:22.658804Z",
          "iopub.status.idle": "2025-03-20T13:26:27.538218Z",
          "shell.execute_reply.started": "2025-03-20T13:26:22.658774Z",
          "shell.execute_reply": "2025-03-20T13:26:27.536437Z"
        },
        "colab": {
          "base_uri": "https://localhost:8080/"
        },
        "id": "yJD1a6LpwjJp",
        "outputId": "1a6e0162-1cc4-46d0-97a4-a7d6d031562f"
      },
      "outputs": [
        {
          "output_type": "stream",
          "name": "stdout",
          "text": [
            "Tiempo Entrenamiento bagging: 0:00:08.800948\n"
          ]
        }
      ],
      "execution_count": null
    },
    {
      "cell_type": "code",
      "source": [
        "bagging_val_preds = bagging_pipeline.predict_proba(X_test)[:, 1]\n",
        "bagging_metrics = get_imbalaced_metrics(y_test, bagging_val_preds)\n",
        "bagging_metrics"
      ],
      "metadata": {
        "trusted": true,
        "execution": {
          "iopub.status.busy": "2025-03-20T13:26:27.539936Z",
          "iopub.execute_input": "2025-03-20T13:26:27.540343Z",
          "iopub.status.idle": "2025-03-20T13:26:29.776593Z",
          "shell.execute_reply.started": "2025-03-20T13:26:27.540291Z",
          "shell.execute_reply": "2025-03-20T13:26:29.775191Z"
        },
        "colab": {
          "base_uri": "https://localhost:8080/"
        },
        "id": "GK2gNwFswjJp",
        "outputId": "add7cec5-e56b-4202-b652-f6b736338710"
      },
      "outputs": [
        {
          "output_type": "execute_result",
          "data": {
            "text/plain": [
              "{'roc_auc': np.float64(0.8575150811407856),\n",
              " 'average_precision': np.float64(0.6084360827746997),\n",
              " 'max_f1': 0.56,\n",
              " 'accuracy_on_max_f1': 0.9259259259259259,\n",
              " 'kappa': np.float64(0.524609843937575),\n",
              " 'baseline': np.float64(0.8872053872053872),\n",
              " 'best_th': np.float64(0.4174174174174174)}"
            ]
          },
          "metadata": {},
          "execution_count": 19
        }
      ],
      "execution_count": null
    },
    {
      "cell_type": "markdown",
      "source": [
        "Probá cambiando los hiperparametros!\n",
        "https://scikit-learn.org/stable/modules/generated/sklearn.ensemble.BaggingClassifier.html"
      ],
      "metadata": {
        "id": "nnsmvTDWwjJq"
      }
    },
    {
      "cell_type": "markdown",
      "source": [
        "## Random Forest"
      ],
      "metadata": {
        "id": "B-XbC8s5wjJq"
      }
    },
    {
      "cell_type": "code",
      "source": [
        "rf_pipeline = Pipeline([\n",
        "    ('preprocesamiento', tree_preprocessing),\n",
        "    ('classificador', RandomForestClassifier())\n",
        "])\n",
        "\n",
        "start = time()\n",
        "rf_pipeline.fit(X_train, y_train)\n",
        "end = time()\n",
        "\n",
        "print(\n",
        "    'Tiempo Entrenamiento RandomForest:',\n",
        "    str(timedelta(seconds=end-start))\n",
        ")"
      ],
      "metadata": {
        "trusted": true,
        "execution": {
          "iopub.status.busy": "2025-03-20T13:26:29.778731Z",
          "iopub.execute_input": "2025-03-20T13:26:29.779167Z",
          "iopub.status.idle": "2025-03-20T13:26:31.080990Z",
          "shell.execute_reply.started": "2025-03-20T13:26:29.779112Z",
          "shell.execute_reply": "2025-03-20T13:26:31.079942Z"
        },
        "colab": {
          "base_uri": "https://localhost:8080/"
        },
        "id": "1LIkkVGawjJq",
        "outputId": "912b87bd-d14c-4aed-caee-3521ca7b5e91"
      },
      "outputs": [
        {
          "output_type": "stream",
          "name": "stdout",
          "text": [
            "Tiempo Entrenamiento RandomForest: 0:00:02.173292\n"
          ]
        }
      ],
      "execution_count": null
    },
    {
      "cell_type": "code",
      "source": [
        "rf_val_preds = rf_pipeline.predict_proba(X_test)[:, 1]\n",
        "rf_metrics = get_imbalaced_metrics(y_test, rf_val_preds)\n",
        "rf_metrics"
      ],
      "metadata": {
        "trusted": true,
        "execution": {
          "iopub.status.busy": "2025-03-20T13:26:31.082661Z",
          "iopub.execute_input": "2025-03-20T13:26:31.082966Z",
          "iopub.status.idle": "2025-03-20T13:26:33.099705Z",
          "shell.execute_reply.started": "2025-03-20T13:26:31.082940Z",
          "shell.execute_reply": "2025-03-20T13:26:33.098523Z"
        },
        "colab": {
          "base_uri": "https://localhost:8080/"
        },
        "id": "fBVL93i2wjJq",
        "outputId": "fbb4a1b0-12c4-4025-f633-9bcf6a74da30"
      },
      "outputs": [
        {
          "output_type": "execute_result",
          "data": {
            "text/plain": [
              "{'roc_auc': np.float64(0.8487779319720185),\n",
              " 'average_precision': np.float64(0.6052331321782467),\n",
              " 'max_f1': 0.5567010309278351,\n",
              " 'accuracy_on_max_f1': 0.9276094276094277,\n",
              " 'kappa': np.float64(0.5234523676256577),\n",
              " 'baseline': np.float64(0.8872053872053872),\n",
              " 'best_th': np.float64(0.5205205205205206)}"
            ]
          },
          "metadata": {},
          "execution_count": 21
        }
      ],
      "execution_count": null
    },
    {
      "cell_type": "markdown",
      "source": [
        "https://scikit-learn.org/stable/modules/generated/sklearn.ensemble.RandomForestClassifier.html"
      ],
      "metadata": {
        "id": "oO9YBn35wjJt"
      }
    },
    {
      "cell_type": "markdown",
      "source": [
        "## ADA Boosting"
      ],
      "metadata": {
        "id": "zEOVNZxlwjJt"
      }
    },
    {
      "cell_type": "code",
      "source": [
        "config_ada = dict(#estimator=None,  #Por defecto se trata de decision stumps\n",
        "    n_estimators=100,     #Número de modelos a crear\n",
        "    algorithm='SAMME',\n",
        "    learning_rate=1.0\n",
        ")\n",
        "\n",
        "ada_pipeline = Pipeline([\n",
        "    ('preprocesamiento', tree_preprocessing),\n",
        "    ('classificador', AdaBoostClassifier(**config_ada)  )  #Reduce la importancia de los modelos mas recientes)\n",
        "])\n",
        "\n",
        "start = time()\n",
        "ada_pipeline.fit(X_train, y_train)\n",
        "end = time()\n",
        "\n",
        "print(\n",
        "    'Tiempo Entrenamiento ADA Boosting:',\n",
        "    str(timedelta(seconds=end-start))\n",
        ")\n"
      ],
      "metadata": {
        "trusted": true,
        "execution": {
          "iopub.status.busy": "2025-03-20T13:26:33.100725Z",
          "iopub.execute_input": "2025-03-20T13:26:33.101006Z",
          "iopub.status.idle": "2025-03-20T13:26:33.963476Z",
          "shell.execute_reply.started": "2025-03-20T13:26:33.100981Z",
          "shell.execute_reply": "2025-03-20T13:26:33.962305Z"
        },
        "colab": {
          "base_uri": "https://localhost:8080/"
        },
        "id": "g4giKgbqwjJt",
        "outputId": "4efa4412-b46a-42a1-ab7a-b45ad8f71ac3"
      },
      "outputs": [
        {
          "output_type": "stream",
          "name": "stderr",
          "text": [
            "/usr/local/lib/python3.11/dist-packages/sklearn/ensemble/_weight_boosting.py:519: FutureWarning: The parameter 'algorithm' is deprecated in 1.6 and has no effect. It will be removed in version 1.8.\n",
            "  warnings.warn(\n"
          ]
        },
        {
          "output_type": "stream",
          "name": "stdout",
          "text": [
            "Tiempo Entrenamiento ADA Boosting: 0:00:02.317697\n"
          ]
        }
      ],
      "execution_count": null
    },
    {
      "cell_type": "code",
      "source": [
        "ada_val_preds = ada_pipeline.predict_proba(X_test)[:, 1]\n",
        "ada_metrics = get_imbalaced_metrics(y_test, ada_val_preds)\n",
        "ada_metrics"
      ],
      "metadata": {
        "trusted": true,
        "execution": {
          "iopub.status.busy": "2025-03-20T13:26:33.964561Z",
          "iopub.execute_input": "2025-03-20T13:26:33.964885Z",
          "iopub.status.idle": "2025-03-20T13:26:35.964270Z",
          "shell.execute_reply.started": "2025-03-20T13:26:33.964852Z",
          "shell.execute_reply": "2025-03-20T13:26:35.962937Z"
        },
        "colab": {
          "base_uri": "https://localhost:8080/"
        },
        "id": "R8eviMzbwjJu",
        "outputId": "7e004898-ba79-4dbd-86e7-c0ce582d516a"
      },
      "outputs": [
        {
          "output_type": "execute_result",
          "data": {
            "text/plain": [
              "{'roc_auc': np.float64(0.8723554901016738),\n",
              " 'average_precision': np.float64(0.5874262079950228),\n",
              " 'max_f1': 0.5454545454545454,\n",
              " 'accuracy_on_max_f1': 0.9242424242424242,\n",
              " 'kappa': np.float64(0.509703217286034),\n",
              " 'baseline': np.float64(0.8872053872053872),\n",
              " 'best_th': np.float64(0.4934934934934935)}"
            ]
          },
          "metadata": {},
          "execution_count": 23
        }
      ],
      "execution_count": null
    },
    {
      "cell_type": "markdown",
      "source": [
        "https://scikit-learn.org/stable/modules/generated/sklearn.ensemble.AdaBoostClassifier.html"
      ],
      "metadata": {
        "id": "JLOQNQ0HwjJu"
      }
    },
    {
      "cell_type": "markdown",
      "source": [
        "## XGBoost"
      ],
      "metadata": {
        "id": "CA8_0aWPwjJu"
      }
    },
    {
      "cell_type": "code",
      "source": [
        "config_xgb = dict(\n",
        "    use_label_encoder=False, eval_metric='logloss'\n",
        ")\n",
        "\n",
        "xgb_pipeline = Pipeline([\n",
        "    ('preprocesamiento', tree_preprocessing),\n",
        "    ('classificador', XGBClassifier(**config_xgb))\n",
        "])\n",
        "\n",
        "start = time()\n",
        "xgb_pipeline.fit(X_train, y_train)\n",
        "end = time()\n",
        "\n",
        "print(\n",
        "    'Tiempo Entrenamiento XGBoost:',\n",
        "    str(timedelta(seconds=end-start))\n",
        ")"
      ],
      "metadata": {
        "trusted": true,
        "execution": {
          "iopub.status.busy": "2025-03-20T13:26:35.965321Z",
          "iopub.execute_input": "2025-03-20T13:26:35.965620Z",
          "iopub.status.idle": "2025-03-20T13:26:36.307898Z",
          "shell.execute_reply.started": "2025-03-20T13:26:35.965594Z",
          "shell.execute_reply": "2025-03-20T13:26:36.305972Z"
        },
        "colab": {
          "base_uri": "https://localhost:8080/"
        },
        "id": "zR35sVcwwjJu",
        "outputId": "cddae52f-b770-4ee1-fbee-ac08ab35ca17"
      },
      "outputs": [
        {
          "output_type": "stream",
          "name": "stderr",
          "text": [
            "/usr/local/lib/python3.11/dist-packages/xgboost/core.py:158: UserWarning: [15:16:59] WARNING: /workspace/src/learner.cc:740: \n",
            "Parameters: { \"use_label_encoder\" } are not used.\n",
            "\n",
            "  warnings.warn(smsg, UserWarning)\n"
          ]
        },
        {
          "output_type": "stream",
          "name": "stdout",
          "text": [
            "Tiempo Entrenamiento XGBoost: 0:00:00.415033\n"
          ]
        }
      ],
      "execution_count": null
    },
    {
      "cell_type": "code",
      "source": [
        "xgb_val_preds = xgb_pipeline.predict_proba(X_test)[:, 1]\n",
        "xgb_metrics = get_imbalaced_metrics(y_test, xgb_val_preds)\n",
        "xgb_metrics"
      ],
      "metadata": {
        "trusted": true,
        "execution": {
          "iopub.status.busy": "2025-03-20T13:26:36.310686Z",
          "iopub.execute_input": "2025-03-20T13:26:36.310994Z",
          "iopub.status.idle": "2025-03-20T13:26:38.267166Z",
          "shell.execute_reply.started": "2025-03-20T13:26:36.310968Z",
          "shell.execute_reply": "2025-03-20T13:26:38.265470Z"
        },
        "colab": {
          "base_uri": "https://localhost:8080/"
        },
        "id": "7RwiLIJjwjJu",
        "outputId": "8169c826-c354-4b3b-e4f3-e8232a54b987"
      },
      "outputs": [
        {
          "output_type": "execute_result",
          "data": {
            "text/plain": [
              "{'roc_auc': np.float64(0.866379676569713),\n",
              " 'average_precision': np.float64(0.6150415918199621),\n",
              " 'max_f1': 0.5686274509803921,\n",
              " 'accuracy_on_max_f1': 0.9259259259259259,\n",
              " 'kappa': np.float64(0.5324340763533579),\n",
              " 'baseline': np.float64(0.8872053872053872),\n",
              " 'best_th': np.float64(0.48148148148148145)}"
            ]
          },
          "metadata": {},
          "execution_count": 25
        }
      ],
      "execution_count": null
    },
    {
      "cell_type": "markdown",
      "source": [
        "https://xgboost.readthedocs.io/en/stable/get_started.html"
      ],
      "metadata": {
        "id": "atsUrwZswjJu"
      }
    },
    {
      "cell_type": "markdown",
      "source": [
        "## Arboles"
      ],
      "metadata": {
        "id": "z9YHzz3lwjJu"
      }
    },
    {
      "cell_type": "markdown",
      "source": [
        "### ID3"
      ],
      "metadata": {
        "id": "vgeqkURZwjJu"
      }
    },
    {
      "cell_type": "code",
      "source": [
        "config_ctree = dict(criterion='entropy', # el criterio de particionamiento de un conjunto de datos (gini, entropy)\n",
        "        #    max_depth=None,      # prepoda: controla la profundidad del árbol (largo máximo de las ramas)\n",
        "        #    min_samples_split=2, # prepoda: el mínimo número de registros necesarios para crear una nueva rama\n",
        "        #    min_samples_leaf=1,  # prepoda: el mínimo número de registros en una hoja\n",
        "        #    random_state=None,   # semilla del generador aleatorio utilizado para\n",
        "        #    max_leaf_nodes=None, # prepoda: máximo número de nodos hojas\n",
        "        #    min_impurity_decrease=0.0 # prepoda: umbral mínimo de reducción de la impureza para aceptar la creación de una rama\n",
        ")\n",
        "\n",
        "ctree_id3_pipeline = Pipeline([\n",
        "    ('preprocesamiento', tree_preprocessing),\n",
        "    ('classificador', tree.DecisionTreeClassifier(**config_ctree\n",
        "            ))\n",
        "])\n",
        "\n",
        "start = time()\n",
        "ctree_id3_pipeline.fit(X_train, y_train)\n",
        "end = time()\n",
        "\n",
        "print(\n",
        "    'Tiempo Entrenamiento ctree_id3:',\n",
        "    str(timedelta(seconds=end-start))\n",
        ")"
      ],
      "metadata": {
        "trusted": true,
        "execution": {
          "iopub.status.busy": "2025-03-20T13:26:38.269049Z",
          "iopub.execute_input": "2025-03-20T13:26:38.269924Z",
          "iopub.status.idle": "2025-03-20T13:26:38.403976Z",
          "shell.execute_reply.started": "2025-03-20T13:26:38.269869Z",
          "shell.execute_reply": "2025-03-20T13:26:38.402799Z"
        },
        "colab": {
          "base_uri": "https://localhost:8080/"
        },
        "id": "izXqviHJwjJu",
        "outputId": "cbb6dbd5-bc19-45d5-e8f4-bfde6b020d38"
      },
      "outputs": [
        {
          "output_type": "stream",
          "name": "stdout",
          "text": [
            "Tiempo Entrenamiento ctree_id3: 0:00:00.200299\n"
          ]
        }
      ],
      "execution_count": null
    },
    {
      "cell_type": "code",
      "source": [
        "ctree_id3_val_preds = ctree_id3_pipeline.predict_proba(X_test)[:, 1]\n",
        "ctree_id3_metrics = get_imbalaced_metrics(y_test, ctree_id3_val_preds)\n",
        "ctree_id3_metrics"
      ],
      "metadata": {
        "trusted": true,
        "execution": {
          "iopub.status.busy": "2025-03-20T13:26:38.405036Z",
          "iopub.execute_input": "2025-03-20T13:26:38.405363Z",
          "iopub.status.idle": "2025-03-20T13:26:40.388517Z",
          "shell.execute_reply.started": "2025-03-20T13:26:38.405333Z",
          "shell.execute_reply": "2025-03-20T13:26:40.387562Z"
        },
        "colab": {
          "base_uri": "https://localhost:8080/"
        },
        "id": "sAGyiYjhwjJu",
        "outputId": "7209ee18-c855-4746-ddb9-fe93a8b57acd"
      },
      "outputs": [
        {
          "output_type": "execute_result",
          "data": {
            "text/plain": [
              "{'roc_auc': np.float64(0.7027528392194624),\n",
              " 'average_precision': np.float64(0.2772594459161623),\n",
              " 'max_f1': 0.46715328467153283,\n",
              " 'accuracy_on_max_f1': 0.877104377104377,\n",
              " 'kappa': np.float64(0.3977332703686214),\n",
              " 'baseline': np.float64(0.8872053872053872),\n",
              " 'best_th': np.float64(0.0)}"
            ]
          },
          "metadata": {},
          "execution_count": 27
        }
      ],
      "execution_count": null
    },
    {
      "cell_type": "markdown",
      "source": [
        "### CART"
      ],
      "metadata": {
        "id": "l5g4tuKYwjJu"
      }
    },
    {
      "cell_type": "code",
      "source": [
        "config_ctree_cart = dict(criterion='gini', # el criterio de particionamiento de un conjunto de datos (gini, entropy)\n",
        "        #    max_depth=None,      # prepoda: controla la profundidad del árbol (largo máximo de las ramas)\n",
        "        #    min_samples_split=2, # prepoda: el mínimo número de registros necesarios para crear una nueva rama\n",
        "        #    min_samples_leaf=1,  # prepoda: el mínimo número de registros en una hoja\n",
        "        #    random_state=None,   # semilla del generador aleatorio utilizado para\n",
        "        #    max_leaf_nodes=None, # prepoda: máximo número de nodos hojas\n",
        "        #    min_impurity_decrease=0.0 # prepoda: umbral mínimo de reducción de la impureza para aceptar la creación de una rama\n",
        ")\n",
        "\n",
        "ctree_cart_pipeline = Pipeline([\n",
        "    ('preprocesamiento', tree_preprocessing),\n",
        "    ('classificador', tree.DecisionTreeClassifier(**config_ctree_cart\n",
        "            ))\n",
        "])\n",
        "\n",
        "start = time()\n",
        "ctree_cart_pipeline.fit(X_train, y_train)\n",
        "end = time()\n",
        "\n",
        "print(\n",
        "    'Tiempo Entrenamiento ctree_cart:',\n",
        "    str(timedelta(seconds=end-start))\n",
        ")"
      ],
      "metadata": {
        "trusted": true,
        "execution": {
          "iopub.status.busy": "2025-03-20T13:26:40.389633Z",
          "iopub.execute_input": "2025-03-20T13:26:40.389904Z",
          "iopub.status.idle": "2025-03-20T13:26:40.550836Z",
          "shell.execute_reply.started": "2025-03-20T13:26:40.389880Z",
          "shell.execute_reply": "2025-03-20T13:26:40.549569Z"
        },
        "colab": {
          "base_uri": "https://localhost:8080/"
        },
        "id": "rWwcYgXzwjJu",
        "outputId": "fcf5594e-57c9-4bc8-f087-30a3f9c36b77"
      },
      "outputs": [
        {
          "output_type": "stream",
          "name": "stdout",
          "text": [
            "Tiempo Entrenamiento ctree_cart: 0:00:00.160681\n"
          ]
        }
      ],
      "execution_count": null
    },
    {
      "cell_type": "code",
      "source": [
        "ctree_cart_val_preds = ctree_cart_pipeline.predict_proba(X_test)[:, 1]\n",
        "ctree_cart_metrics = get_imbalaced_metrics(y_test, ctree_cart_val_preds)\n",
        "ctree_cart_metrics"
      ],
      "metadata": {
        "trusted": true,
        "execution": {
          "iopub.status.busy": "2025-03-20T13:26:40.551981Z",
          "iopub.execute_input": "2025-03-20T13:26:40.552342Z",
          "iopub.status.idle": "2025-03-20T13:26:42.507851Z",
          "shell.execute_reply.started": "2025-03-20T13:26:40.552311Z",
          "shell.execute_reply": "2025-03-20T13:26:42.506769Z"
        },
        "colab": {
          "base_uri": "https://localhost:8080/"
        },
        "id": "r7y5YVQ_wjJu",
        "outputId": "58e6820f-3904-44d2-b509-b8339bee186d"
      },
      "outputs": [
        {
          "output_type": "execute_result",
          "data": {
            "text/plain": [
              "{'roc_auc': np.float64(0.6710045597439745),\n",
              " 'average_precision': np.float64(0.23773733826411614),\n",
              " 'max_f1': 0.4148148148148148,\n",
              " 'accuracy_on_max_f1': 0.867003367003367,\n",
              " 'kappa': np.float64(0.3397957173809055),\n",
              " 'baseline': np.float64(0.8872053872053872),\n",
              " 'best_th': np.float64(0.0)}"
            ]
          },
          "metadata": {},
          "execution_count": 29
        }
      ],
      "execution_count": null
    },
    {
      "cell_type": "markdown",
      "source": [
        "Probá cambiando los hiperparametros!\n",
        "\n",
        "https://scikit-learn.org/stable/modules/tree.html"
      ],
      "metadata": {
        "id": "YgZa5K3bwjJu"
      }
    },
    {
      "cell_type": "markdown",
      "source": [
        "### Incluir CHAID"
      ],
      "metadata": {
        "id": "Y63EV9TlwjJv"
      }
    },
    {
      "cell_type": "code",
      "source": [
        "numeric_transformer = Pipeline(\n",
        "    steps=[(\"imputer\",  SimpleImputer(strategy='mean')),\n",
        "           (\"scaler\", StandardScaler()),\n",
        "           (\"select_var\", VarianceThreshold(0.1))\n",
        "           ]\n",
        ")\n",
        "\n",
        "categorical_transformer = Pipeline(\n",
        "    steps=[('imputer', SimpleImputer(strategy='most_frequent')),\n",
        "           ('dumm', OneHotEncoder(**config_onehot)),\n",
        "           (\"selector\", SelectPercentile(chi2, percentile=50))\n",
        "           ]\n",
        ")\n",
        "\n",
        "preprocessor = ColumnTransformer(\n",
        "    transformers=[\n",
        "        (\"num\", numeric_transformer, numericas),\n",
        "        (\"cat\", categorical_transformer, categoricas),\n",
        "    ]\n",
        ")"
      ],
      "metadata": {
        "trusted": true,
        "execution": {
          "iopub.status.busy": "2025-03-20T13:26:42.508902Z",
          "iopub.execute_input": "2025-03-20T13:26:42.509244Z",
          "iopub.status.idle": "2025-03-20T13:26:42.515539Z",
          "shell.execute_reply.started": "2025-03-20T13:26:42.509215Z",
          "shell.execute_reply": "2025-03-20T13:26:42.514242Z"
        },
        "id": "FcjVwN3gwjJv"
      },
      "outputs": [],
      "execution_count": null
    },
    {
      "cell_type": "markdown",
      "source": [
        "## Regresión Logistica"
      ],
      "metadata": {
        "id": "7LX7M0pYwjJv"
      }
    },
    {
      "cell_type": "code",
      "source": [
        "rl_pipeline = Pipeline([\n",
        "    ('preprocesamiento', preprocessor),\n",
        "    ('classificador', LogisticRegression())\n",
        "])\n",
        "\n",
        "start = time()\n",
        "rl_pipeline.fit(X_train, y_train)\n",
        "end = time()\n",
        "\n",
        "print(\n",
        "    'Tiempo Entrenamiento Regresión Logistica:',\n",
        "    str(timedelta(seconds=end-start))\n",
        ")"
      ],
      "metadata": {
        "trusted": true,
        "execution": {
          "iopub.status.busy": "2025-03-20T13:26:42.517515Z",
          "iopub.execute_input": "2025-03-20T13:26:42.517817Z",
          "iopub.status.idle": "2025-03-20T13:26:42.659370Z",
          "shell.execute_reply.started": "2025-03-20T13:26:42.517782Z",
          "shell.execute_reply": "2025-03-20T13:26:42.657860Z"
        },
        "colab": {
          "base_uri": "https://localhost:8080/"
        },
        "id": "zSOH9pNAwjJv",
        "outputId": "53b82eb1-65aa-4360-e6a1-a6b698451c10"
      },
      "outputs": [
        {
          "output_type": "stream",
          "name": "stdout",
          "text": [
            "Tiempo Entrenamiento Regresión Logistica: 0:00:00.144512\n"
          ]
        }
      ],
      "execution_count": null
    },
    {
      "cell_type": "code",
      "source": [
        "rl_val_preds = rl_pipeline.predict_proba(X_test)[:, 1]\n",
        "rl_metrics = get_imbalaced_metrics(y_test, rl_val_preds)\n",
        "rl_metrics"
      ],
      "metadata": {
        "trusted": true,
        "execution": {
          "iopub.status.busy": "2025-03-20T13:26:42.660620Z",
          "iopub.execute_input": "2025-03-20T13:26:42.660945Z",
          "iopub.status.idle": "2025-03-20T13:26:44.757604Z",
          "shell.execute_reply.started": "2025-03-20T13:26:42.660917Z",
          "shell.execute_reply": "2025-03-20T13:26:44.756248Z"
        },
        "colab": {
          "base_uri": "https://localhost:8080/"
        },
        "id": "uwIDLot5wjJv",
        "outputId": "4d4a0ad4-1ed7-4237-cfd5-ad78e645387a"
      },
      "outputs": [
        {
          "output_type": "execute_result",
          "data": {
            "text/plain": [
              "{'roc_auc': np.float64(0.8120026055679854),\n",
              " 'average_precision': np.float64(0.5854619335251826),\n",
              " 'max_f1': 0.5522388059701493,\n",
              " 'accuracy_on_max_f1': 0.898989898989899,\n",
              " 'kappa': np.float64(0.49531280976521563),\n",
              " 'baseline': np.float64(0.8872053872053872),\n",
              " 'best_th': np.float64(0.20020020020020018)}"
            ]
          },
          "metadata": {},
          "execution_count": 32
        }
      ],
      "execution_count": null
    },
    {
      "cell_type": "markdown",
      "source": [
        "Probá cambiando los hiperparametros!\n",
        "\n",
        "https://scikit-learn.org/0.16/modules/generated/sklearn.linear_model.LogisticRegression.html"
      ],
      "metadata": {
        "id": "v9wSx4uPwjJv"
      }
    },
    {
      "cell_type": "markdown",
      "source": [
        "## KNN"
      ],
      "metadata": {
        "id": "pPDbnaWbwjJv"
      }
    },
    {
      "cell_type": "code",
      "source": [
        "knn_pipeline = Pipeline([\n",
        "    ('preprocesamiento', preprocessor),\n",
        "    ('classificador', KNeighborsClassifier(n_neighbors=11))\n",
        "])\n",
        "\n",
        "start = time()\n",
        "knn_pipeline.fit(X_train, y_train)\n",
        "end = time()\n",
        "\n",
        "print(\n",
        "    'Tiempo Entrenamiento Knn:',\n",
        "    str(timedelta(seconds=end-start))\n",
        ")"
      ],
      "metadata": {
        "trusted": true,
        "execution": {
          "iopub.status.busy": "2025-03-20T13:26:44.758929Z",
          "iopub.execute_input": "2025-03-20T13:26:44.759389Z",
          "iopub.status.idle": "2025-03-20T13:26:44.816360Z",
          "shell.execute_reply.started": "2025-03-20T13:26:44.759351Z",
          "shell.execute_reply": "2025-03-20T13:26:44.815005Z"
        },
        "colab": {
          "base_uri": "https://localhost:8080/"
        },
        "id": "98M-nnagwjJv",
        "outputId": "e211b2d5-2bc6-48e0-d7ed-a10b966869b0"
      },
      "outputs": [
        {
          "output_type": "stream",
          "name": "stdout",
          "text": [
            "Tiempo Entrenamiento Knn: 0:00:00.043123\n"
          ]
        }
      ],
      "execution_count": null
    },
    {
      "cell_type": "code",
      "source": [
        "knn_val_preds = knn_pipeline.predict_proba(X_test)[:, 1]\n",
        "knn_metrics = get_imbalaced_metrics(y_test, knn_val_preds)\n",
        "knn_metrics"
      ],
      "metadata": {
        "trusted": true,
        "execution": {
          "iopub.status.busy": "2025-03-20T13:26:46.761932Z",
          "iopub.execute_input": "2025-03-20T13:26:46.762330Z",
          "iopub.status.idle": "2025-03-20T13:26:49.011322Z",
          "shell.execute_reply.started": "2025-03-20T13:26:46.762297Z",
          "shell.execute_reply": "2025-03-20T13:26:49.010206Z"
        },
        "colab": {
          "base_uri": "https://localhost:8080/"
        },
        "id": "0gJCgx6swjJv",
        "outputId": "d1acb94a-1e22-4ee2-86a0-ebf3b02167f4"
      },
      "outputs": [
        {
          "output_type": "execute_result",
          "data": {
            "text/plain": [
              "{'roc_auc': np.float64(0.835438556741907),\n",
              " 'average_precision': np.float64(0.520188208533248),\n",
              " 'max_f1': 0.5,\n",
              " 'accuracy_on_max_f1': 0.8888888888888888,\n",
              " 'kappa': np.float64(0.43751614106574077),\n",
              " 'baseline': np.float64(0.8872053872053872),\n",
              " 'best_th': np.float64(0.18218218218218218)}"
            ]
          },
          "metadata": {},
          "execution_count": 34
        }
      ],
      "execution_count": null
    },
    {
      "cell_type": "markdown",
      "source": [
        "\n",
        "Probá cambiando los hiperparametros! Si, cambia de vecinos\n",
        "\n",
        "https://scikit-learn.org/stable/modules/generated/sklearn.neighbors.KNeighborsClassifier.html"
      ],
      "metadata": {
        "id": "2Fy5M1hewjJv"
      }
    },
    {
      "cell_type": "markdown",
      "source": [
        "## Naive Bayes"
      ],
      "metadata": {
        "id": "yhhWLPJ6wjJv"
      }
    },
    {
      "cell_type": "code",
      "source": [
        "nb_pipeline = Pipeline([\n",
        "    ('preprocesamiento', preprocessor),\n",
        "    ('classificador', GaussianNB())\n",
        "])\n",
        "\n",
        "start = time()\n",
        "nb_pipeline.fit(X_train, y_train)\n",
        "end = time()\n",
        "\n",
        "print(\n",
        "    'Tiempo Entrenamiento nb:',\n",
        "    str(timedelta(seconds=end-start))\n",
        ")"
      ],
      "metadata": {
        "trusted": true,
        "execution": {
          "iopub.status.busy": "2025-03-20T13:26:49.012540Z",
          "iopub.execute_input": "2025-03-20T13:26:49.012871Z",
          "iopub.status.idle": "2025-03-20T13:26:49.075059Z",
          "shell.execute_reply.started": "2025-03-20T13:26:49.012841Z",
          "shell.execute_reply": "2025-03-20T13:26:49.073912Z"
        },
        "colab": {
          "base_uri": "https://localhost:8080/"
        },
        "id": "5W1W-cgLwjJv",
        "outputId": "648fa4f8-24de-4e23-ee1d-35c34127d67b"
      },
      "outputs": [
        {
          "output_type": "stream",
          "name": "stdout",
          "text": [
            "Tiempo Entrenamiento nb: 0:00:00.050617\n"
          ]
        }
      ],
      "execution_count": null
    },
    {
      "cell_type": "code",
      "source": [
        "nb_val_preds = nb_pipeline.predict_proba(X_test)[:, 1]\n",
        "nb_metrics = get_imbalaced_metrics(y_test, nb_val_preds)\n",
        "nb_metrics"
      ],
      "metadata": {
        "trusted": true,
        "execution": {
          "iopub.status.busy": "2025-03-20T13:26:50.368934Z",
          "iopub.execute_input": "2025-03-20T13:26:50.369445Z",
          "iopub.status.idle": "2025-03-20T13:26:52.468850Z",
          "shell.execute_reply.started": "2025-03-20T13:26:50.369409Z",
          "shell.execute_reply": "2025-03-20T13:26:52.466783Z"
        },
        "colab": {
          "base_uri": "https://localhost:8080/"
        },
        "id": "goHXcf4twjJv",
        "outputId": "be921045-6405-4542-ffd2-505b6b8e8dfe"
      },
      "outputs": [
        {
          "output_type": "execute_result",
          "data": {
            "text/plain": [
              "{'roc_auc': np.float64(0.48591010790450023),\n",
              " 'average_precision': np.float64(0.10968327869999814),\n",
              " 'max_f1': 0.20100502512562815,\n",
              " 'accuracy_on_max_f1': 0.19696969696969696,\n",
              " 'kappa': np.float64(0.000916790668481382),\n",
              " 'baseline': np.float64(0.8872053872053872),\n",
              " 'best_th': np.float64(0.998998998998999)}"
            ]
          },
          "metadata": {},
          "execution_count": 36
        }
      ],
      "execution_count": null
    },
    {
      "cell_type": "markdown",
      "source": [
        "Probá cambiando los hiperparametros! Umm, no aqui nada que hacer"
      ],
      "metadata": {
        "id": "53nVhk9zwjJv"
      }
    },
    {
      "cell_type": "markdown",
      "source": [
        "## Resumen Metricas"
      ],
      "metadata": {
        "id": "opmhRds0wjJv"
      }
    },
    {
      "cell_type": "code",
      "source": [
        "metrics = dict(\n",
        "    knn=knn_metrics,\n",
        "    rl=rl_metrics,\n",
        "    nb=nb_metrics,\n",
        "    ctree_cart=ctree_cart_metrics,\n",
        "    ctree_id3=ctree_id3_metrics,\n",
        "    bagging=bagging_metrics,\n",
        "    ada=ada_metrics,\n",
        "    rf=rf_metrics,\n",
        "    xgboost=xgb_metrics,\n",
        "    svc=svc_metrics\n",
        ")\n",
        "\n",
        "df_metrics = pd.DataFrame.from_dict(metrics, orient='index')"
      ],
      "metadata": {
        "trusted": true,
        "execution": {
          "iopub.status.busy": "2025-03-20T13:27:09.598781Z",
          "iopub.execute_input": "2025-03-20T13:27:09.599168Z",
          "iopub.status.idle": "2025-03-20T13:27:09.606074Z",
          "shell.execute_reply.started": "2025-03-20T13:27:09.599120Z",
          "shell.execute_reply": "2025-03-20T13:27:09.604812Z"
        },
        "id": "NVH5fFSswjJw"
      },
      "outputs": [],
      "execution_count": null
    },
    {
      "cell_type": "code",
      "source": [
        "plt.rc('font', size=14)\n",
        "plt.rc('xtick', labelsize=14)\n",
        "\n",
        "fig, axs = plt.subplots(1, 4 , figsize=(16, 9), sharey=True)\n",
        "\n",
        "for i, ax in enumerate(axs):\n",
        "    sns.heatmap(\n",
        "        df_metrics.iloc[:, [i]],\n",
        "        ax=ax,\n",
        "        vmin=df_metrics.iloc[:, [i]].min()*0.8,\n",
        "        vmax=df_metrics.iloc[:, [i]].max(),\n",
        "        annot=True,\n",
        "        cmap='viridis'\n",
        "    )\n",
        "\n",
        "fig.tight_layout()"
      ],
      "metadata": {
        "trusted": true,
        "execution": {
          "iopub.status.busy": "2025-03-20T13:29:23.896456Z",
          "iopub.execute_input": "2025-03-20T13:29:23.896930Z",
          "iopub.status.idle": "2025-03-20T13:29:25.596873Z",
          "shell.execute_reply.started": "2025-03-20T13:29:23.896897Z",
          "shell.execute_reply": "2025-03-20T13:29:25.595495Z"
        },
        "colab": {
          "base_uri": "https://localhost:8080/",
          "height": 739
        },
        "id": "z3WmRmeKwjJw",
        "outputId": "99f4687a-e65e-488c-fa18-8fd4604a64c0"
      },
      "outputs": [
        {
          "output_type": "display_data",
          "data": {
            "text/plain": [
              "<Figure size 1600x900 with 8 Axes>"
            ],
            "image/png": "[encoded data removed]"
          },
          "metadata": {}
        }
      ],
      "execution_count": null
    },
    {
      "cell_type": "markdown",
      "source": [
        "Definamos el umbral de decisión.\n",
        "\n",
        "https://towardsdatascience.com/metrics-to-evaluate-your-machine-learning-algorithm-f10ba6e38234\n",
        "\n",
        "https://machinelearningmastery.com/roc-curves-and-precision-recall-curves-for-classification-in-python/\n",
        "\n",
        "https://www.analyticsvidhya.com/blog/2019/08/11-important-model-evaluation-error-metrics/"
      ],
      "metadata": {
        "id": "yrN4bEd-wjJw"
      }
    },
    {
      "cell_type": "markdown",
      "source": [
        "## Supongamos que el mejor modelo fue SVC"
      ],
      "metadata": {
        "id": "3GgN1MR6y-Yj"
      }
    },
    {
      "cell_type": "code",
      "source": [
        "ths = np.linspace(0, 1, 1000)\n",
        "best_th = ths[np.argmax([skm.f1_score(y_test, svc_val_preds>th) for th in ths])]\n",
        "best_th"
      ],
      "metadata": {
        "trusted": true,
        "execution": {
          "iopub.status.busy": "2025-03-20T12:55:33.106992Z",
          "iopub.execute_input": "2025-03-20T12:55:33.107389Z",
          "iopub.status.idle": "2025-03-20T12:55:34.961242Z",
          "shell.execute_reply.started": "2025-03-20T12:55:33.107358Z",
          "shell.execute_reply": "2025-03-20T12:55:34.960261Z"
        },
        "colab": {
          "base_uri": "https://localhost:8080/"
        },
        "id": "Ng2ZvbUXwjJw",
        "outputId": "d86365d3-04e1-4361-af09-c901f40c2e00"
      },
      "outputs": [
        {
          "output_type": "execute_result",
          "data": {
            "text/plain": [
              "np.float64(0.47147147147147145)"
            ]
          },
          "metadata": {},
          "execution_count": 39
        }
      ],
      "execution_count": null
    },
    {
      "cell_type": "code",
      "source": [
        "from sklearn.model_selection import GridSearchCV"
      ],
      "metadata": {
        "id": "olxrJ9xwy74M"
      },
      "execution_count": null,
      "outputs": []
    },
    {
      "cell_type": "code",
      "source": [
        "param_grid = {\n",
        "    'classificador__kernel': ['linear', 'rbf'], #, 'poly'\n",
        "    'classificador__C': [0.1, 1, 10],\n",
        "    'classificador__gamma': ['scale', 'auto', 0.01, 0.1, 1],  # gamma solo aplica a kernels no lineales\n",
        "    #'classificador__degree': [2, 3, 4]  # solo para 'poly'\n",
        "}"
      ],
      "metadata": {
        "id": "ctqV-OgLzMQn"
      },
      "execution_count": null,
      "outputs": []
    },
    {
      "cell_type": "code",
      "source": [
        "grid_search = GridSearchCV(\n",
        "    estimator=svc_pipeline,\n",
        "    param_grid=param_grid,\n",
        "    scoring='f1',   #\n",
        "    cv=3,                 # k-fold cross-validation\n",
        "    verbose=2,            # para que veas el progreso\n",
        "    n_jobs=-1             # usa todos los núcleos disponibles\n",
        ")"
      ],
      "metadata": {
        "id": "2YEQT5D5zRS6"
      },
      "execution_count": null,
      "outputs": []
    },
    {
      "cell_type": "markdown",
      "source": [],
      "metadata": {
        "id": "fQt6RdWv1Afu"
      }
    },
    {
      "cell_type": "code",
      "source": [
        "# Entrenamiento con cronómetro\n",
        "start = time()\n",
        "grid_search.fit(X_train, y_train)\n",
        "end = time()"
      ],
      "metadata": {
        "colab": {
          "base_uri": "https://localhost:8080/"
        },
        "id": "J4tkFklCzxST",
        "outputId": "9a9d8dcd-88ff-4c04-d988-29c9de3bd159"
      },
      "execution_count": null,
      "outputs": [
        {
          "output_type": "stream",
          "name": "stdout",
          "text": [
            "Fitting 3 folds for each of 30 candidates, totalling 90 fits\n"
          ]
        }
      ]
    },
    {
      "cell_type": "code",
      "source": [
        "print('Mejores hiperparámetros encontrados:', grid_search.best_params_)\n",
        "print('Mejor score (f1):', grid_search.best_score_)"
      ],
      "metadata": {
        "colab": {
          "base_uri": "https://localhost:8080/"
        },
        "id": "mUbks-WcAm-Y",
        "outputId": "3e31a8e3-4851-4518-c94a-a9ae2a737a4c"
      },
      "execution_count": null,
      "outputs": [
        {
          "output_type": "stream",
          "name": "stdout",
          "text": [
            "Mejores hiperparámetros encontrados: {'classificador__C': 10, 'classificador__gamma': 'auto', 'classificador__kernel': 'rbf'}\n",
            "Mejor score (f1): 0.4697523864331273\n"
          ]
        }
      ]
    },
    {
      "cell_type": "markdown",
      "source": [
        "Espera!! Deberiamos reentrenar con todos los datos?"
      ],
      "metadata": {
        "id": "G8KLKcN-wjJw"
      }
    },
    {
      "cell_type": "code",
      "source": [
        "# Tomar el mejor modelo\n",
        "best_model = grid_search.best_estimator_\n",
        "\n",
        "# Reentrenar con TODOS los datos (X e y completos)\n",
        "best_model.fit(X, y)"
      ],
      "metadata": {
        "colab": {
          "base_uri": "https://localhost:8080/",
          "height": 324
        },
        "id": "3xtTeiSmBSMj",
        "outputId": "6041a897-7b9e-42b8-8ab7-48e580040937"
      },
      "execution_count": null,
      "outputs": [
        {
          "output_type": "execute_result",
          "data": {
            "text/plain": [
              "Pipeline(steps=[('preprocesamiento',\n",
              "                 ColumnTransformer(transformers=[('num',\n",
              "                                                  Pipeline(steps=[('imputer',\n",
              "                                                                   SimpleImputer()),\n",
              "                                                                  ('scaler',\n",
              "                                                                   StandardScaler()),\n",
              "                                                                  ('select_var',\n",
              "                                                                   VarianceThreshold(threshold=0.1))]),\n",
              "                                                  Index(['RIESGOS', 'PESO', 'TALLA', 'TSISTOLICA', 'TDIASTOLICA', 'mes_6',\n",
              "       'mes_5', 'mes_4', 'mes_3', 'mes_2', 'mes_1', 'valor_servicio',\n",
              "       'IV_NIVEL', 'HOSPI_NO_QUIRURGI...\n",
              "                                                                   OneHotEncoder(handle_unknown='ignore')),\n",
              "                                                                  ('selector',\n",
              "                                                                   SelectPercentile(percentile=50,\n",
              "                                                                                    score_func=<function chi2 at 0x7d90b479b600>))]),\n",
              "                                                  Index(['GENERO', 'ESTADO_CIVIL', 'CODIGO_SEDE', 'CESION',\n",
              "       'CANCER_MAMA_FAMILIAR', 'CANCER_OTRO_SITIO',\n",
              "       'CANCER_OTRO_SITIO_FAMILIAR', 'CEREBRAL_FAMILIAR',\n",
              "       'atencion_nutricion'],\n",
              "      dtype='object'))])),\n",
              "                ('classificador', SVC(C=10, gamma='auto', probability=True))])"
            ],
            "text/html": [
              "<style>#sk-container-id-1 {\n",
              "  /* Definition of color scheme common for light and dark mode */\n",
              "  --sklearn-color-text: #000;\n",
              "  --sklearn-color-text-muted: #666;\n",
              "  --sklearn-color-line: gray;\n",
              "  /* Definition of color scheme for unfitted estimators */\n",
              "  --sklearn-color-unfitted-level-0: #fff5e6;\n",
              "  --sklearn-color-unfitted-level-1: #f6e4d2;\n",
              "  --sklearn-color-unfitted-level-2: #ffe0b3;\n",
              "  --sklearn-color-unfitted-level-3: chocolate;\n",
              "  /* Definition of color scheme for fitted estimators */\n",
              "  --sklearn-color-fitted-level-0: #f0f8ff;\n",
              "  --sklearn-color-fitted-level-1: #d4ebff;\n",
              "  --sklearn-color-fitted-level-2: #b3dbfd;\n",
              "  --sklearn-color-fitted-level-3: cornflowerblue;\n",
              "\n",
              "  /* Specific color for light theme */\n",
              "  --sklearn-color-text-on-default-background: var(--sg-text-color, var(--theme-code-foreground, var(--jp-content-font-color1, black)));\n",
              "  --sklearn-color-background: var(--sg-background-color, var(--theme-background, var(--jp-layout-color0, white)));\n",
              "  --sklearn-color-border-box: var(--sg-text-color, var(--theme-code-foreground, var(--jp-content-font-color1, black)));\n",
              "  --sklearn-color-icon: #696969;\n",
              "\n",
              "  @media (prefers-color-scheme: dark) {\n",
              "    /* Redefinition of color scheme for dark theme */\n",
              "    --sklearn-color-text-on-default-background: var(--sg-text-color, var(--theme-code-foreground, var(--jp-content-font-color1, white)));\n",
              "    --sklearn-color-background: var(--sg-background-color, var(--theme-background, var(--jp-layout-color0, #111)));\n",
              "    --sklearn-color-border-box: var(--sg-text-color, var(--theme-code-foreground, var(--jp-content-font-color1, white)));\n",
              "    --sklearn-color-icon: #878787;\n",
              "  }\n",
              "}\n",
              "\n",
              "#sk-container-id-1 {\n",
              "  color: var(--sklearn-color-text);\n",
              "}\n",
              "\n",
              "#sk-container-id-1 pre {\n",
              "  padding: 0;\n",
              "}\n",
              "\n",
              "#sk-container-id-1 input.sk-hidden--visually {\n",
              "  border: 0;\n",
              "  clip: rect(1px 1px 1px 1px);\n",
              "  clip: rect(1px, 1px, 1px, 1px);\n",
              "  height: 1px;\n",
              "  margin: -1px;\n",
              "  overflow: hidden;\n",
              "  padding: 0;\n",
              "  position: absolute;\n",
              "  width: 1px;\n",
              "}\n",
              "\n",
              "#sk-container-id-1 div.sk-dashed-wrapped {\n",
              "  border: 1px dashed var(--sklearn-color-line);\n",
              "  margin: 0 0.4em 0.5em 0.4em;\n",
              "  box-sizing: border-box;\n",
              "  padding-bottom: 0.4em;\n",
              "  background-color: var(--sklearn-color-background);\n",
              "}\n",
              "\n",
              "#sk-container-id-1 div.sk-container {\n",
              "  /* jupyter's `normalize.less` sets `[hidden] { display: none; }`\n",
              "     but bootstrap.min.css set `[hidden] { display: none !important; }`\n",
              "     so we also need the `!important` here to be able to override the\n",
              "     default hidden behavior on the sphinx rendered scikit-learn.org.\n",
              "     See: https://github.com/scikit-learn/scikit-learn/issues/21755 */\n",
              "  display: inline-block !important;\n",
              "  position: relative;\n",
              "}\n",
              "\n",
              "#sk-container-id-1 div.sk-text-repr-fallback {\n",
              "  display: none;\n",
              "}\n",
              "\n",
              "div.sk-parallel-item,\n",
              "div.sk-serial,\n",
              "div.sk-item {\n",
              "  /* draw centered vertical line to link estimators */\n",
              "  background-image: linear-gradient(var(--sklearn-color-text-on-default-background), var(--sklearn-color-text-on-default-background));\n",
              "  background-size: 2px 100%;\n",
              "  background-repeat: no-repeat;\n",
              "  background-position: center center;\n",
              "}\n",
              "\n",
              "/* Parallel-specific style estimator block */\n",
              "\n",
              "#sk-container-id-1 div.sk-parallel-item::after {\n",
              "  content: \"\";\n",
              "  width: 100%;\n",
              "  border-bottom: 2px solid var(--sklearn-color-text-on-default-background);\n",
              "  flex-grow: 1;\n",
              "}\n",
              "\n",
              "#sk-container-id-1 div.sk-parallel {\n",
              "  display: flex;\n",
              "  align-items: stretch;\n",
              "  justify-content: center;\n",
              "  background-color: var(--sklearn-color-background);\n",
              "  position: relative;\n",
              "}\n",
              "\n",
              "#sk-container-id-1 div.sk-parallel-item {\n",
              "  display: flex;\n",
              "  flex-direction: column;\n",
              "}\n",
              "\n",
              "#sk-container-id-1 div.sk-parallel-item:first-child::after {\n",
              "  align-self: flex-end;\n",
              "  width: 50%;\n",
              "}\n",
              "\n",
              "#sk-container-id-1 div.sk-parallel-item:last-child::after {\n",
              "  align-self: flex-start;\n",
              "  width: 50%;\n",
              "}\n",
              "\n",
              "#sk-container-id-1 div.sk-parallel-item:only-child::after {\n",
              "  width: 0;\n",
              "}\n",
              "\n",
              "/* Serial-specific style estimator block */\n",
              "\n",
              "#sk-container-id-1 div.sk-serial {\n",
              "  display: flex;\n",
              "  flex-direction: column;\n",
              "  align-items: center;\n",
              "  background-color: var(--sklearn-color-background);\n",
              "  padding-right: 1em;\n",
              "  padding-left: 1em;\n",
              "}\n",
              "\n",
              "\n",
              "/* Toggleable style: style used for estimator/Pipeline/ColumnTransformer box that is\n",
              "clickable and can be expanded/collapsed.\n",
              "- Pipeline and ColumnTransformer use this feature and define the default style\n",
              "- Estimators will overwrite some part of the style using the `sk-estimator` class\n",
              "*/\n",
              "\n",
              "/* Pipeline and ColumnTransformer style (default) */\n",
              "\n",
              "#sk-container-id-1 div.sk-toggleable {\n",
              "  /* Default theme specific background. It is overwritten whether we have a\n",
              "  specific estimator or a Pipeline/ColumnTransformer */\n",
              "  background-color: var(--sklearn-color-background);\n",
              "}\n",
              "\n",
              "/* Toggleable label */\n",
              "#sk-container-id-1 label.sk-toggleable__label {\n",
              "  cursor: pointer;\n",
              "  display: flex;\n",
              "  width: 100%;\n",
              "  margin-bottom: 0;\n",
              "  padding: 0.5em;\n",
              "  box-sizing: border-box;\n",
              "  text-align: center;\n",
              "  align-items: start;\n",
              "  justify-content: space-between;\n",
              "  gap: 0.5em;\n",
              "}\n",
              "\n",
              "#sk-container-id-1 label.sk-toggleable__label .caption {\n",
              "  font-size: 0.6rem;\n",
              "  font-weight: lighter;\n",
              "  color: var(--sklearn-color-text-muted);\n",
              "}\n",
              "\n",
              "#sk-container-id-1 label.sk-toggleable__label-arrow:before {\n",
              "  /* Arrow on the left of the label */\n",
              "  content: \"▸\";\n",
              "  float: left;\n",
              "  margin-right: 0.25em;\n",
              "  color: var(--sklearn-color-icon);\n",
              "}\n",
              "\n",
              "#sk-container-id-1 label.sk-toggleable__label-arrow:hover:before {\n",
              "  color: var(--sklearn-color-text);\n",
              "}\n",
              "\n",
              "/* Toggleable content - dropdown */\n",
              "\n",
              "#sk-container-id-1 div.sk-toggleable__content {\n",
              "  max-height: 0;\n",
              "  max-width: 0;\n",
              "  overflow: hidden;\n",
              "  text-align: left;\n",
              "  /* unfitted */\n",
              "  background-color: var(--sklearn-color-unfitted-level-0);\n",
              "}\n",
              "\n",
              "#sk-container-id-1 div.sk-toggleable__content.fitted {\n",
              "  /* fitted */\n",
              "  background-color: var(--sklearn-color-fitted-level-0);\n",
              "}\n",
              "\n",
              "#sk-container-id-1 div.sk-toggleable__content pre {\n",
              "  margin: 0.2em;\n",
              "  border-radius: 0.25em;\n",
              "  color: var(--sklearn-color-text);\n",
              "  /* unfitted */\n",
              "  background-color: var(--sklearn-color-unfitted-level-0);\n",
              "}\n",
              "\n",
              "#sk-container-id-1 div.sk-toggleable__content.fitted pre {\n",
              "  /* unfitted */\n",
              "  background-color: var(--sklearn-color-fitted-level-0);\n",
              "}\n",
              "\n",
              "#sk-container-id-1 input.sk-toggleable__control:checked~div.sk-toggleable__content {\n",
              "  /* Expand drop-down */\n",
              "  max-height: 200px;\n",
              "  max-width: 100%;\n",
              "  overflow: auto;\n",
              "}\n",
              "\n",
              "#sk-container-id-1 input.sk-toggleable__control:checked~label.sk-toggleable__label-arrow:before {\n",
              "  content: \"▾\";\n",
              "}\n",
              "\n",
              "/* Pipeline/ColumnTransformer-specific style */\n",
              "\n",
              "#sk-container-id-1 div.sk-label input.sk-toggleable__control:checked~label.sk-toggleable__label {\n",
              "  color: var(--sklearn-color-text);\n",
              "  background-color: var(--sklearn-color-unfitted-level-2);\n",
              "}\n",
              "\n",
              "#sk-container-id-1 div.sk-label.fitted input.sk-toggleable__control:checked~label.sk-toggleable__label {\n",
              "  background-color: var(--sklearn-color-fitted-level-2);\n",
              "}\n",
              "\n",
              "/* Estimator-specific style */\n",
              "\n",
              "/* Colorize estimator box */\n",
              "#sk-container-id-1 div.sk-estimator input.sk-toggleable__control:checked~label.sk-toggleable__label {\n",
              "  /* unfitted */\n",
              "  background-color: var(--sklearn-color-unfitted-level-2);\n",
              "}\n",
              "\n",
              "#sk-container-id-1 div.sk-estimator.fitted input.sk-toggleable__control:checked~label.sk-toggleable__label {\n",
              "  /* fitted */\n",
              "  background-color: var(--sklearn-color-fitted-level-2);\n",
              "}\n",
              "\n",
              "#sk-container-id-1 div.sk-label label.sk-toggleable__label,\n",
              "#sk-container-id-1 div.sk-label label {\n",
              "  /* The background is the default theme color */\n",
              "  color: var(--sklearn-color-text-on-default-background);\n",
              "}\n",
              "\n",
              "/* On hover, darken the color of the background */\n",
              "#sk-container-id-1 div.sk-label:hover label.sk-toggleable__label {\n",
              "  color: var(--sklearn-color-text);\n",
              "  background-color: var(--sklearn-color-unfitted-level-2);\n",
              "}\n",
              "\n",
              "/* Label box, darken color on hover, fitted */\n",
              "#sk-container-id-1 div.sk-label.fitted:hover label.sk-toggleable__label.fitted {\n",
              "  color: var(--sklearn-color-text);\n",
              "  background-color: var(--sklearn-color-fitted-level-2);\n",
              "}\n",
              "\n",
              "/* Estimator label */\n",
              "\n",
              "#sk-container-id-1 div.sk-label label {\n",
              "  font-family: monospace;\n",
              "  font-weight: bold;\n",
              "  display: inline-block;\n",
              "  line-height: 1.2em;\n",
              "}\n",
              "\n",
              "#sk-container-id-1 div.sk-label-container {\n",
              "  text-align: center;\n",
              "}\n",
              "\n",
              "/* Estimator-specific */\n",
              "#sk-container-id-1 div.sk-estimator {\n",
              "  font-family: monospace;\n",
              "  border: 1px dotted var(--sklearn-color-border-box);\n",
              "  border-radius: 0.25em;\n",
              "  box-sizing: border-box;\n",
              "  margin-bottom: 0.5em;\n",
              "  /* unfitted */\n",
              "  background-color: var(--sklearn-color-unfitted-level-0);\n",
              "}\n",
              "\n",
              "#sk-container-id-1 div.sk-estimator.fitted {\n",
              "  /* fitted */\n",
              "  background-color: var(--sklearn-color-fitted-level-0);\n",
              "}\n",
              "\n",
              "/* on hover */\n",
              "#sk-container-id-1 div.sk-estimator:hover {\n",
              "  /* unfitted */\n",
              "  background-color: var(--sklearn-color-unfitted-level-2);\n",
              "}\n",
              "\n",
              "#sk-container-id-1 div.sk-estimator.fitted:hover {\n",
              "  /* fitted */\n",
              "  background-color: var(--sklearn-color-fitted-level-2);\n",
              "}\n",
              "\n",
              "/* Specification for estimator info (e.g. \"i\" and \"?\") */\n",
              "\n",
              "/* Common style for \"i\" and \"?\" */\n",
              "\n",
              ".sk-estimator-doc-link,\n",
              "a:link.sk-estimator-doc-link,\n",
              "a:visited.sk-estimator-doc-link {\n",
              "  float: right;\n",
              "  font-size: smaller;\n",
              "  line-height: 1em;\n",
              "  font-family: monospace;\n",
              "  background-color: var(--sklearn-color-background);\n",
              "  border-radius: 1em;\n",
              "  height: 1em;\n",
              "  width: 1em;\n",
              "  text-decoration: none !important;\n",
              "  margin-left: 0.5em;\n",
              "  text-align: center;\n",
              "  /* unfitted */\n",
              "  border: var(--sklearn-color-unfitted-level-1) 1pt solid;\n",
              "  color: var(--sklearn-color-unfitted-level-1);\n",
              "}\n",
              "\n",
              ".sk-estimator-doc-link.fitted,\n",
              "a:link.sk-estimator-doc-link.fitted,\n",
              "a:visited.sk-estimator-doc-link.fitted {\n",
              "  /* fitted */\n",
              "  border: var(--sklearn-color-fitted-level-1) 1pt solid;\n",
              "  color: var(--sklearn-color-fitted-level-1);\n",
              "}\n",
              "\n",
              "/* On hover */\n",
              "div.sk-estimator:hover .sk-estimator-doc-link:hover,\n",
              ".sk-estimator-doc-link:hover,\n",
              "div.sk-label-container:hover .sk-estimator-doc-link:hover,\n",
              ".sk-estimator-doc-link:hover {\n",
              "  /* unfitted */\n",
              "  background-color: var(--sklearn-color-unfitted-level-3);\n",
              "  color: var(--sklearn-color-background);\n",
              "  text-decoration: none;\n",
              "}\n",
              "\n",
              "div.sk-estimator.fitted:hover .sk-estimator-doc-link.fitted:hover,\n",
              ".sk-estimator-doc-link.fitted:hover,\n",
              "div.sk-label-container:hover .sk-estimator-doc-link.fitted:hover,\n",
              ".sk-estimator-doc-link.fitted:hover {\n",
              "  /* fitted */\n",
              "  background-color: var(--sklearn-color-fitted-level-3);\n",
              "  color: var(--sklearn-color-background);\n",
              "  text-decoration: none;\n",
              "}\n",
              "\n",
              "/* Span, style for the box shown on hovering the info icon */\n",
              ".sk-estimator-doc-link span {\n",
              "  display: none;\n",
              "  z-index: 9999;\n",
              "  position: relative;\n",
              "  font-weight: normal;\n",
              "  right: .2ex;\n",
              "  padding: .5ex;\n",
              "  margin: .5ex;\n",
              "  width: min-content;\n",
              "  min-width: 20ex;\n",
              "  max-width: 50ex;\n",
              "  color: var(--sklearn-color-text);\n",
              "  box-shadow: 2pt 2pt 4pt #999;\n",
              "  /* unfitted */\n",
              "  background: var(--sklearn-color-unfitted-level-0);\n",
              "  border: .5pt solid var(--sklearn-color-unfitted-level-3);\n",
              "}\n",
              "\n",
              ".sk-estimator-doc-link.fitted span {\n",
              "  /* fitted */\n",
              "  background: var(--sklearn-color-fitted-level-0);\n",
              "  border: var(--sklearn-color-fitted-level-3);\n",
              "}\n",
              "\n",
              ".sk-estimator-doc-link:hover span {\n",
              "  display: block;\n",
              "}\n",
              "\n",
              "/* \"?\"-specific style due to the `<a>` HTML tag */\n",
              "\n",
              "#sk-container-id-1 a.estimator_doc_link {\n",
              "  float: right;\n",
              "  font-size: 1rem;\n",
              "  line-height: 1em;\n",
              "  font-family: monospace;\n",
              "  background-color: var(--sklearn-color-background);\n",
              "  border-radius: 1rem;\n",
              "  height: 1rem;\n",
              "  width: 1rem;\n",
              "  text-decoration: none;\n",
              "  /* unfitted */\n",
              "  color: var(--sklearn-color-unfitted-level-1);\n",
              "  border: var(--sklearn-color-unfitted-level-1) 1pt solid;\n",
              "}\n",
              "\n",
              "#sk-container-id-1 a.estimator_doc_link.fitted {\n",
              "  /* fitted */\n",
              "  border: var(--sklearn-color-fitted-level-1) 1pt solid;\n",
              "  color: var(--sklearn-color-fitted-level-1);\n",
              "}\n",
              "\n",
              "/* On hover */\n",
              "#sk-container-id-1 a.estimator_doc_link:hover {\n",
              "  /* unfitted */\n",
              "  background-color: var(--sklearn-color-unfitted-level-3);\n",
              "  color: var(--sklearn-color-background);\n",
              "  text-decoration: none;\n",
              "}\n",
              "\n",
              "#sk-container-id-1 a.estimator_doc_link.fitted:hover {\n",
              "  /* fitted */\n",
              "  background-color: var(--sklearn-color-fitted-level-3);\n",
              "}\n",
              "</style><div id=\"sk-container-id-1\" class=\"sk-top-container\"><div class=\"sk-text-repr-fallback\"><pre>Pipeline(steps=[(&#x27;preprocesamiento&#x27;,\n",
              "                 ColumnTransformer(transformers=[(&#x27;num&#x27;,\n",
              "                                                  Pipeline(steps=[(&#x27;imputer&#x27;,\n",
              "                                                                   SimpleImputer()),\n",
              "                                                                  (&#x27;scaler&#x27;,\n",
              "                                                                   StandardScaler()),\n",
              "                                                                  (&#x27;select_var&#x27;,\n",
              "                                                                   VarianceThreshold(threshold=0.1))]),\n",
              "                                                  Index([&#x27;RIESGOS&#x27;, &#x27;PESO&#x27;, &#x27;TALLA&#x27;, &#x27;TSISTOLICA&#x27;, &#x27;TDIASTOLICA&#x27;, &#x27;mes_6&#x27;,\n",
              "       &#x27;mes_5&#x27;, &#x27;mes_4&#x27;, &#x27;mes_3&#x27;, &#x27;mes_2&#x27;, &#x27;mes_1&#x27;, &#x27;valor_servicio&#x27;,\n",
              "       &#x27;IV_NIVEL&#x27;, &#x27;HOSPI_NO_QUIRURGI...\n",
              "                                                                   OneHotEncoder(handle_unknown=&#x27;ignore&#x27;)),\n",
              "                                                                  (&#x27;selector&#x27;,\n",
              "                                                                   SelectPercentile(percentile=50,\n",
              "                                                                                    score_func=&lt;function chi2 at 0x7d90b479b600&gt;))]),\n",
              "                                                  Index([&#x27;GENERO&#x27;, &#x27;ESTADO_CIVIL&#x27;, &#x27;CODIGO_SEDE&#x27;, &#x27;CESION&#x27;,\n",
              "       &#x27;CANCER_MAMA_FAMILIAR&#x27;, &#x27;CANCER_OTRO_SITIO&#x27;,\n",
              "       &#x27;CANCER_OTRO_SITIO_FAMILIAR&#x27;, &#x27;CEREBRAL_FAMILIAR&#x27;,\n",
              "       &#x27;atencion_nutricion&#x27;],\n",
              "      dtype=&#x27;object&#x27;))])),\n",
              "                (&#x27;classificador&#x27;, SVC(C=10, gamma=&#x27;auto&#x27;, probability=True))])</pre><b>In a Jupyter environment, please rerun this cell to show the HTML representation or trust the notebook. <br />On GitHub, the HTML representation is unable to render, please try loading this page with nbviewer.org.</b></div><div class=\"sk-container\" hidden><div class=\"sk-item sk-dashed-wrapped\"><div class=\"sk-label-container\"><div class=\"sk-label fitted sk-toggleable\"><input class=\"sk-toggleable__control sk-hidden--visually\" id=\"sk-estimator-id-1\" type=\"checkbox\" ><label for=\"sk-estimator-id-1\" class=\"sk-toggleable__label fitted sk-toggleable__label-arrow\"><div><div>Pipeline</div></div><div><a class=\"sk-estimator-doc-link fitted\" rel=\"noreferrer\" target=\"_blank\" href=\"https://scikit-learn.org/1.6/modules/generated/sklearn.pipeline.Pipeline.html\">?<span>Documentation for Pipeline</span></a><span class=\"sk-estimator-doc-link fitted\">i<span>Fitted</span></span></div></label><div class=\"sk-toggleable__content fitted\"><pre>Pipeline(steps=[(&#x27;preprocesamiento&#x27;,\n",
              "                 ColumnTransformer(transformers=[(&#x27;num&#x27;,\n",
              "                                                  Pipeline(steps=[(&#x27;imputer&#x27;,\n",
              "                                                                   SimpleImputer()),\n",
              "                                                                  (&#x27;scaler&#x27;,\n",
              "                                                                   StandardScaler()),\n",
              "                                                                  (&#x27;select_var&#x27;,\n",
              "                                                                   VarianceThreshold(threshold=0.1))]),\n",
              "                                                  Index([&#x27;RIESGOS&#x27;, &#x27;PESO&#x27;, &#x27;TALLA&#x27;, &#x27;TSISTOLICA&#x27;, &#x27;TDIASTOLICA&#x27;, &#x27;mes_6&#x27;,\n",
              "       &#x27;mes_5&#x27;, &#x27;mes_4&#x27;, &#x27;mes_3&#x27;, &#x27;mes_2&#x27;, &#x27;mes_1&#x27;, &#x27;valor_servicio&#x27;,\n",
              "       &#x27;IV_NIVEL&#x27;, &#x27;HOSPI_NO_QUIRURGI...\n",
              "                                                                   OneHotEncoder(handle_unknown=&#x27;ignore&#x27;)),\n",
              "                                                                  (&#x27;selector&#x27;,\n",
              "                                                                   SelectPercentile(percentile=50,\n",
              "                                                                                    score_func=&lt;function chi2 at 0x7d90b479b600&gt;))]),\n",
              "                                                  Index([&#x27;GENERO&#x27;, &#x27;ESTADO_CIVIL&#x27;, &#x27;CODIGO_SEDE&#x27;, &#x27;CESION&#x27;,\n",
              "       &#x27;CANCER_MAMA_FAMILIAR&#x27;, &#x27;CANCER_OTRO_SITIO&#x27;,\n",
              "       &#x27;CANCER_OTRO_SITIO_FAMILIAR&#x27;, &#x27;CEREBRAL_FAMILIAR&#x27;,\n",
              "       &#x27;atencion_nutricion&#x27;],\n",
              "      dtype=&#x27;object&#x27;))])),\n",
              "                (&#x27;classificador&#x27;, SVC(C=10, gamma=&#x27;auto&#x27;, probability=True))])</pre></div> </div></div><div class=\"sk-serial\"><div class=\"sk-item sk-dashed-wrapped\"><div class=\"sk-label-container\"><div class=\"sk-label fitted sk-toggleable\"><input class=\"sk-toggleable__control sk-hidden--visually\" id=\"sk-estimator-id-2\" type=\"checkbox\" ><label for=\"sk-estimator-id-2\" class=\"sk-toggleable__label fitted sk-toggleable__label-arrow\"><div><div>preprocesamiento: ColumnTransformer</div></div><div><a class=\"sk-estimator-doc-link fitted\" rel=\"noreferrer\" target=\"_blank\" href=\"https://scikit-learn.org/1.6/modules/generated/sklearn.compose.ColumnTransformer.html\">?<span>Documentation for preprocesamiento: ColumnTransformer</span></a></div></label><div class=\"sk-toggleable__content fitted\"><pre>ColumnTransformer(transformers=[(&#x27;num&#x27;,\n",
              "                                 Pipeline(steps=[(&#x27;imputer&#x27;, SimpleImputer()),\n",
              "                                                 (&#x27;scaler&#x27;, StandardScaler()),\n",
              "                                                 (&#x27;select_var&#x27;,\n",
              "                                                  VarianceThreshold(threshold=0.1))]),\n",
              "                                 Index([&#x27;RIESGOS&#x27;, &#x27;PESO&#x27;, &#x27;TALLA&#x27;, &#x27;TSISTOLICA&#x27;, &#x27;TDIASTOLICA&#x27;, &#x27;mes_6&#x27;,\n",
              "       &#x27;mes_5&#x27;, &#x27;mes_4&#x27;, &#x27;mes_3&#x27;, &#x27;mes_2&#x27;, &#x27;mes_1&#x27;, &#x27;valor_servicio&#x27;,\n",
              "       &#x27;IV_NIVEL&#x27;, &#x27;HOSPI_NO_QUIRURGICA&#x27;, &#x27;URGENCIAS&#x27;, &#x27;HOSPITALIZACION&#x27;,\n",
              "       &#x27;C...\n",
              "                                                  SimpleImputer(strategy=&#x27;most_frequent&#x27;)),\n",
              "                                                 (&#x27;dumm&#x27;,\n",
              "                                                  OneHotEncoder(handle_unknown=&#x27;ignore&#x27;)),\n",
              "                                                 (&#x27;selector&#x27;,\n",
              "                                                  SelectPercentile(percentile=50,\n",
              "                                                                   score_func=&lt;function chi2 at 0x7d90b479b600&gt;))]),\n",
              "                                 Index([&#x27;GENERO&#x27;, &#x27;ESTADO_CIVIL&#x27;, &#x27;CODIGO_SEDE&#x27;, &#x27;CESION&#x27;,\n",
              "       &#x27;CANCER_MAMA_FAMILIAR&#x27;, &#x27;CANCER_OTRO_SITIO&#x27;,\n",
              "       &#x27;CANCER_OTRO_SITIO_FAMILIAR&#x27;, &#x27;CEREBRAL_FAMILIAR&#x27;,\n",
              "       &#x27;atencion_nutricion&#x27;],\n",
              "      dtype=&#x27;object&#x27;))])</pre></div> </div></div><div class=\"sk-parallel\"><div class=\"sk-parallel-item\"><div class=\"sk-item\"><div class=\"sk-label-container\"><div class=\"sk-label fitted sk-toggleable\"><input class=\"sk-toggleable__control sk-hidden--visually\" id=\"sk-estimator-id-3\" type=\"checkbox\" ><label for=\"sk-estimator-id-3\" class=\"sk-toggleable__label fitted sk-toggleable__label-arrow\"><div><div>num</div></div></label><div class=\"sk-toggleable__content fitted\"><pre>Index([&#x27;RIESGOS&#x27;, &#x27;PESO&#x27;, &#x27;TALLA&#x27;, &#x27;TSISTOLICA&#x27;, &#x27;TDIASTOLICA&#x27;, &#x27;mes_6&#x27;,\n",
              "       &#x27;mes_5&#x27;, &#x27;mes_4&#x27;, &#x27;mes_3&#x27;, &#x27;mes_2&#x27;, &#x27;mes_1&#x27;, &#x27;valor_servicio&#x27;,\n",
              "       &#x27;IV_NIVEL&#x27;, &#x27;HOSPI_NO_QUIRURGICA&#x27;, &#x27;URGENCIAS&#x27;, &#x27;HOSPITALIZACION&#x27;,\n",
              "       &#x27;CITA_ONCOLOGICA&#x27;, &#x27;Biopsias_cancer&#x27;, &#x27;radioterapias_cancer&#x27;,\n",
              "       &#x27;quimioterapias__cancer&#x27;, &#x27;hormonoterapias__cancer&#x27;,\n",
              "       &#x27;cuidado_palitiavo__cancer&#x27;, &#x27;inmunoterapias_cancer&#x27;,\n",
              "       &#x27;Citas_oncologicas_cancer&#x27;, &#x27;psiquiatria_cancer&#x27;, &#x27;psicologia_cancer&#x27;,\n",
              "       &#x27;nutricion_cancer&#x27;, &#x27;EDAD_COMPLICACION&#x27;],\n",
              "      dtype=&#x27;object&#x27;)</pre></div> </div></div><div class=\"sk-serial\"><div class=\"sk-item\"><div class=\"sk-serial\"><div class=\"sk-item\"><div class=\"sk-estimator fitted sk-toggleable\"><input class=\"sk-toggleable__control sk-hidden--visually\" id=\"sk-estimator-id-4\" type=\"checkbox\" ><label for=\"sk-estimator-id-4\" class=\"sk-toggleable__label fitted sk-toggleable__label-arrow\"><div><div>SimpleImputer</div></div><div><a class=\"sk-estimator-doc-link fitted\" rel=\"noreferrer\" target=\"_blank\" href=\"https://scikit-learn.org/1.6/modules/generated/sklearn.impute.SimpleImputer.html\">?<span>Documentation for SimpleImputer</span></a></div></label><div class=\"sk-toggleable__content fitted\"><pre>SimpleImputer()</pre></div> </div></div><div class=\"sk-item\"><div class=\"sk-estimator fitted sk-toggleable\"><input class=\"sk-toggleable__control sk-hidden--visually\" id=\"sk-estimator-id-5\" type=\"checkbox\" ><label for=\"sk-estimator-id-5\" class=\"sk-toggleable__label fitted sk-toggleable__label-arrow\"><div><div>StandardScaler</div></div><div><a class=\"sk-estimator-doc-link fitted\" rel=\"noreferrer\" target=\"_blank\" href=\"https://scikit-learn.org/1.6/modules/generated/sklearn.preprocessing.StandardScaler.html\">?<span>Documentation for StandardScaler</span></a></div></label><div class=\"sk-toggleable__content fitted\"><pre>StandardScaler()</pre></div> </div></div><div class=\"sk-item\"><div class=\"sk-estimator fitted sk-toggleable\"><input class=\"sk-toggleable__control sk-hidden--visually\" id=\"sk-estimator-id-6\" type=\"checkbox\" ><label for=\"sk-estimator-id-6\" class=\"sk-toggleable__label fitted sk-toggleable__label-arrow\"><div><div>VarianceThreshold</div></div><div><a class=\"sk-estimator-doc-link fitted\" rel=\"noreferrer\" target=\"_blank\" href=\"https://scikit-learn.org/1.6/modules/generated/sklearn.feature_selection.VarianceThreshold.html\">?<span>Documentation for VarianceThreshold</span></a></div></label><div class=\"sk-toggleable__content fitted\"><pre>VarianceThreshold(threshold=0.1)</pre></div> </div></div></div></div></div></div></div><div class=\"sk-parallel-item\"><div class=\"sk-item\"><div class=\"sk-label-container\"><div class=\"sk-label fitted sk-toggleable\"><input class=\"sk-toggleable__control sk-hidden--visually\" id=\"sk-estimator-id-7\" type=\"checkbox\" ><label for=\"sk-estimator-id-7\" class=\"sk-toggleable__label fitted sk-toggleable__label-arrow\"><div><div>cat</div></div></label><div class=\"sk-toggleable__content fitted\"><pre>Index([&#x27;GENERO&#x27;, &#x27;ESTADO_CIVIL&#x27;, &#x27;CODIGO_SEDE&#x27;, &#x27;CESION&#x27;,\n",
              "       &#x27;CANCER_MAMA_FAMILIAR&#x27;, &#x27;CANCER_OTRO_SITIO&#x27;,\n",
              "       &#x27;CANCER_OTRO_SITIO_FAMILIAR&#x27;, &#x27;CEREBRAL_FAMILIAR&#x27;,\n",
              "       &#x27;atencion_nutricion&#x27;],\n",
              "      dtype=&#x27;object&#x27;)</pre></div> </div></div><div class=\"sk-serial\"><div class=\"sk-item\"><div class=\"sk-serial\"><div class=\"sk-item\"><div class=\"sk-estimator fitted sk-toggleable\"><input class=\"sk-toggleable__control sk-hidden--visually\" id=\"sk-estimator-id-8\" type=\"checkbox\" ><label for=\"sk-estimator-id-8\" class=\"sk-toggleable__label fitted sk-toggleable__label-arrow\"><div><div>SimpleImputer</div></div><div><a class=\"sk-estimator-doc-link fitted\" rel=\"noreferrer\" target=\"_blank\" href=\"https://scikit-learn.org/1.6/modules/generated/sklearn.impute.SimpleImputer.html\">?<span>Documentation for SimpleImputer</span></a></div></label><div class=\"sk-toggleable__content fitted\"><pre>SimpleImputer(strategy=&#x27;most_frequent&#x27;)</pre></div> </div></div><div class=\"sk-item\"><div class=\"sk-estimator fitted sk-toggleable\"><input class=\"sk-toggleable__control sk-hidden--visually\" id=\"sk-estimator-id-9\" type=\"checkbox\" ><label for=\"sk-estimator-id-9\" class=\"sk-toggleable__label fitted sk-toggleable__label-arrow\"><div><div>OneHotEncoder</div></div><div><a class=\"sk-estimator-doc-link fitted\" rel=\"noreferrer\" target=\"_blank\" href=\"https://scikit-learn.org/1.6/modules/generated/sklearn.preprocessing.OneHotEncoder.html\">?<span>Documentation for OneHotEncoder</span></a></div></label><div class=\"sk-toggleable__content fitted\"><pre>OneHotEncoder(handle_unknown=&#x27;ignore&#x27;)</pre></div> </div></div><div class=\"sk-item\"><div class=\"sk-estimator fitted sk-toggleable\"><input class=\"sk-toggleable__control sk-hidden--visually\" id=\"sk-estimator-id-10\" type=\"checkbox\" ><label for=\"sk-estimator-id-10\" class=\"sk-toggleable__label fitted sk-toggleable__label-arrow\"><div><div>SelectPercentile</div></div><div><a class=\"sk-estimator-doc-link fitted\" rel=\"noreferrer\" target=\"_blank\" href=\"https://scikit-learn.org/1.6/modules/generated/sklearn.feature_selection.SelectPercentile.html\">?<span>Documentation for SelectPercentile</span></a></div></label><div class=\"sk-toggleable__content fitted\"><pre>SelectPercentile(percentile=50, score_func=&lt;function chi2 at 0x7d90b479b600&gt;)</pre></div> </div></div></div></div></div></div></div></div></div><div class=\"sk-item\"><div class=\"sk-estimator fitted sk-toggleable\"><input class=\"sk-toggleable__control sk-hidden--visually\" id=\"sk-estimator-id-11\" type=\"checkbox\" ><label for=\"sk-estimator-id-11\" class=\"sk-toggleable__label fitted sk-toggleable__label-arrow\"><div><div>SVC</div></div><div><a class=\"sk-estimator-doc-link fitted\" rel=\"noreferrer\" target=\"_blank\" href=\"https://scikit-learn.org/1.6/modules/generated/sklearn.svm.SVC.html\">?<span>Documentation for SVC</span></a></div></label><div class=\"sk-toggleable__content fitted\"><pre>SVC(C=10, gamma=&#x27;auto&#x27;, probability=True)</pre></div> </div></div></div></div></div></div>"
            ]
          },
          "metadata": {},
          "execution_count": 45
        }
      ]
    },
    {
      "cell_type": "code",
      "source": [
        "with open(\"best_model.pkl\", \"wb\") as f:\n",
        "    pickle.dump(svc_pipeline, f)"
      ],
      "metadata": {
        "id": "LHEjqqZ0A5Vv"
      },
      "execution_count": null,
      "outputs": []
    },
    {
      "cell_type": "markdown",
      "source": [
        "## Generar Submission\n",
        "\n",
        "Realicemos predicciones sobre el test set de la competencia"
      ],
      "metadata": {
        "id": "gbRew5y3wjJw"
      }
    },
    {
      "cell_type": "code",
      "source": [
        "test_df = pd.read_parquet( \"df_test.parquet\")\n",
        "test_df['EDAD_COMPLICACION'] = (test_df['Fecha_cero'] - test_df['FECHA_NACIMIENTO']).dt.days // 365\n",
        "\n",
        "test_df[columnas_numerico] = X[columnas_numerico].astype(float)\n",
        "test_df[columnas_categ] = X[columnas_categ].astype(str)\n",
        "\n",
        "submission_pred = best_model.predict_proba(test_df)[:, 1]\n",
        "submission_pred_bool = submission_pred>best_th\n",
        "submission_pred_int = [int(item) for item in submission_pred_bool]\n",
        "submission = pd.DataFrame(data=dict(ID=test_df.index, Target=submission_pred_int))\n",
        "submission.to_csv(\"submission_svc.csv\", index=False)"
      ],
      "metadata": {
        "trusted": true,
        "id": "vYkykp-4wjJw"
      },
      "outputs": [],
      "execution_count": null
    },
    {
      "cell_type": "code",
      "source": [
        "submission.Target.value_counts()"
      ],
      "metadata": {
        "trusted": true,
        "colab": {
          "base_uri": "https://localhost:8080/"
        },
        "id": "9OflenNAwjJw",
        "outputId": "9dc171bf-be0d-4041-e4a4-a624efe83efc"
      },
      "outputs": [
        {
          "output_type": "execute_result",
          "data": {
            "text/plain": [
              "Target\n",
              "0    1607\n",
              "1      88\n",
              "Name: count, dtype: int64"
            ],
            "text/html": [
              "<div>\n",
              "<style scoped>\n",
              "    .dataframe tbody tr th:only-of-type {\n",
              "        vertical-align: middle;\n",
              "    }\n",
              "\n",
              "    .dataframe tbody tr th {\n",
              "        vertical-align: top;\n",
              "    }\n",
              "\n",
              "    .dataframe thead th {\n",
              "        text-align: right;\n",
              "    }\n",
              "</style>\n",
              "<table border=\"1\" class=\"dataframe\">\n",
              "  <thead>\n",
              "    <tr style=\"text-align: right;\">\n",
              "      <th></th>\n",
              "      <th>count</th>\n",
              "    </tr>\n",
              "    <tr>\n",
              "      <th>Target</th>\n",
              "      <th></th>\n",
              "    </tr>\n",
              "  </thead>\n",
              "  <tbody>\n",
              "    <tr>\n",
              "      <th>0</th>\n",
              "      <td>1607</td>\n",
              "    </tr>\n",
              "    <tr>\n",
              "      <th>1</th>\n",
              "      <td>88</td>\n",
              "    </tr>\n",
              "  </tbody>\n",
              "</table>\n",
              "</div><br><label><b>dtype:</b> int64</label>"
            ]
          },
          "metadata": {},
          "execution_count": 48
        }
      ],
      "execution_count": null
    },
    {
      "cell_type": "code",
      "source": [],
      "metadata": {
        "id": "d8jEBRiOBu0B"
      },
      "execution_count": null,
      "outputs": []
    }
  ]
}