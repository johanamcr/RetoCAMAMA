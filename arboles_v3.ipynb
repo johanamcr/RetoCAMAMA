{
  "cells": [
    {
      "cell_type": "markdown",
      "metadata": {
        "id": "T8AFnH6SoMfJ"
      },
      "source": [
        "# Modeling de Cancer de Mama\n",
        "\n",
        "Se prueban inicialmente bajo un train/validation/split los modelos de:\n",
        "\n",
        "Ahora iniciaremos con modelos de arboles\n",
        "\n",
        "  * CART\n",
        "\n",
        "  * ID3\n",
        "\n",
        "Y ejecutaremos los visto en la clase anterior\n",
        "\n",
        "  * Regresión Logística\n",
        "\n",
        "  * Knn"
      ]
    },
    {
      "cell_type": "markdown",
      "metadata": {
        "id": "VvmMZUqAoMfM"
      },
      "source": [
        "## Importamos Librerias"
      ]
    },
    {
      "cell_type": "code",
      "execution_count": 1,
      "metadata": {
        "_cell_guid": "b1076dfc-b9ad-4769-8c92-a6c4dae69d19",
        "_uuid": "8f2839f25d086af736a60e9eeb907d3b93b6e0e5",
        "execution": {
          "iopub.execute_input": "2025-03-20T02:59:37.935704Z",
          "iopub.status.busy": "2025-03-20T02:59:37.935359Z",
          "iopub.status.idle": "2025-03-20T02:59:38.442599Z",
          "shell.execute_reply": "2025-03-20T02:59:38.441775Z",
          "shell.execute_reply.started": "2025-03-20T02:59:37.935675Z"
        },
        "id": "3lITm-lEoMfN",
        "trusted": true
      },
      "outputs": [],
      "source": [
        "import numpy as np  # Algebra lineal, manipulación de arreglos numéricos.\n",
        "import pandas as pd  # Procesamiento de datos, lectura/escritura de archivos CSV.\n",
        "import os.path as osp  # Manejo de rutas de archivos.\n",
        "import pickle  # Serialización y deserialización de objetos Python (guardar/cargar modelos).\n",
        "from sklearn.base import BaseEstimator, TransformerMixin\n",
        "from sklearn.ensemble import RandomForestClassifier\n",
        "\n",
        "\n",
        "# Modelos de clasificación Adicional\n",
        "\n",
        "from sklearn import tree\n",
        "\n",
        "# Modelos de clasificación\n",
        "from sklearn.linear_model import LogisticRegression  # Modelo de regresión logística para clasificación binaria.\n",
        "from sklearn.neighbors import KNeighborsClassifier  # K-Nearest Neighbors (KNN) para clasificación basada en distancia.\n",
        "from sklearn.naive_bayes import GaussianNB  # Clasificador Naive Bayes basado en distribución Gaussiana.\n",
        "\n",
        "# Preprocesamiento de datos\n",
        "from sklearn.preprocessing import OneHotEncoder  # Codificación one-hot para variables categóricas nominales.\n",
        "from sklearn.preprocessing import OrdinalEncoder  # Codificación ordinal para variables categóricas con orden.\n",
        "from sklearn.preprocessing import StandardScaler  # Normalización de datos para mejorar el rendimiento del modelo.\n",
        "from sklearn.preprocessing import FunctionTransformer  # Aplicación de transformaciones personalizadas.\n",
        "\n",
        "# División del conjunto de datos\n",
        "from sklearn.model_selection import train_test_split  # División en conjunto de entrenamiento y prueba.\n",
        "\n",
        "# Selección de características\n",
        "from sklearn.feature_selection import VarianceThreshold  # Elimina características con varianza baja (irrelevantes).\n",
        "from sklearn.feature_selection import SelectPercentile, chi2  # Selección de características más relevantes con Chi-cuadrado.\n",
        "\n",
        "# Construcción del pipeline de procesamiento y modelado\n",
        "from sklearn.compose import ColumnTransformer  # Aplica transformaciones específicas a diferentes columnas.\n",
        "from sklearn.pipeline import Pipeline, make_pipeline  # Automatiza el flujo de preprocesamiento y modelado.\n",
        "\n",
        "# Manejo de valores faltantes\n",
        "from sklearn.impute import SimpleImputer  # Rellena valores faltantes con media, mediana, moda, etc.\n",
        "\n",
        "# Evaluación de modelos\n",
        "import sklearn.metrics as skm  # Métricas de rendimiento como precisión, recall, F1-score, AUC-ROC, etc.\n",
        "\n",
        "# Visualización de datos\n",
        "import matplotlib.pyplot as plt  # Gráficos y visualización de métricas.\n",
        "import seaborn as sns  # Visualización avanzada con gráficos estadísticos.\n",
        "\n",
        "# Medición de tiempos de ejecución\n",
        "from time import time  # Captura de tiempo de inicio y fin de ejecución.\n",
        "from datetime import timedelta  # Cálculo de diferencias de tiempo en ejecución.\n",
        "\n",
        "# Input data files are available in the read-only \"../input/\" directory\n",
        "# For example, running this (by clicking run or pressing Shift+Enter) will list all files under the input directory\n",
        "\n",
        "import os\n",
        "for dirname, _, filenames in os.walk('/kaggle/input'):\n",
        "    for filename in filenames:\n",
        "        print(os.path.join(dirname, filename))\n",
        "\n",
        "# You can write up to 20GB to the current directory (/kaggle/working/) that gets preserved as output when you create a version using \"Save & Run All\"\n",
        "# You can also write temporary files to /kaggle/temp/, but they won't be saved outside of the current session"
      ]
    },
    {
      "cell_type": "markdown",
      "metadata": {
        "id": "nWTNBNdqoMfR"
      },
      "source": [
        "## Funciones útiles"
      ]
    },
    {
      "cell_type": "code",
      "execution_count": 2,
      "metadata": {
        "execution": {
          "iopub.execute_input": "2025-03-20T02:59:43.443678Z",
          "iopub.status.busy": "2025-03-20T02:59:43.443199Z",
          "iopub.status.idle": "2025-03-20T02:59:43.449716Z",
          "shell.execute_reply": "2025-03-20T02:59:43.448752Z",
          "shell.execute_reply.started": "2025-03-20T02:59:43.443649Z"
        },
        "id": "noRFQF7boMfS",
        "trusted": true
      },
      "outputs": [],
      "source": [
        "def get_imbalaced_metrics(y_true, y_preds):\n",
        "    '''calcula métricas de evaluación para modelos de clasificación cuando los datos están desbalanceados.'''\n",
        "    ths = np.linspace(0, 1, 1000)\n",
        "    best_th = ths[\n",
        "        np.argmax([skm.f1_score(y_true, y_preds>th) for th in ths])\n",
        "    ]\n",
        "\n",
        "    roc_auc = skm.roc_auc_score(y_true, y_preds)\n",
        "    average_precision = skm.average_precision_score(y_true, y_preds)\n",
        "    max_f1 = skm.f1_score(y_true, y_preds>best_th)\n",
        "    accuracy_on_max_f1 = skm.accuracy_score(y_true, y_preds>best_th)\n",
        "    baseline=y_true.value_counts(True)\n",
        "\n",
        "    return dict(\n",
        "        roc_auc=roc_auc,\n",
        "        average_precision=average_precision,\n",
        "        max_f1=max_f1,\n",
        "        accuracy_on_max_f1=accuracy_on_max_f1,\n",
        "        baseline=baseline.iloc[0]\n",
        "    )"
      ]
    },
    {
      "cell_type": "markdown",
      "metadata": {
        "id": "qBxwMS14oMfT"
      },
      "source": [
        "## Carga de Datos\n",
        "\n",
        "Este fragmento de código carga los datos del conjunto de entrenamiento (df_train.parquet) desde un directorio en Kaggle."
      ]
    },
    {
      "cell_type": "markdown",
      "metadata": {
        "id": "Abqep70MoMfU"
      },
      "source": [
        "Separamos las características (X) y la variable objetivo (y) del conjunto de datos, y luego analiza el balance de clases en la variable objetivo. Del EDA realizado anteriormente ya sabiamos del desbalanceo de nuestra variable objetivo, un 11% de complicaciones."
      ]
    },
    {
      "cell_type": "code",
      "execution_count": 4,
      "metadata": {
        "colab": {
          "base_uri": "https://localhost:8080/",
          "height": 343
        },
        "id": "BoBa4gmwo348",
        "outputId": "2d536e5e-40f5-42e5-c6c1-0fba94865f7d"
      },
      "outputs": [
        {
          "output_type": "display_data",
          "data": {
            "text/plain": [
              "<IPython.core.display.HTML object>"
            ],
            "text/html": [
              "\n",
              "     <input type=\"file\" id=\"files-bb679485-61d5-4b4c-be8d-26cdd4a5edb7\" name=\"files[]\" multiple disabled\n",
              "        style=\"border:none\" />\n",
              "     <output id=\"result-bb679485-61d5-4b4c-be8d-26cdd4a5edb7\">\n",
              "      Upload widget is only available when the cell has been executed in the\n",
              "      current browser session. Please rerun this cell to enable.\n",
              "      </output>\n",
              "      <script>// Copyright 2017 Google LLC\n",
              "//\n",
              "// Licensed under the Apache License, Version 2.0 (the \"License\");\n",
              "// you may not use this file except in compliance with the License.\n",
              "// You may obtain a copy of the License at\n",
              "//\n",
              "//      http://www.apache.org/licenses/LICENSE-2.0\n",
              "//\n",
              "// Unless required by applicable law or agreed to in writing, software\n",
              "// distributed under the License is distributed on an \"AS IS\" BASIS,\n",
              "// WITHOUT WARRANTIES OR CONDITIONS OF ANY KIND, either express or implied.\n",
              "// See the License for the specific language governing permissions and\n",
              "// limitations under the License.\n",
              "\n",
              "/**\n",
              " * @fileoverview Helpers for google.colab Python module.\n",
              " */\n",
              "(function(scope) {\n",
              "function span(text, styleAttributes = {}) {\n",
              "  const element = document.createElement('span');\n",
              "  element.textContent = text;\n",
              "  for (const key of Object.keys(styleAttributes)) {\n",
              "    element.style[key] = styleAttributes[key];\n",
              "  }\n",
              "  return element;\n",
              "}\n",
              "\n",
              "// Max number of bytes which will be uploaded at a time.\n",
              "const MAX_PAYLOAD_SIZE = 100 * 1024;\n",
              "\n",
              "function _uploadFiles(inputId, outputId) {\n",
              "  const steps = uploadFilesStep(inputId, outputId);\n",
              "  const outputElement = document.getElementById(outputId);\n",
              "  // Cache steps on the outputElement to make it available for the next call\n",
              "  // to uploadFilesContinue from Python.\n",
              "  outputElement.steps = steps;\n",
              "\n",
              "  return _uploadFilesContinue(outputId);\n",
              "}\n",
              "\n",
              "// This is roughly an async generator (not supported in the browser yet),\n",
              "// where there are multiple asynchronous steps and the Python side is going\n",
              "// to poll for completion of each step.\n",
              "// This uses a Promise to block the python side on completion of each step,\n",
              "// then passes the result of the previous step as the input to the next step.\n",
              "function _uploadFilesContinue(outputId) {\n",
              "  const outputElement = document.getElementById(outputId);\n",
              "  const steps = outputElement.steps;\n",
              "\n",
              "  const next = steps.next(outputElement.lastPromiseValue);\n",
              "  return Promise.resolve(next.value.promise).then((value) => {\n",
              "    // Cache the last promise value to make it available to the next\n",
              "    // step of the generator.\n",
              "    outputElement.lastPromiseValue = value;\n",
              "    return next.value.response;\n",
              "  });\n",
              "}\n",
              "\n",
              "/**\n",
              " * Generator function which is called between each async step of the upload\n",
              " * process.\n",
              " * @param {string} inputId Element ID of the input file picker element.\n",
              " * @param {string} outputId Element ID of the output display.\n",
              " * @return {!Iterable<!Object>} Iterable of next steps.\n",
              " */\n",
              "function* uploadFilesStep(inputId, outputId) {\n",
              "  const inputElement = document.getElementById(inputId);\n",
              "  inputElement.disabled = false;\n",
              "\n",
              "  const outputElement = document.getElementById(outputId);\n",
              "  outputElement.innerHTML = '';\n",
              "\n",
              "  const pickedPromise = new Promise((resolve) => {\n",
              "    inputElement.addEventListener('change', (e) => {\n",
              "      resolve(e.target.files);\n",
              "    });\n",
              "  });\n",
              "\n",
              "  const cancel = document.createElement('button');\n",
              "  inputElement.parentElement.appendChild(cancel);\n",
              "  cancel.textContent = 'Cancel upload';\n",
              "  const cancelPromise = new Promise((resolve) => {\n",
              "    cancel.onclick = () => {\n",
              "      resolve(null);\n",
              "    };\n",
              "  });\n",
              "\n",
              "  // Wait for the user to pick the files.\n",
              "  const files = yield {\n",
              "    promise: Promise.race([pickedPromise, cancelPromise]),\n",
              "    response: {\n",
              "      action: 'starting',\n",
              "    }\n",
              "  };\n",
              "\n",
              "  cancel.remove();\n",
              "\n",
              "  // Disable the input element since further picks are not allowed.\n",
              "  inputElement.disabled = true;\n",
              "\n",
              "  if (!files) {\n",
              "    return {\n",
              "      response: {\n",
              "        action: 'complete',\n",
              "      }\n",
              "    };\n",
              "  }\n",
              "\n",
              "  for (const file of files) {\n",
              "    const li = document.createElement('li');\n",
              "    li.append(span(file.name, {fontWeight: 'bold'}));\n",
              "    li.append(span(\n",
              "        `(${file.type || 'n/a'}) - ${file.size} bytes, ` +\n",
              "        `last modified: ${\n",
              "            file.lastModifiedDate ? file.lastModifiedDate.toLocaleDateString() :\n",
              "                                    'n/a'} - `));\n",
              "    const percent = span('0% done');\n",
              "    li.appendChild(percent);\n",
              "\n",
              "    outputElement.appendChild(li);\n",
              "\n",
              "    const fileDataPromise = new Promise((resolve) => {\n",
              "      const reader = new FileReader();\n",
              "      reader.onload = (e) => {\n",
              "        resolve(e.target.result);\n",
              "      };\n",
              "      reader.readAsArrayBuffer(file);\n",
              "    });\n",
              "    // Wait for the data to be ready.\n",
              "    let fileData = yield {\n",
              "      promise: fileDataPromise,\n",
              "      response: {\n",
              "        action: 'continue',\n",
              "      }\n",
              "    };\n",
              "\n",
              "    // Use a chunked sending to avoid message size limits. See b/62115660.\n",
              "    let position = 0;\n",
              "    do {\n",
              "      const length = Math.min(fileData.byteLength - position, MAX_PAYLOAD_SIZE);\n",
              "      const chunk = new Uint8Array(fileData, position, length);\n",
              "      position += length;\n",
              "\n",
              "      const base64 = btoa(String.fromCharCode.apply(null, chunk));\n",
              "      yield {\n",
              "        response: {\n",
              "          action: 'append',\n",
              "          file: file.name,\n",
              "          data: base64,\n",
              "        },\n",
              "      };\n",
              "\n",
              "      let percentDone = fileData.byteLength === 0 ?\n",
              "          100 :\n",
              "          Math.round((position / fileData.byteLength) * 100);\n",
              "      percent.textContent = `${percentDone}% done`;\n",
              "\n",
              "    } while (position < fileData.byteLength);\n",
              "  }\n",
              "\n",
              "  // All done.\n",
              "  yield {\n",
              "    response: {\n",
              "      action: 'complete',\n",
              "    }\n",
              "  };\n",
              "}\n",
              "\n",
              "scope.google = scope.google || {};\n",
              "scope.google.colab = scope.google.colab || {};\n",
              "scope.google.colab._files = {\n",
              "  _uploadFiles,\n",
              "  _uploadFilesContinue,\n",
              "};\n",
              "})(self);\n",
              "</script> "
            ]
          },
          "metadata": {}
        },
        {
          "output_type": "stream",
          "name": "stdout",
          "text": [
            "Saving df_train.parquet to df_train.parquet\n"
          ]
        },
        {
          "output_type": "execute_result",
          "data": {
            "text/plain": [
              "     GENERO ESTADO_CIVIL FECHA_NACIMIENTO CODIGO_SEDE MULTI_CANCER CESION  \\\n",
              "ID                                                                          \n",
              "2987      F           SO       1977-01-17        1051         None      0   \n",
              "3423      F           CA       1980-10-13        1028         None      0   \n",
              "6981      F           SO       1951-10-28        1022         None      0   \n",
              "6701      F           SO       1984-03-31        1026         None      0   \n",
              "7361      F           UL       1974-03-28        1007         None      0   \n",
              "\n",
              "      RIESGOS CANCER_MAMA_FAMILIAR CANCER_OTRO_SITIO  \\\n",
              "ID                                                     \n",
              "2987      2.0                    0                 0   \n",
              "3423      1.0                    0                 0   \n",
              "6981      3.0                    0                 0   \n",
              "6701      1.0                    0                 0   \n",
              "7361      1.0                    0                 0   \n",
              "\n",
              "     CANCER_OTRO_SITIO_FAMILIAR  ... radioterapias_cancer  \\\n",
              "ID                               ...                        \n",
              "2987                          1  ...                  0.0   \n",
              "3423                          0  ...                  0.0   \n",
              "6981                          0  ...                  0.0   \n",
              "6701                          0  ...                  0.0   \n",
              "7361                          0  ...                  0.0   \n",
              "\n",
              "     quimioterapias__cancer  hormonoterapias__cancer  \\\n",
              "ID                                                     \n",
              "2987                    0.0                      0.0   \n",
              "3423                    0.0                      0.0   \n",
              "6981                    0.0                      0.0   \n",
              "6701                    0.0                      0.0   \n",
              "7361                    1.0                      0.0   \n",
              "\n",
              "      cuidado_palitiavo__cancer inmunoterapias_cancer  \\\n",
              "ID                                                      \n",
              "2987                        0.0                   0.0   \n",
              "3423                        0.0                   0.0   \n",
              "6981                        0.0                   0.0   \n",
              "6701                        0.0                   0.0   \n",
              "7361                        0.0                   0.0   \n",
              "\n",
              "      Citas_oncologicas_cancer  psiquiatria_cancer psicologia_cancer  \\\n",
              "ID                                                                     \n",
              "2987                       2.0                 0.0               0.0   \n",
              "3423                       5.0                 1.0               1.0   \n",
              "6981                       0.0                 0.0               0.0   \n",
              "6701                       4.0                 0.0               0.0   \n",
              "7361                       7.0                 0.0               0.0   \n",
              "\n",
              "      nutricion_cancer       atencion_nutricion  \n",
              "ID                                               \n",
              "2987               0.0  Sin servicios nutricion  \n",
              "3423               0.0  Sin servicios nutricion  \n",
              "6981               1.0   Una servicio nutricion  \n",
              "6701               0.0  Sin servicios nutricion  \n",
              "7361               0.0  Sin servicios nutricion  \n",
              "\n",
              "[5 rows x 42 columns]"
            ],
            "text/html": [
              "\n",
              "  <div id=\"df-08225025-1fd0-4b66-bff8-e4be53e6e4e1\" class=\"colab-df-container\">\n",
              "    <div>\n",
              "<style scoped>\n",
              "    .dataframe tbody tr th:only-of-type {\n",
              "        vertical-align: middle;\n",
              "    }\n",
              "\n",
              "    .dataframe tbody tr th {\n",
              "        vertical-align: top;\n",
              "    }\n",
              "\n",
              "    .dataframe thead th {\n",
              "        text-align: right;\n",
              "    }\n",
              "</style>\n",
              "<table border=\"1\" class=\"dataframe\">\n",
              "  <thead>\n",
              "    <tr style=\"text-align: right;\">\n",
              "      <th></th>\n",
              "      <th>GENERO</th>\n",
              "      <th>ESTADO_CIVIL</th>\n",
              "      <th>FECHA_NACIMIENTO</th>\n",
              "      <th>CODIGO_SEDE</th>\n",
              "      <th>MULTI_CANCER</th>\n",
              "      <th>CESION</th>\n",
              "      <th>RIESGOS</th>\n",
              "      <th>CANCER_MAMA_FAMILIAR</th>\n",
              "      <th>CANCER_OTRO_SITIO</th>\n",
              "      <th>CANCER_OTRO_SITIO_FAMILIAR</th>\n",
              "      <th>...</th>\n",
              "      <th>radioterapias_cancer</th>\n",
              "      <th>quimioterapias__cancer</th>\n",
              "      <th>hormonoterapias__cancer</th>\n",
              "      <th>cuidado_palitiavo__cancer</th>\n",
              "      <th>inmunoterapias_cancer</th>\n",
              "      <th>Citas_oncologicas_cancer</th>\n",
              "      <th>psiquiatria_cancer</th>\n",
              "      <th>psicologia_cancer</th>\n",
              "      <th>nutricion_cancer</th>\n",
              "      <th>atencion_nutricion</th>\n",
              "    </tr>\n",
              "    <tr>\n",
              "      <th>ID</th>\n",
              "      <th></th>\n",
              "      <th></th>\n",
              "      <th></th>\n",
              "      <th></th>\n",
              "      <th></th>\n",
              "      <th></th>\n",
              "      <th></th>\n",
              "      <th></th>\n",
              "      <th></th>\n",
              "      <th></th>\n",
              "      <th></th>\n",
              "      <th></th>\n",
              "      <th></th>\n",
              "      <th></th>\n",
              "      <th></th>\n",
              "      <th></th>\n",
              "      <th></th>\n",
              "      <th></th>\n",
              "      <th></th>\n",
              "      <th></th>\n",
              "      <th></th>\n",
              "    </tr>\n",
              "  </thead>\n",
              "  <tbody>\n",
              "    <tr>\n",
              "      <th>2987</th>\n",
              "      <td>F</td>\n",
              "      <td>SO</td>\n",
              "      <td>1977-01-17</td>\n",
              "      <td>1051</td>\n",
              "      <td>None</td>\n",
              "      <td>0</td>\n",
              "      <td>2.0</td>\n",
              "      <td>0</td>\n",
              "      <td>0</td>\n",
              "      <td>1</td>\n",
              "      <td>...</td>\n",
              "      <td>0.0</td>\n",
              "      <td>0.0</td>\n",
              "      <td>0.0</td>\n",
              "      <td>0.0</td>\n",
              "      <td>0.0</td>\n",
              "      <td>2.0</td>\n",
              "      <td>0.0</td>\n",
              "      <td>0.0</td>\n",
              "      <td>0.0</td>\n",
              "      <td>Sin servicios nutricion</td>\n",
              "    </tr>\n",
              "    <tr>\n",
              "      <th>3423</th>\n",
              "      <td>F</td>\n",
              "      <td>CA</td>\n",
              "      <td>1980-10-13</td>\n",
              "      <td>1028</td>\n",
              "      <td>None</td>\n",
              "      <td>0</td>\n",
              "      <td>1.0</td>\n",
              "      <td>0</td>\n",
              "      <td>0</td>\n",
              "      <td>0</td>\n",
              "      <td>...</td>\n",
              "      <td>0.0</td>\n",
              "      <td>0.0</td>\n",
              "      <td>0.0</td>\n",
              "      <td>0.0</td>\n",
              "      <td>0.0</td>\n",
              "      <td>5.0</td>\n",
              "      <td>1.0</td>\n",
              "      <td>1.0</td>\n",
              "      <td>0.0</td>\n",
              "      <td>Sin servicios nutricion</td>\n",
              "    </tr>\n",
              "    <tr>\n",
              "      <th>6981</th>\n",
              "      <td>F</td>\n",
              "      <td>SO</td>\n",
              "      <td>1951-10-28</td>\n",
              "      <td>1022</td>\n",
              "      <td>None</td>\n",
              "      <td>0</td>\n",
              "      <td>3.0</td>\n",
              "      <td>0</td>\n",
              "      <td>0</td>\n",
              "      <td>0</td>\n",
              "      <td>...</td>\n",
              "      <td>0.0</td>\n",
              "      <td>0.0</td>\n",
              "      <td>0.0</td>\n",
              "      <td>0.0</td>\n",
              "      <td>0.0</td>\n",
              "      <td>0.0</td>\n",
              "      <td>0.0</td>\n",
              "      <td>0.0</td>\n",
              "      <td>1.0</td>\n",
              "      <td>Una servicio nutricion</td>\n",
              "    </tr>\n",
              "    <tr>\n",
              "      <th>6701</th>\n",
              "      <td>F</td>\n",
              "      <td>SO</td>\n",
              "      <td>1984-03-31</td>\n",
              "      <td>1026</td>\n",
              "      <td>None</td>\n",
              "      <td>0</td>\n",
              "      <td>1.0</td>\n",
              "      <td>0</td>\n",
              "      <td>0</td>\n",
              "      <td>0</td>\n",
              "      <td>...</td>\n",
              "      <td>0.0</td>\n",
              "      <td>0.0</td>\n",
              "      <td>0.0</td>\n",
              "      <td>0.0</td>\n",
              "      <td>0.0</td>\n",
              "      <td>4.0</td>\n",
              "      <td>0.0</td>\n",
              "      <td>0.0</td>\n",
              "      <td>0.0</td>\n",
              "      <td>Sin servicios nutricion</td>\n",
              "    </tr>\n",
              "    <tr>\n",
              "      <th>7361</th>\n",
              "      <td>F</td>\n",
              "      <td>UL</td>\n",
              "      <td>1974-03-28</td>\n",
              "      <td>1007</td>\n",
              "      <td>None</td>\n",
              "      <td>0</td>\n",
              "      <td>1.0</td>\n",
              "      <td>0</td>\n",
              "      <td>0</td>\n",
              "      <td>0</td>\n",
              "      <td>...</td>\n",
              "      <td>0.0</td>\n",
              "      <td>1.0</td>\n",
              "      <td>0.0</td>\n",
              "      <td>0.0</td>\n",
              "      <td>0.0</td>\n",
              "      <td>7.0</td>\n",
              "      <td>0.0</td>\n",
              "      <td>0.0</td>\n",
              "      <td>0.0</td>\n",
              "      <td>Sin servicios nutricion</td>\n",
              "    </tr>\n",
              "  </tbody>\n",
              "</table>\n",
              "<p>5 rows × 42 columns</p>\n",
              "</div>\n",
              "    <div class=\"colab-df-buttons\">\n",
              "\n",
              "  <div class=\"colab-df-container\">\n",
              "    <button class=\"colab-df-convert\" onclick=\"convertToInteractive('df-08225025-1fd0-4b66-bff8-e4be53e6e4e1')\"\n",
              "            title=\"Convert this dataframe to an interactive table.\"\n",
              "            style=\"display:none;\">\n",
              "\n",
              "  <svg xmlns=\"http://www.w3.org/2000/svg\" height=\"24px\" viewBox=\"0 -960 960 960\">\n",
              "    <path d=\"M120-120v-720h720v720H120Zm60-500h600v-160H180v160Zm220 220h160v-160H400v160Zm0 220h160v-160H400v160ZM180-400h160v-160H180v160Zm440 0h160v-160H620v160ZM180-180h160v-160H180v160Zm440 0h160v-160H620v160Z\"/>\n",
              "  </svg>\n",
              "    </button>\n",
              "\n",
              "  <style>\n",
              "    .colab-df-container {\n",
              "      display:flex;\n",
              "      gap: 12px;\n",
              "    }\n",
              "\n",
              "    .colab-df-convert {\n",
              "      background-color: #E8F0FE;\n",
              "      border: none;\n",
              "      border-radius: 50%;\n",
              "      cursor: pointer;\n",
              "      display: none;\n",
              "      fill: #1967D2;\n",
              "      height: 32px;\n",
              "      padding: 0 0 0 0;\n",
              "      width: 32px;\n",
              "    }\n",
              "\n",
              "    .colab-df-convert:hover {\n",
              "      background-color: #E2EBFA;\n",
              "      box-shadow: 0px 1px 2px rgba(60, 64, 67, 0.3), 0px 1px 3px 1px rgba(60, 64, 67, 0.15);\n",
              "      fill: #174EA6;\n",
              "    }\n",
              "\n",
              "    .colab-df-buttons div {\n",
              "      margin-bottom: 4px;\n",
              "    }\n",
              "\n",
              "    [theme=dark] .colab-df-convert {\n",
              "      background-color: #3B4455;\n",
              "      fill: #D2E3FC;\n",
              "    }\n",
              "\n",
              "    [theme=dark] .colab-df-convert:hover {\n",
              "      background-color: #434B5C;\n",
              "      box-shadow: 0px 1px 3px 1px rgba(0, 0, 0, 0.15);\n",
              "      filter: drop-shadow(0px 1px 2px rgba(0, 0, 0, 0.3));\n",
              "      fill: #FFFFFF;\n",
              "    }\n",
              "  </style>\n",
              "\n",
              "    <script>\n",
              "      const buttonEl =\n",
              "        document.querySelector('#df-08225025-1fd0-4b66-bff8-e4be53e6e4e1 button.colab-df-convert');\n",
              "      buttonEl.style.display =\n",
              "        google.colab.kernel.accessAllowed ? 'block' : 'none';\n",
              "\n",
              "      async function convertToInteractive(key) {\n",
              "        const element = document.querySelector('#df-08225025-1fd0-4b66-bff8-e4be53e6e4e1');\n",
              "        const dataTable =\n",
              "          await google.colab.kernel.invokeFunction('convertToInteractive',\n",
              "                                                    [key], {});\n",
              "        if (!dataTable) return;\n",
              "\n",
              "        const docLinkHtml = 'Like what you see? Visit the ' +\n",
              "          '<a target=\"_blank\" href=https://colab.research.google.com/notebooks/data_table.ipynb>data table notebook</a>'\n",
              "          + ' to learn more about interactive tables.';\n",
              "        element.innerHTML = '';\n",
              "        dataTable['output_type'] = 'display_data';\n",
              "        await google.colab.output.renderOutput(dataTable, element);\n",
              "        const docLink = document.createElement('div');\n",
              "        docLink.innerHTML = docLinkHtml;\n",
              "        element.appendChild(docLink);\n",
              "      }\n",
              "    </script>\n",
              "  </div>\n",
              "\n",
              "\n",
              "    <div id=\"df-08835fd5-ecfe-4f23-8e1d-7831a3a42d57\">\n",
              "      <button class=\"colab-df-quickchart\" onclick=\"quickchart('df-08835fd5-ecfe-4f23-8e1d-7831a3a42d57')\"\n",
              "                title=\"Suggest charts\"\n",
              "                style=\"display:none;\">\n",
              "\n",
              "<svg xmlns=\"http://www.w3.org/2000/svg\" height=\"24px\"viewBox=\"0 0 24 24\"\n",
              "     width=\"24px\">\n",
              "    <g>\n",
              "        <path d=\"M19 3H5c-1.1 0-2 .9-2 2v14c0 1.1.9 2 2 2h14c1.1 0 2-.9 2-2V5c0-1.1-.9-2-2-2zM9 17H7v-7h2v7zm4 0h-2V7h2v10zm4 0h-2v-4h2v4z\"/>\n",
              "    </g>\n",
              "</svg>\n",
              "      </button>\n",
              "\n",
              "<style>\n",
              "  .colab-df-quickchart {\n",
              "      --bg-color: #E8F0FE;\n",
              "      --fill-color: #1967D2;\n",
              "      --hover-bg-color: #E2EBFA;\n",
              "      --hover-fill-color: #174EA6;\n",
              "      --disabled-fill-color: #AAA;\n",
              "      --disabled-bg-color: #DDD;\n",
              "  }\n",
              "\n",
              "  [theme=dark] .colab-df-quickchart {\n",
              "      --bg-color: #3B4455;\n",
              "      --fill-color: #D2E3FC;\n",
              "      --hover-bg-color: #434B5C;\n",
              "      --hover-fill-color: #FFFFFF;\n",
              "      --disabled-bg-color: #3B4455;\n",
              "      --disabled-fill-color: #666;\n",
              "  }\n",
              "\n",
              "  .colab-df-quickchart {\n",
              "    background-color: var(--bg-color);\n",
              "    border: none;\n",
              "    border-radius: 50%;\n",
              "    cursor: pointer;\n",
              "    display: none;\n",
              "    fill: var(--fill-color);\n",
              "    height: 32px;\n",
              "    padding: 0;\n",
              "    width: 32px;\n",
              "  }\n",
              "\n",
              "  .colab-df-quickchart:hover {\n",
              "    background-color: var(--hover-bg-color);\n",
              "    box-shadow: 0 1px 2px rgba(60, 64, 67, 0.3), 0 1px 3px 1px rgba(60, 64, 67, 0.15);\n",
              "    fill: var(--button-hover-fill-color);\n",
              "  }\n",
              "\n",
              "  .colab-df-quickchart-complete:disabled,\n",
              "  .colab-df-quickchart-complete:disabled:hover {\n",
              "    background-color: var(--disabled-bg-color);\n",
              "    fill: var(--disabled-fill-color);\n",
              "    box-shadow: none;\n",
              "  }\n",
              "\n",
              "  .colab-df-spinner {\n",
              "    border: 2px solid var(--fill-color);\n",
              "    border-color: transparent;\n",
              "    border-bottom-color: var(--fill-color);\n",
              "    animation:\n",
              "      spin 1s steps(1) infinite;\n",
              "  }\n",
              "\n",
              "  @keyframes spin {\n",
              "    0% {\n",
              "      border-color: transparent;\n",
              "      border-bottom-color: var(--fill-color);\n",
              "      border-left-color: var(--fill-color);\n",
              "    }\n",
              "    20% {\n",
              "      border-color: transparent;\n",
              "      border-left-color: var(--fill-color);\n",
              "      border-top-color: var(--fill-color);\n",
              "    }\n",
              "    30% {\n",
              "      border-color: transparent;\n",
              "      border-left-color: var(--fill-color);\n",
              "      border-top-color: var(--fill-color);\n",
              "      border-right-color: var(--fill-color);\n",
              "    }\n",
              "    40% {\n",
              "      border-color: transparent;\n",
              "      border-right-color: var(--fill-color);\n",
              "      border-top-color: var(--fill-color);\n",
              "    }\n",
              "    60% {\n",
              "      border-color: transparent;\n",
              "      border-right-color: var(--fill-color);\n",
              "    }\n",
              "    80% {\n",
              "      border-color: transparent;\n",
              "      border-right-color: var(--fill-color);\n",
              "      border-bottom-color: var(--fill-color);\n",
              "    }\n",
              "    90% {\n",
              "      border-color: transparent;\n",
              "      border-bottom-color: var(--fill-color);\n",
              "    }\n",
              "  }\n",
              "</style>\n",
              "\n",
              "      <script>\n",
              "        async function quickchart(key) {\n",
              "          const quickchartButtonEl =\n",
              "            document.querySelector('#' + key + ' button');\n",
              "          quickchartButtonEl.disabled = true;  // To prevent multiple clicks.\n",
              "          quickchartButtonEl.classList.add('colab-df-spinner');\n",
              "          try {\n",
              "            const charts = await google.colab.kernel.invokeFunction(\n",
              "                'suggestCharts', [key], {});\n",
              "          } catch (error) {\n",
              "            console.error('Error during call to suggestCharts:', error);\n",
              "          }\n",
              "          quickchartButtonEl.classList.remove('colab-df-spinner');\n",
              "          quickchartButtonEl.classList.add('colab-df-quickchart-complete');\n",
              "        }\n",
              "        (() => {\n",
              "          let quickchartButtonEl =\n",
              "            document.querySelector('#df-08835fd5-ecfe-4f23-8e1d-7831a3a42d57 button');\n",
              "          quickchartButtonEl.style.display =\n",
              "            google.colab.kernel.accessAllowed ? 'block' : 'none';\n",
              "        })();\n",
              "      </script>\n",
              "    </div>\n",
              "\n",
              "    </div>\n",
              "  </div>\n"
            ],
            "application/vnd.google.colaboratory.intrinsic+json": {
              "type": "dataframe",
              "variable_name": "df"
            }
          },
          "metadata": {},
          "execution_count": 4
        }
      ],
      "source": [
        "from google.colab import files\n",
        "uploaded = files.upload()\n",
        "\n",
        "df = pd.read_parquet(\"df_train.parquet\")\n",
        "df.head()\n"
      ]
    },
    {
      "cell_type": "code",
      "execution_count": 5,
      "metadata": {
        "colab": {
          "base_uri": "https://localhost:8080/",
          "height": 178
        },
        "execution": {
          "iopub.execute_input": "2025-03-20T02:59:52.609458Z",
          "iopub.status.busy": "2025-03-20T02:59:52.608929Z",
          "iopub.status.idle": "2025-03-20T02:59:52.625808Z",
          "shell.execute_reply": "2025-03-20T02:59:52.624520Z",
          "shell.execute_reply.started": "2025-03-20T02:59:52.609412Z"
        },
        "id": "CcjQVRgNoMfU",
        "outputId": "1c2a73ab-1cf7-4bb7-f05c-ffafe96cba76",
        "trusted": true
      },
      "outputs": [
        {
          "output_type": "execute_result",
          "data": {
            "text/plain": [
              "Target\n",
              "0.0    88.697851\n",
              "1.0    11.302149\n",
              "Name: proportion, dtype: float64"
            ],
            "text/html": [
              "<div>\n",
              "<style scoped>\n",
              "    .dataframe tbody tr th:only-of-type {\n",
              "        vertical-align: middle;\n",
              "    }\n",
              "\n",
              "    .dataframe tbody tr th {\n",
              "        vertical-align: top;\n",
              "    }\n",
              "\n",
              "    .dataframe thead th {\n",
              "        text-align: right;\n",
              "    }\n",
              "</style>\n",
              "<table border=\"1\" class=\"dataframe\">\n",
              "  <thead>\n",
              "    <tr style=\"text-align: right;\">\n",
              "      <th></th>\n",
              "      <th>proportion</th>\n",
              "    </tr>\n",
              "    <tr>\n",
              "      <th>Target</th>\n",
              "      <th></th>\n",
              "    </tr>\n",
              "  </thead>\n",
              "  <tbody>\n",
              "    <tr>\n",
              "      <th>0.0</th>\n",
              "      <td>88.697851</td>\n",
              "    </tr>\n",
              "    <tr>\n",
              "      <th>1.0</th>\n",
              "      <td>11.302149</td>\n",
              "    </tr>\n",
              "  </tbody>\n",
              "</table>\n",
              "</div><br><label><b>dtype:</b> float64</label>"
            ]
          },
          "metadata": {},
          "execution_count": 5
        }
      ],
      "source": [
        "X, y = df.drop(columns=\"Target\"), df[\"Target\"]\n",
        "y.value_counts(True) * 100"
      ]
    },
    {
      "cell_type": "code",
      "execution_count": 6,
      "metadata": {
        "colab": {
          "base_uri": "https://localhost:8080/"
        },
        "execution": {
          "iopub.execute_input": "2025-03-20T02:59:55.017316Z",
          "iopub.status.busy": "2025-03-20T02:59:55.016949Z",
          "iopub.status.idle": "2025-03-20T02:59:55.038440Z",
          "shell.execute_reply": "2025-03-20T02:59:55.037485Z",
          "shell.execute_reply.started": "2025-03-20T02:59:55.017288Z"
        },
        "id": "EgKx_E1PoMfV",
        "outputId": "596e8e15-4635-431a-af23-328be6b977a6",
        "trusted": true
      },
      "outputs": [
        {
          "output_type": "stream",
          "name": "stdout",
          "text": [
            "<class 'pandas.core.frame.DataFrame'>\n",
            "Index: 3955 entries, 2987 to 898\n",
            "Data columns (total 41 columns):\n",
            " #   Column                      Non-Null Count  Dtype         \n",
            "---  ------                      --------------  -----         \n",
            " 0   GENERO                      3955 non-null   object        \n",
            " 1   ESTADO_CIVIL                3955 non-null   object        \n",
            " 2   FECHA_NACIMIENTO            3955 non-null   datetime64[us]\n",
            " 3   CODIGO_SEDE                 3955 non-null   object        \n",
            " 4   MULTI_CANCER                337 non-null    object        \n",
            " 5   CESION                      3955 non-null   object        \n",
            " 6   RIESGOS                     3955 non-null   float64       \n",
            " 7   CANCER_MAMA_FAMILIAR        3955 non-null   object        \n",
            " 8   CANCER_OTRO_SITIO           3955 non-null   object        \n",
            " 9   CANCER_OTRO_SITIO_FAMILIAR  3955 non-null   object        \n",
            " 10  CEREBRAL_FAMILIAR           3955 non-null   object        \n",
            " 11  FECHA_DATOS_PESO_TALLA      3955 non-null   datetime64[us]\n",
            " 12  PESO                        3822 non-null   float64       \n",
            " 13  TALLA                       3822 non-null   float64       \n",
            " 14  FECHA_CONSULTA_TENSION      3955 non-null   datetime64[us]\n",
            " 15  TSISTOLICA                  3815 non-null   float64       \n",
            " 16  TDIASTOLICA                 3815 non-null   float64       \n",
            " 17  Fecha_cero                  3955 non-null   datetime64[us]\n",
            " 18  mes_6                       3955 non-null   float64       \n",
            " 19  mes_5                       3955 non-null   float64       \n",
            " 20  mes_4                       3955 non-null   float64       \n",
            " 21  mes_3                       3955 non-null   float64       \n",
            " 22  mes_2                       3955 non-null   float64       \n",
            " 23  mes_1                       3955 non-null   float64       \n",
            " 24  valor_servicio              3955 non-null   float64       \n",
            " 25  IV_NIVEL                    3955 non-null   float64       \n",
            " 26  HOSPI_NO_QUIRURGICA         3955 non-null   float64       \n",
            " 27  URGENCIAS                   3955 non-null   float64       \n",
            " 28  HOSPITALIZACION             3955 non-null   float64       \n",
            " 29  CITA_ONCOLOGICA             3955 non-null   float64       \n",
            " 30  Biopsias_cancer             3955 non-null   float64       \n",
            " 31  radioterapias_cancer        3955 non-null   float64       \n",
            " 32  quimioterapias__cancer      3955 non-null   float64       \n",
            " 33  hormonoterapias__cancer     3955 non-null   float64       \n",
            " 34  cuidado_palitiavo__cancer   3955 non-null   float64       \n",
            " 35  inmunoterapias_cancer       3955 non-null   float64       \n",
            " 36  Citas_oncologicas_cancer    3955 non-null   float64       \n",
            " 37  psiquiatria_cancer          3955 non-null   float64       \n",
            " 38  psicologia_cancer           3955 non-null   float64       \n",
            " 39  nutricion_cancer            3955 non-null   float64       \n",
            " 40  atencion_nutricion          3955 non-null   object        \n",
            "dtypes: datetime64[us](4), float64(27), object(10)\n",
            "memory usage: 1.3+ MB\n"
          ]
        }
      ],
      "source": [
        "X.info()"
      ]
    },
    {
      "cell_type": "markdown",
      "metadata": {
        "id": "ZyBwR_J5oMfV"
      },
      "source": [
        "Calculamos la edad de los pacientes al momento de la complicación o corte del analisis."
      ]
    },
    {
      "cell_type": "code",
      "execution_count": 7,
      "metadata": {
        "execution": {
          "iopub.execute_input": "2025-03-20T02:59:55.652755Z",
          "iopub.status.busy": "2025-03-20T02:59:55.652431Z",
          "iopub.status.idle": "2025-03-20T02:59:55.659380Z",
          "shell.execute_reply": "2025-03-20T02:59:55.658521Z",
          "shell.execute_reply.started": "2025-03-20T02:59:55.652729Z"
        },
        "id": "YboFJJYpoMfW",
        "trusted": true
      },
      "outputs": [],
      "source": [
        "X['EDAD_COMPLICACION'] = (X['Fecha_cero'] - X['FECHA_NACIMIENTO']).dt.days // 365"
      ]
    },
    {
      "cell_type": "markdown",
      "metadata": {
        "id": "sFAj6s_0oMfW"
      },
      "source": [
        "Validamos las variables que tienen mucha nulidad ¿La quitamos? o que nos dice el negocio? Esto es importante para la limpieza y preprocesamiento de datos antes de entrenar modelos de clasificación."
      ]
    },
    {
      "cell_type": "code",
      "execution_count": 8,
      "metadata": {
        "colab": {
          "base_uri": "https://localhost:8080/",
          "height": 1000
        },
        "execution": {
          "iopub.execute_input": "2025-03-20T02:59:56.115712Z",
          "iopub.status.busy": "2025-03-20T02:59:56.115376Z",
          "iopub.status.idle": "2025-03-20T02:59:56.163374Z",
          "shell.execute_reply": "2025-03-20T02:59:56.162303Z",
          "shell.execute_reply.started": "2025-03-20T02:59:56.115676Z"
        },
        "id": "r_41tu7toMfW",
        "outputId": "da44b5e5-e979-4ebf-e4b3-00a00a91a164",
        "trusted": true
      },
      "outputs": [
        {
          "output_type": "execute_result",
          "data": {
            "text/plain": [
              "                            not_null      null\n",
              "GENERO                      1.000000       NaN\n",
              "ESTADO_CIVIL                1.000000       NaN\n",
              "FECHA_NACIMIENTO            1.000000       NaN\n",
              "CODIGO_SEDE                 1.000000       NaN\n",
              "MULTI_CANCER                0.085209  0.914791\n",
              "CESION                      1.000000       NaN\n",
              "RIESGOS                     1.000000       NaN\n",
              "CANCER_MAMA_FAMILIAR        1.000000       NaN\n",
              "CANCER_OTRO_SITIO           1.000000       NaN\n",
              "CANCER_OTRO_SITIO_FAMILIAR  1.000000       NaN\n",
              "CEREBRAL_FAMILIAR           1.000000       NaN\n",
              "FECHA_DATOS_PESO_TALLA      1.000000       NaN\n",
              "PESO                        0.966372  0.033628\n",
              "TALLA                       0.966372  0.033628\n",
              "FECHA_CONSULTA_TENSION      1.000000       NaN\n",
              "TSISTOLICA                  0.964602  0.035398\n",
              "TDIASTOLICA                 0.964602  0.035398\n",
              "Fecha_cero                  1.000000       NaN\n",
              "mes_6                       1.000000       NaN\n",
              "mes_5                       1.000000       NaN\n",
              "mes_4                       1.000000       NaN\n",
              "mes_3                       1.000000       NaN\n",
              "mes_2                       1.000000       NaN\n",
              "mes_1                       1.000000       NaN\n",
              "valor_servicio              1.000000       NaN\n",
              "IV_NIVEL                    1.000000       NaN\n",
              "HOSPI_NO_QUIRURGICA         1.000000       NaN\n",
              "URGENCIAS                   1.000000       NaN\n",
              "HOSPITALIZACION             1.000000       NaN\n",
              "CITA_ONCOLOGICA             1.000000       NaN\n",
              "Biopsias_cancer             1.000000       NaN\n",
              "radioterapias_cancer        1.000000       NaN\n",
              "quimioterapias__cancer      1.000000       NaN\n",
              "hormonoterapias__cancer     1.000000       NaN\n",
              "cuidado_palitiavo__cancer   1.000000       NaN\n",
              "inmunoterapias_cancer       1.000000       NaN\n",
              "Citas_oncologicas_cancer    1.000000       NaN\n",
              "psiquiatria_cancer          1.000000       NaN\n",
              "psicologia_cancer           1.000000       NaN\n",
              "nutricion_cancer            1.000000       NaN\n",
              "atencion_nutricion          1.000000       NaN\n",
              "EDAD_COMPLICACION           1.000000       NaN"
            ],
            "text/html": [
              "\n",
              "  <div id=\"df-fb2dfb77-4659-4ef5-b592-4466dc7191c7\" class=\"colab-df-container\">\n",
              "    <div>\n",
              "<style scoped>\n",
              "    .dataframe tbody tr th:only-of-type {\n",
              "        vertical-align: middle;\n",
              "    }\n",
              "\n",
              "    .dataframe tbody tr th {\n",
              "        vertical-align: top;\n",
              "    }\n",
              "\n",
              "    .dataframe thead th {\n",
              "        text-align: right;\n",
              "    }\n",
              "</style>\n",
              "<table border=\"1\" class=\"dataframe\">\n",
              "  <thead>\n",
              "    <tr style=\"text-align: right;\">\n",
              "      <th></th>\n",
              "      <th>not_null</th>\n",
              "      <th>null</th>\n",
              "    </tr>\n",
              "  </thead>\n",
              "  <tbody>\n",
              "    <tr>\n",
              "      <th>GENERO</th>\n",
              "      <td>1.000000</td>\n",
              "      <td>NaN</td>\n",
              "    </tr>\n",
              "    <tr>\n",
              "      <th>ESTADO_CIVIL</th>\n",
              "      <td>1.000000</td>\n",
              "      <td>NaN</td>\n",
              "    </tr>\n",
              "    <tr>\n",
              "      <th>FECHA_NACIMIENTO</th>\n",
              "      <td>1.000000</td>\n",
              "      <td>NaN</td>\n",
              "    </tr>\n",
              "    <tr>\n",
              "      <th>CODIGO_SEDE</th>\n",
              "      <td>1.000000</td>\n",
              "      <td>NaN</td>\n",
              "    </tr>\n",
              "    <tr>\n",
              "      <th>MULTI_CANCER</th>\n",
              "      <td>0.085209</td>\n",
              "      <td>0.914791</td>\n",
              "    </tr>\n",
              "    <tr>\n",
              "      <th>CESION</th>\n",
              "      <td>1.000000</td>\n",
              "      <td>NaN</td>\n",
              "    </tr>\n",
              "    <tr>\n",
              "      <th>RIESGOS</th>\n",
              "      <td>1.000000</td>\n",
              "      <td>NaN</td>\n",
              "    </tr>\n",
              "    <tr>\n",
              "      <th>CANCER_MAMA_FAMILIAR</th>\n",
              "      <td>1.000000</td>\n",
              "      <td>NaN</td>\n",
              "    </tr>\n",
              "    <tr>\n",
              "      <th>CANCER_OTRO_SITIO</th>\n",
              "      <td>1.000000</td>\n",
              "      <td>NaN</td>\n",
              "    </tr>\n",
              "    <tr>\n",
              "      <th>CANCER_OTRO_SITIO_FAMILIAR</th>\n",
              "      <td>1.000000</td>\n",
              "      <td>NaN</td>\n",
              "    </tr>\n",
              "    <tr>\n",
              "      <th>CEREBRAL_FAMILIAR</th>\n",
              "      <td>1.000000</td>\n",
              "      <td>NaN</td>\n",
              "    </tr>\n",
              "    <tr>\n",
              "      <th>FECHA_DATOS_PESO_TALLA</th>\n",
              "      <td>1.000000</td>\n",
              "      <td>NaN</td>\n",
              "    </tr>\n",
              "    <tr>\n",
              "      <th>PESO</th>\n",
              "      <td>0.966372</td>\n",
              "      <td>0.033628</td>\n",
              "    </tr>\n",
              "    <tr>\n",
              "      <th>TALLA</th>\n",
              "      <td>0.966372</td>\n",
              "      <td>0.033628</td>\n",
              "    </tr>\n",
              "    <tr>\n",
              "      <th>FECHA_CONSULTA_TENSION</th>\n",
              "      <td>1.000000</td>\n",
              "      <td>NaN</td>\n",
              "    </tr>\n",
              "    <tr>\n",
              "      <th>TSISTOLICA</th>\n",
              "      <td>0.964602</td>\n",
              "      <td>0.035398</td>\n",
              "    </tr>\n",
              "    <tr>\n",
              "      <th>TDIASTOLICA</th>\n",
              "      <td>0.964602</td>\n",
              "      <td>0.035398</td>\n",
              "    </tr>\n",
              "    <tr>\n",
              "      <th>Fecha_cero</th>\n",
              "      <td>1.000000</td>\n",
              "      <td>NaN</td>\n",
              "    </tr>\n",
              "    <tr>\n",
              "      <th>mes_6</th>\n",
              "      <td>1.000000</td>\n",
              "      <td>NaN</td>\n",
              "    </tr>\n",
              "    <tr>\n",
              "      <th>mes_5</th>\n",
              "      <td>1.000000</td>\n",
              "      <td>NaN</td>\n",
              "    </tr>\n",
              "    <tr>\n",
              "      <th>mes_4</th>\n",
              "      <td>1.000000</td>\n",
              "      <td>NaN</td>\n",
              "    </tr>\n",
              "    <tr>\n",
              "      <th>mes_3</th>\n",
              "      <td>1.000000</td>\n",
              "      <td>NaN</td>\n",
              "    </tr>\n",
              "    <tr>\n",
              "      <th>mes_2</th>\n",
              "      <td>1.000000</td>\n",
              "      <td>NaN</td>\n",
              "    </tr>\n",
              "    <tr>\n",
              "      <th>mes_1</th>\n",
              "      <td>1.000000</td>\n",
              "      <td>NaN</td>\n",
              "    </tr>\n",
              "    <tr>\n",
              "      <th>valor_servicio</th>\n",
              "      <td>1.000000</td>\n",
              "      <td>NaN</td>\n",
              "    </tr>\n",
              "    <tr>\n",
              "      <th>IV_NIVEL</th>\n",
              "      <td>1.000000</td>\n",
              "      <td>NaN</td>\n",
              "    </tr>\n",
              "    <tr>\n",
              "      <th>HOSPI_NO_QUIRURGICA</th>\n",
              "      <td>1.000000</td>\n",
              "      <td>NaN</td>\n",
              "    </tr>\n",
              "    <tr>\n",
              "      <th>URGENCIAS</th>\n",
              "      <td>1.000000</td>\n",
              "      <td>NaN</td>\n",
              "    </tr>\n",
              "    <tr>\n",
              "      <th>HOSPITALIZACION</th>\n",
              "      <td>1.000000</td>\n",
              "      <td>NaN</td>\n",
              "    </tr>\n",
              "    <tr>\n",
              "      <th>CITA_ONCOLOGICA</th>\n",
              "      <td>1.000000</td>\n",
              "      <td>NaN</td>\n",
              "    </tr>\n",
              "    <tr>\n",
              "      <th>Biopsias_cancer</th>\n",
              "      <td>1.000000</td>\n",
              "      <td>NaN</td>\n",
              "    </tr>\n",
              "    <tr>\n",
              "      <th>radioterapias_cancer</th>\n",
              "      <td>1.000000</td>\n",
              "      <td>NaN</td>\n",
              "    </tr>\n",
              "    <tr>\n",
              "      <th>quimioterapias__cancer</th>\n",
              "      <td>1.000000</td>\n",
              "      <td>NaN</td>\n",
              "    </tr>\n",
              "    <tr>\n",
              "      <th>hormonoterapias__cancer</th>\n",
              "      <td>1.000000</td>\n",
              "      <td>NaN</td>\n",
              "    </tr>\n",
              "    <tr>\n",
              "      <th>cuidado_palitiavo__cancer</th>\n",
              "      <td>1.000000</td>\n",
              "      <td>NaN</td>\n",
              "    </tr>\n",
              "    <tr>\n",
              "      <th>inmunoterapias_cancer</th>\n",
              "      <td>1.000000</td>\n",
              "      <td>NaN</td>\n",
              "    </tr>\n",
              "    <tr>\n",
              "      <th>Citas_oncologicas_cancer</th>\n",
              "      <td>1.000000</td>\n",
              "      <td>NaN</td>\n",
              "    </tr>\n",
              "    <tr>\n",
              "      <th>psiquiatria_cancer</th>\n",
              "      <td>1.000000</td>\n",
              "      <td>NaN</td>\n",
              "    </tr>\n",
              "    <tr>\n",
              "      <th>psicologia_cancer</th>\n",
              "      <td>1.000000</td>\n",
              "      <td>NaN</td>\n",
              "    </tr>\n",
              "    <tr>\n",
              "      <th>nutricion_cancer</th>\n",
              "      <td>1.000000</td>\n",
              "      <td>NaN</td>\n",
              "    </tr>\n",
              "    <tr>\n",
              "      <th>atencion_nutricion</th>\n",
              "      <td>1.000000</td>\n",
              "      <td>NaN</td>\n",
              "    </tr>\n",
              "    <tr>\n",
              "      <th>EDAD_COMPLICACION</th>\n",
              "      <td>1.000000</td>\n",
              "      <td>NaN</td>\n",
              "    </tr>\n",
              "  </tbody>\n",
              "</table>\n",
              "</div>\n",
              "    <div class=\"colab-df-buttons\">\n",
              "\n",
              "  <div class=\"colab-df-container\">\n",
              "    <button class=\"colab-df-convert\" onclick=\"convertToInteractive('df-fb2dfb77-4659-4ef5-b592-4466dc7191c7')\"\n",
              "            title=\"Convert this dataframe to an interactive table.\"\n",
              "            style=\"display:none;\">\n",
              "\n",
              "  <svg xmlns=\"http://www.w3.org/2000/svg\" height=\"24px\" viewBox=\"0 -960 960 960\">\n",
              "    <path d=\"M120-120v-720h720v720H120Zm60-500h600v-160H180v160Zm220 220h160v-160H400v160Zm0 220h160v-160H400v160ZM180-400h160v-160H180v160Zm440 0h160v-160H620v160ZM180-180h160v-160H180v160Zm440 0h160v-160H620v160Z\"/>\n",
              "  </svg>\n",
              "    </button>\n",
              "\n",
              "  <style>\n",
              "    .colab-df-container {\n",
              "      display:flex;\n",
              "      gap: 12px;\n",
              "    }\n",
              "\n",
              "    .colab-df-convert {\n",
              "      background-color: #E8F0FE;\n",
              "      border: none;\n",
              "      border-radius: 50%;\n",
              "      cursor: pointer;\n",
              "      display: none;\n",
              "      fill: #1967D2;\n",
              "      height: 32px;\n",
              "      padding: 0 0 0 0;\n",
              "      width: 32px;\n",
              "    }\n",
              "\n",
              "    .colab-df-convert:hover {\n",
              "      background-color: #E2EBFA;\n",
              "      box-shadow: 0px 1px 2px rgba(60, 64, 67, 0.3), 0px 1px 3px 1px rgba(60, 64, 67, 0.15);\n",
              "      fill: #174EA6;\n",
              "    }\n",
              "\n",
              "    .colab-df-buttons div {\n",
              "      margin-bottom: 4px;\n",
              "    }\n",
              "\n",
              "    [theme=dark] .colab-df-convert {\n",
              "      background-color: #3B4455;\n",
              "      fill: #D2E3FC;\n",
              "    }\n",
              "\n",
              "    [theme=dark] .colab-df-convert:hover {\n",
              "      background-color: #434B5C;\n",
              "      box-shadow: 0px 1px 3px 1px rgba(0, 0, 0, 0.15);\n",
              "      filter: drop-shadow(0px 1px 2px rgba(0, 0, 0, 0.3));\n",
              "      fill: #FFFFFF;\n",
              "    }\n",
              "  </style>\n",
              "\n",
              "    <script>\n",
              "      const buttonEl =\n",
              "        document.querySelector('#df-fb2dfb77-4659-4ef5-b592-4466dc7191c7 button.colab-df-convert');\n",
              "      buttonEl.style.display =\n",
              "        google.colab.kernel.accessAllowed ? 'block' : 'none';\n",
              "\n",
              "      async function convertToInteractive(key) {\n",
              "        const element = document.querySelector('#df-fb2dfb77-4659-4ef5-b592-4466dc7191c7');\n",
              "        const dataTable =\n",
              "          await google.colab.kernel.invokeFunction('convertToInteractive',\n",
              "                                                    [key], {});\n",
              "        if (!dataTable) return;\n",
              "\n",
              "        const docLinkHtml = 'Like what you see? Visit the ' +\n",
              "          '<a target=\"_blank\" href=https://colab.research.google.com/notebooks/data_table.ipynb>data table notebook</a>'\n",
              "          + ' to learn more about interactive tables.';\n",
              "        element.innerHTML = '';\n",
              "        dataTable['output_type'] = 'display_data';\n",
              "        await google.colab.output.renderOutput(dataTable, element);\n",
              "        const docLink = document.createElement('div');\n",
              "        docLink.innerHTML = docLinkHtml;\n",
              "        element.appendChild(docLink);\n",
              "      }\n",
              "    </script>\n",
              "  </div>\n",
              "\n",
              "\n",
              "    <div id=\"df-82c3d2dd-c7f4-4ccb-b9b2-7ec91d1114fc\">\n",
              "      <button class=\"colab-df-quickchart\" onclick=\"quickchart('df-82c3d2dd-c7f4-4ccb-b9b2-7ec91d1114fc')\"\n",
              "                title=\"Suggest charts\"\n",
              "                style=\"display:none;\">\n",
              "\n",
              "<svg xmlns=\"http://www.w3.org/2000/svg\" height=\"24px\"viewBox=\"0 0 24 24\"\n",
              "     width=\"24px\">\n",
              "    <g>\n",
              "        <path d=\"M19 3H5c-1.1 0-2 .9-2 2v14c0 1.1.9 2 2 2h14c1.1 0 2-.9 2-2V5c0-1.1-.9-2-2-2zM9 17H7v-7h2v7zm4 0h-2V7h2v10zm4 0h-2v-4h2v4z\"/>\n",
              "    </g>\n",
              "</svg>\n",
              "      </button>\n",
              "\n",
              "<style>\n",
              "  .colab-df-quickchart {\n",
              "      --bg-color: #E8F0FE;\n",
              "      --fill-color: #1967D2;\n",
              "      --hover-bg-color: #E2EBFA;\n",
              "      --hover-fill-color: #174EA6;\n",
              "      --disabled-fill-color: #AAA;\n",
              "      --disabled-bg-color: #DDD;\n",
              "  }\n",
              "\n",
              "  [theme=dark] .colab-df-quickchart {\n",
              "      --bg-color: #3B4455;\n",
              "      --fill-color: #D2E3FC;\n",
              "      --hover-bg-color: #434B5C;\n",
              "      --hover-fill-color: #FFFFFF;\n",
              "      --disabled-bg-color: #3B4455;\n",
              "      --disabled-fill-color: #666;\n",
              "  }\n",
              "\n",
              "  .colab-df-quickchart {\n",
              "    background-color: var(--bg-color);\n",
              "    border: none;\n",
              "    border-radius: 50%;\n",
              "    cursor: pointer;\n",
              "    display: none;\n",
              "    fill: var(--fill-color);\n",
              "    height: 32px;\n",
              "    padding: 0;\n",
              "    width: 32px;\n",
              "  }\n",
              "\n",
              "  .colab-df-quickchart:hover {\n",
              "    background-color: var(--hover-bg-color);\n",
              "    box-shadow: 0 1px 2px rgba(60, 64, 67, 0.3), 0 1px 3px 1px rgba(60, 64, 67, 0.15);\n",
              "    fill: var(--button-hover-fill-color);\n",
              "  }\n",
              "\n",
              "  .colab-df-quickchart-complete:disabled,\n",
              "  .colab-df-quickchart-complete:disabled:hover {\n",
              "    background-color: var(--disabled-bg-color);\n",
              "    fill: var(--disabled-fill-color);\n",
              "    box-shadow: none;\n",
              "  }\n",
              "\n",
              "  .colab-df-spinner {\n",
              "    border: 2px solid var(--fill-color);\n",
              "    border-color: transparent;\n",
              "    border-bottom-color: var(--fill-color);\n",
              "    animation:\n",
              "      spin 1s steps(1) infinite;\n",
              "  }\n",
              "\n",
              "  @keyframes spin {\n",
              "    0% {\n",
              "      border-color: transparent;\n",
              "      border-bottom-color: var(--fill-color);\n",
              "      border-left-color: var(--fill-color);\n",
              "    }\n",
              "    20% {\n",
              "      border-color: transparent;\n",
              "      border-left-color: var(--fill-color);\n",
              "      border-top-color: var(--fill-color);\n",
              "    }\n",
              "    30% {\n",
              "      border-color: transparent;\n",
              "      border-left-color: var(--fill-color);\n",
              "      border-top-color: var(--fill-color);\n",
              "      border-right-color: var(--fill-color);\n",
              "    }\n",
              "    40% {\n",
              "      border-color: transparent;\n",
              "      border-right-color: var(--fill-color);\n",
              "      border-top-color: var(--fill-color);\n",
              "    }\n",
              "    60% {\n",
              "      border-color: transparent;\n",
              "      border-right-color: var(--fill-color);\n",
              "    }\n",
              "    80% {\n",
              "      border-color: transparent;\n",
              "      border-right-color: var(--fill-color);\n",
              "      border-bottom-color: var(--fill-color);\n",
              "    }\n",
              "    90% {\n",
              "      border-color: transparent;\n",
              "      border-bottom-color: var(--fill-color);\n",
              "    }\n",
              "  }\n",
              "</style>\n",
              "\n",
              "      <script>\n",
              "        async function quickchart(key) {\n",
              "          const quickchartButtonEl =\n",
              "            document.querySelector('#' + key + ' button');\n",
              "          quickchartButtonEl.disabled = true;  // To prevent multiple clicks.\n",
              "          quickchartButtonEl.classList.add('colab-df-spinner');\n",
              "          try {\n",
              "            const charts = await google.colab.kernel.invokeFunction(\n",
              "                'suggestCharts', [key], {});\n",
              "          } catch (error) {\n",
              "            console.error('Error during call to suggestCharts:', error);\n",
              "          }\n",
              "          quickchartButtonEl.classList.remove('colab-df-spinner');\n",
              "          quickchartButtonEl.classList.add('colab-df-quickchart-complete');\n",
              "        }\n",
              "        (() => {\n",
              "          let quickchartButtonEl =\n",
              "            document.querySelector('#df-82c3d2dd-c7f4-4ccb-b9b2-7ec91d1114fc button');\n",
              "          quickchartButtonEl.style.display =\n",
              "            google.colab.kernel.accessAllowed ? 'block' : 'none';\n",
              "        })();\n",
              "      </script>\n",
              "    </div>\n",
              "\n",
              "  <div id=\"id_bfb3a456-ed70-4379-b966-cde29589334d\">\n",
              "    <style>\n",
              "      .colab-df-generate {\n",
              "        background-color: #E8F0FE;\n",
              "        border: none;\n",
              "        border-radius: 50%;\n",
              "        cursor: pointer;\n",
              "        display: none;\n",
              "        fill: #1967D2;\n",
              "        height: 32px;\n",
              "        padding: 0 0 0 0;\n",
              "        width: 32px;\n",
              "      }\n",
              "\n",
              "      .colab-df-generate:hover {\n",
              "        background-color: #E2EBFA;\n",
              "        box-shadow: 0px 1px 2px rgba(60, 64, 67, 0.3), 0px 1px 3px 1px rgba(60, 64, 67, 0.15);\n",
              "        fill: #174EA6;\n",
              "      }\n",
              "\n",
              "      [theme=dark] .colab-df-generate {\n",
              "        background-color: #3B4455;\n",
              "        fill: #D2E3FC;\n",
              "      }\n",
              "\n",
              "      [theme=dark] .colab-df-generate:hover {\n",
              "        background-color: #434B5C;\n",
              "        box-shadow: 0px 1px 3px 1px rgba(0, 0, 0, 0.15);\n",
              "        filter: drop-shadow(0px 1px 2px rgba(0, 0, 0, 0.3));\n",
              "        fill: #FFFFFF;\n",
              "      }\n",
              "    </style>\n",
              "    <button class=\"colab-df-generate\" onclick=\"generateWithVariable('porcetaje_de_nulidad')\"\n",
              "            title=\"Generate code using this dataframe.\"\n",
              "            style=\"display:none;\">\n",
              "\n",
              "  <svg xmlns=\"http://www.w3.org/2000/svg\" height=\"24px\"viewBox=\"0 0 24 24\"\n",
              "       width=\"24px\">\n",
              "    <path d=\"M7,19H8.4L18.45,9,17,7.55,7,17.6ZM5,21V16.75L18.45,3.32a2,2,0,0,1,2.83,0l1.4,1.43a1.91,1.91,0,0,1,.58,1.4,1.91,1.91,0,0,1-.58,1.4L9.25,21ZM18.45,9,17,7.55Zm-12,3A5.31,5.31,0,0,0,4.9,8.1,5.31,5.31,0,0,0,1,6.5,5.31,5.31,0,0,0,4.9,4.9,5.31,5.31,0,0,0,6.5,1,5.31,5.31,0,0,0,8.1,4.9,5.31,5.31,0,0,0,12,6.5,5.46,5.46,0,0,0,6.5,12Z\"/>\n",
              "  </svg>\n",
              "    </button>\n",
              "    <script>\n",
              "      (() => {\n",
              "      const buttonEl =\n",
              "        document.querySelector('#id_bfb3a456-ed70-4379-b966-cde29589334d button.colab-df-generate');\n",
              "      buttonEl.style.display =\n",
              "        google.colab.kernel.accessAllowed ? 'block' : 'none';\n",
              "\n",
              "      buttonEl.onclick = () => {\n",
              "        google.colab.notebook.generateWithVariable('porcetaje_de_nulidad');\n",
              "      }\n",
              "      })();\n",
              "    </script>\n",
              "  </div>\n",
              "\n",
              "    </div>\n",
              "  </div>\n"
            ],
            "application/vnd.google.colaboratory.intrinsic+json": {
              "type": "dataframe",
              "variable_name": "porcetaje_de_nulidad",
              "summary": "{\n  \"name\": \"porcetaje_de_nulidad\",\n  \"rows\": 42,\n  \"fields\": [\n    {\n      \"column\": \"not_null\",\n      \"properties\": {\n        \"dtype\": \"number\",\n        \"std\": 0.14100844905124135,\n        \"min\": 0.08520859671302149,\n        \"max\": 1.0,\n        \"num_unique_values\": 4,\n        \"samples\": [\n          0.08520859671302149,\n          0.9646017699115044,\n          1.0\n        ],\n        \"semantic_type\": \"\",\n        \"description\": \"\"\n      }\n    },\n    {\n      \"column\": \"null\",\n      \"properties\": {\n        \"dtype\": \"number\",\n        \"std\": 0.3936733417549006,\n        \"min\": 0.033628318584070796,\n        \"max\": 0.9147914032869785,\n        \"num_unique_values\": 3,\n        \"samples\": [\n          0.9147914032869785,\n          0.033628318584070796,\n          0.035398230088495575\n        ],\n        \"semantic_type\": \"\",\n        \"description\": \"\"\n      }\n    }\n  ]\n}"
            }
          },
          "metadata": {},
          "execution_count": 8
        }
      ],
      "source": [
        "porcetaje_de_nulidad = (\n",
        "    X.isnull()\n",
        "    .apply(lambda s: s.value_counts(True)).T\n",
        ")\n",
        "\n",
        "porcetaje_de_nulidad.columns = ['not_null', 'null']\n",
        "variables_muy_nulas = porcetaje_de_nulidad.query('null > 0.7').index\n",
        "porcetaje_de_nulidad"
      ]
    },
    {
      "cell_type": "markdown",
      "metadata": {
        "id": "rTllSOo4oMfW"
      },
      "source": [
        "Por conocimiento de negocio, se cambian los tipos de algunas variables"
      ]
    },
    {
      "cell_type": "code",
      "execution_count": 9,
      "metadata": {
        "execution": {
          "iopub.execute_input": "2025-03-20T02:59:56.554141Z",
          "iopub.status.busy": "2025-03-20T02:59:56.553777Z",
          "iopub.status.idle": "2025-03-20T02:59:56.565208Z",
          "shell.execute_reply": "2025-03-20T02:59:56.564164Z",
          "shell.execute_reply.started": "2025-03-20T02:59:56.554112Z"
        },
        "id": "xneu_Kt_oMfW",
        "trusted": true
      },
      "outputs": [],
      "source": [
        "columnas_numerico=['MULTI_CANCER','RIESGOS']\n",
        "X[columnas_numerico] = X[columnas_numerico].astype(float)\n",
        "\n",
        "columnas_categ= ['GENERO','ESTADO_CIVIL',\n",
        "                 'CESION','CANCER_MAMA_FAMILIAR',\n",
        "                'CANCER_OTRO_SITIO','CANCER_OTRO_SITIO_FAMILIAR','CEREBRAL_FAMILIAR'\n",
        "                ,'atencion_nutricion'\n",
        "                ]\n",
        "X[columnas_categ] = X[columnas_categ].astype(str)"
      ]
    },
    {
      "cell_type": "markdown",
      "metadata": {
        "id": "L9HMi1AZoMfX"
      },
      "source": [
        "Dividimos el conjunto de datos en entrenamiento y prueba, por ahora, sin implementar un protocolo complejo de evaluación."
      ]
    },
    {
      "cell_type": "code",
      "execution_count": 10,
      "metadata": {
        "execution": {
          "iopub.execute_input": "2025-03-20T02:59:56.949984Z",
          "iopub.status.busy": "2025-03-20T02:59:56.949671Z",
          "iopub.status.idle": "2025-03-20T02:59:56.959175Z",
          "shell.execute_reply": "2025-03-20T02:59:56.958230Z",
          "shell.execute_reply.started": "2025-03-20T02:59:56.949960Z"
        },
        "id": "nl3pn1OZoMfX",
        "trusted": true
      },
      "outputs": [],
      "source": [
        "#Dividir el conjunto de entrenamiento y prueba pero estratificando, debido a que la muestra esta un poco desbalanceada\n",
        "#X_train, X_test, y_train, y_test = train_test_split(X, y, test_size=0.15, random_state=42)\n",
        "X_train, X_test, y_train, y_test = train_test_split(X, y, test_size=0.15, random_state=42, stratify=y)"
      ]
    },
    {
      "cell_type": "markdown",
      "metadata": {
        "id": "dewiM69ioMfX"
      },
      "source": [
        "Validemos que tan desbalanceados quedaron los particionamientos"
      ]
    },
    {
      "cell_type": "code",
      "execution_count": 11,
      "metadata": {
        "colab": {
          "base_uri": "https://localhost:8080/"
        },
        "execution": {
          "iopub.execute_input": "2025-03-20T03:00:01.245769Z",
          "iopub.status.busy": "2025-03-20T03:00:01.245455Z",
          "iopub.status.idle": "2025-03-20T03:00:01.253868Z",
          "shell.execute_reply": "2025-03-20T03:00:01.252932Z",
          "shell.execute_reply.started": "2025-03-20T03:00:01.245744Z"
        },
        "id": "_L_ZtreOoMfX",
        "outputId": "d60b2f22-6987-450e-e4db-2a88be1e381c",
        "trusted": true
      },
      "outputs": [
        {
          "output_type": "stream",
          "name": "stdout",
          "text": [
            "Target\n",
            "0.0    88.693841\n",
            "1.0    11.306159\n",
            "Name: proportion, dtype: float64\n",
            "Target\n",
            "0.0    88.720539\n",
            "1.0    11.279461\n",
            "Name: proportion, dtype: float64\n"
          ]
        }
      ],
      "source": [
        "print(y_train.value_counts(True)*100)\n",
        "print(y_test.value_counts(True)*100)"
      ]
    },
    {
      "cell_type": "markdown",
      "metadata": {
        "id": "Q5e2hcdfoMfY"
      },
      "source": [
        "Este fragmento de código separa las variables en categóricas y numéricas, eliminando aquellas que tienen más del 70% de valores nulos (almacenadas en variables_muy_nulas)."
      ]
    },
    {
      "cell_type": "code",
      "execution_count": 12,
      "metadata": {
        "execution": {
          "iopub.execute_input": "2025-03-20T03:00:01.714507Z",
          "iopub.status.busy": "2025-03-20T03:00:01.714172Z",
          "iopub.status.idle": "2025-03-20T03:00:01.724254Z",
          "shell.execute_reply": "2025-03-20T03:00:01.723265Z",
          "shell.execute_reply.started": "2025-03-20T03:00:01.714481Z"
        },
        "id": "N5gUC-n3oMfY",
        "trusted": true
      },
      "outputs": [],
      "source": [
        "##Selecciona las columnas categóricas (variables tipo object o cadenas de texto) en X_train.\n",
        "categoricas = X_train.select_dtypes('object').columns\n",
        "categoricas = categoricas.delete(\n",
        "    categoricas.isin(variables_muy_nulas)\n",
        ")\n",
        "\n",
        "##Selecciona las columnas numéricas en X_train (variables tipo int o float).\n",
        "numericas = X_train.select_dtypes('number').columns\n",
        "numericas = numericas.delete(\n",
        "    numericas.isin(variables_muy_nulas)\n",
        ")"
      ]
    },
    {
      "cell_type": "code",
      "execution_count": 13,
      "metadata": {
        "colab": {
          "base_uri": "https://localhost:8080/"
        },
        "id": "cGf5ztocrK9K",
        "outputId": "665f9026-a26b-4b3f-c1e1-0cf03a95eea7"
      },
      "outputs": [
        {
          "output_type": "execute_result",
          "data": {
            "text/plain": [
              "Index(['GENERO', 'ESTADO_CIVIL', 'CODIGO_SEDE', 'CESION',\n",
              "       'CANCER_MAMA_FAMILIAR', 'CANCER_OTRO_SITIO',\n",
              "       'CANCER_OTRO_SITIO_FAMILIAR', 'CEREBRAL_FAMILIAR',\n",
              "       'atencion_nutricion'],\n",
              "      dtype='object')"
            ]
          },
          "metadata": {},
          "execution_count": 13
        }
      ],
      "source": [
        "categoricas"
      ]
    },
    {
      "cell_type": "code",
      "execution_count": 14,
      "metadata": {
        "colab": {
          "base_uri": "https://localhost:8080/"
        },
        "id": "9iVBfYwirPzs",
        "outputId": "de439b66-a945-4ec1-bad4-4c569451db25"
      },
      "outputs": [
        {
          "output_type": "execute_result",
          "data": {
            "text/plain": [
              "Index(['RIESGOS', 'PESO', 'TALLA', 'TSISTOLICA', 'TDIASTOLICA', 'mes_6',\n",
              "       'mes_5', 'mes_4', 'mes_3', 'mes_2', 'mes_1', 'valor_servicio',\n",
              "       'IV_NIVEL', 'HOSPI_NO_QUIRURGICA', 'URGENCIAS', 'HOSPITALIZACION',\n",
              "       'CITA_ONCOLOGICA', 'Biopsias_cancer', 'radioterapias_cancer',\n",
              "       'quimioterapias__cancer', 'hormonoterapias__cancer',\n",
              "       'cuidado_palitiavo__cancer', 'inmunoterapias_cancer',\n",
              "       'Citas_oncologicas_cancer', 'psiquiatria_cancer', 'psicologia_cancer',\n",
              "       'nutricion_cancer', 'EDAD_COMPLICACION'],\n",
              "      dtype='object')"
            ]
          },
          "metadata": {},
          "execution_count": 14
        }
      ],
      "source": [
        "numericas"
      ]
    },
    {
      "cell_type": "markdown",
      "metadata": {
        "id": "WqeuBLIvoMfY"
      },
      "source": [
        "Configuración para el codificador One-Hot (OneHotEncoder) en el preprocesamiento de variables categóricas."
      ]
    },
    {
      "cell_type": "code",
      "execution_count": 15,
      "metadata": {
        "execution": {
          "iopub.execute_input": "2025-03-20T03:00:02.182325Z",
          "iopub.status.busy": "2025-03-20T03:00:02.181967Z",
          "iopub.status.idle": "2025-03-20T03:00:02.186398Z",
          "shell.execute_reply": "2025-03-20T03:00:02.185348Z",
          "shell.execute_reply.started": "2025-03-20T03:00:02.182297Z"
        },
        "id": "ytrP8MLWoMfY",
        "trusted": true
      },
      "outputs": [],
      "source": [
        "config_onehot = dict(\n",
        "    handle_unknown='ignore' # Ignora cualquier categoría desconocida que aparezca en los datos de prueba pero que no estaba en los datos de entrenamiento.\n",
        ")"
      ]
    },
    {
      "cell_type": "markdown",
      "metadata": {
        "id": "XJciYhocoMfY"
      },
      "source": [
        "### Fit Manual\n",
        "\n",
        "Implementa una serie de pasos de preprocesamiento y entrenamiento de un modelo KNN para la clasificación, d manera manual."
      ]
    },
    {
      "cell_type": "code",
      "execution_count": 16,
      "metadata": {
        "colab": {
          "base_uri": "https://localhost:8080/"
        },
        "id": "2ak47nu_oOiV",
        "outputId": "06538421-3fb9-4c89-a56d-a900b674db5a"
      },
      "outputs": [
        {
          "output_type": "stream",
          "name": "stdout",
          "text": [
            "['MULTI_CANCER', 'RIESGOS', 'PESO', 'TALLA', 'TSISTOLICA', 'TDIASTOLICA', 'mes_6', 'mes_5', 'mes_4', 'mes_3', 'mes_2', 'mes_1', 'valor_servicio', 'IV_NIVEL', 'HOSPI_NO_QUIRURGICA', 'URGENCIAS', 'HOSPITALIZACION', 'CITA_ONCOLOGICA', 'Biopsias_cancer', 'radioterapias_cancer', 'quimioterapias__cancer', 'hormonoterapias__cancer', 'cuidado_palitiavo__cancer', 'inmunoterapias_cancer', 'Citas_oncologicas_cancer', 'psiquiatria_cancer', 'psicologia_cancer', 'nutricion_cancer', 'EDAD_COMPLICACION']\n"
          ]
        }
      ],
      "source": [
        "print(X_train.select_dtypes(include='number').columns.tolist())\n"
      ]
    },
    {
      "cell_type": "markdown",
      "metadata": {
        "id": "baKmvZ59oMfY"
      },
      "source": [
        "#### Imputación de valores faltantes"
      ]
    },
    {
      "cell_type": "code",
      "execution_count": 17,
      "metadata": {
        "id": "3vKgFZZqujqX"
      },
      "outputs": [],
      "source": [
        "class GroupImputer(BaseEstimator, TransformerMixin):\n",
        "    def __init__(self, group_cols):\n",
        "        self.group_cols = group_cols\n",
        "\n",
        "    def fit(self, X, y=None):\n",
        "        self.group_means_ = (\n",
        "            X.groupby(self.group_cols)\n",
        "              .mean(numeric_only=True)\n",
        "        )\n",
        "        self.global_means_ = X.mean(numeric_only=True)\n",
        "        return self\n",
        "\n",
        "    def transform(self, X):\n",
        "        X_out = X.copy()\n",
        "        for col in self.global_means_.index:\n",
        "            for name, _ in self.group_means_.groupby(level=list(range(len(self.group_cols)))):\n",
        "                if col in self.group_means_.columns:\n",
        "                    mean_value = self.group_means_.loc[name][col]\n",
        "                    if pd.notna(mean_value):\n",
        "                        mask = (\n",
        "                            X_out[col].isnull() &\n",
        "                            (X_out[self.group_cols[0]] == name[0]) &\n",
        "                            (X_out[self.group_cols[1]] == name[1])\n",
        "                        )\n",
        "                        X_out.loc[mask, col] = mean_value\n",
        "            X_out[col] = X_out[col].fillna(self.global_means_[col])\n",
        "        return X_out\n"
      ]
    },
    {
      "cell_type": "code",
      "execution_count": null,
      "metadata": {
        "colab": {
          "base_uri": "https://localhost:8080/",
          "height": 80
        },
        "execution": {
          "iopub.execute_input": "2025-03-20T03:00:06.323264Z",
          "iopub.status.busy": "2025-03-20T03:00:06.322887Z",
          "iopub.status.idle": "2025-03-20T03:00:06.339731Z",
          "shell.execute_reply": "2025-03-20T03:00:06.338840Z",
          "shell.execute_reply.started": "2025-03-20T03:00:06.323231Z"
        },
        "id": "P408yyyKoMfZ",
        "outputId": "6ed16c47-a516-4717-e5eb-960e66384d96",
        "trusted": true
      },
      "outputs": [
        {
          "data": {
            "text/html": [
              "<style>#sk-container-id-1 {\n",
              "  /* Definition of color scheme common for light and dark mode */\n",
              "  --sklearn-color-text: #000;\n",
              "  --sklearn-color-text-muted: #666;\n",
              "  --sklearn-color-line: gray;\n",
              "  /* Definition of color scheme for unfitted estimators */\n",
              "  --sklearn-color-unfitted-level-0: #fff5e6;\n",
              "  --sklearn-color-unfitted-level-1: #f6e4d2;\n",
              "  --sklearn-color-unfitted-level-2: #ffe0b3;\n",
              "  --sklearn-color-unfitted-level-3: chocolate;\n",
              "  /* Definition of color scheme for fitted estimators */\n",
              "  --sklearn-color-fitted-level-0: #f0f8ff;\n",
              "  --sklearn-color-fitted-level-1: #d4ebff;\n",
              "  --sklearn-color-fitted-level-2: #b3dbfd;\n",
              "  --sklearn-color-fitted-level-3: cornflowerblue;\n",
              "\n",
              "  /* Specific color for light theme */\n",
              "  --sklearn-color-text-on-default-background: var(--sg-text-color, var(--theme-code-foreground, var(--jp-content-font-color1, black)));\n",
              "  --sklearn-color-background: var(--sg-background-color, var(--theme-background, var(--jp-layout-color0, white)));\n",
              "  --sklearn-color-border-box: var(--sg-text-color, var(--theme-code-foreground, var(--jp-content-font-color1, black)));\n",
              "  --sklearn-color-icon: #696969;\n",
              "\n",
              "  @media (prefers-color-scheme: dark) {\n",
              "    /* Redefinition of color scheme for dark theme */\n",
              "    --sklearn-color-text-on-default-background: var(--sg-text-color, var(--theme-code-foreground, var(--jp-content-font-color1, white)));\n",
              "    --sklearn-color-background: var(--sg-background-color, var(--theme-background, var(--jp-layout-color0, #111)));\n",
              "    --sklearn-color-border-box: var(--sg-text-color, var(--theme-code-foreground, var(--jp-content-font-color1, white)));\n",
              "    --sklearn-color-icon: #878787;\n",
              "  }\n",
              "}\n",
              "\n",
              "#sk-container-id-1 {\n",
              "  color: var(--sklearn-color-text);\n",
              "}\n",
              "\n",
              "#sk-container-id-1 pre {\n",
              "  padding: 0;\n",
              "}\n",
              "\n",
              "#sk-container-id-1 input.sk-hidden--visually {\n",
              "  border: 0;\n",
              "  clip: rect(1px 1px 1px 1px);\n",
              "  clip: rect(1px, 1px, 1px, 1px);\n",
              "  height: 1px;\n",
              "  margin: -1px;\n",
              "  overflow: hidden;\n",
              "  padding: 0;\n",
              "  position: absolute;\n",
              "  width: 1px;\n",
              "}\n",
              "\n",
              "#sk-container-id-1 div.sk-dashed-wrapped {\n",
              "  border: 1px dashed var(--sklearn-color-line);\n",
              "  margin: 0 0.4em 0.5em 0.4em;\n",
              "  box-sizing: border-box;\n",
              "  padding-bottom: 0.4em;\n",
              "  background-color: var(--sklearn-color-background);\n",
              "}\n",
              "\n",
              "#sk-container-id-1 div.sk-container {\n",
              "  /* jupyter's `normalize.less` sets `[hidden] { display: none; }`\n",
              "     but bootstrap.min.css set `[hidden] { display: none !important; }`\n",
              "     so we also need the `!important` here to be able to override the\n",
              "     default hidden behavior on the sphinx rendered scikit-learn.org.\n",
              "     See: https://github.com/scikit-learn/scikit-learn/issues/21755 */\n",
              "  display: inline-block !important;\n",
              "  position: relative;\n",
              "}\n",
              "\n",
              "#sk-container-id-1 div.sk-text-repr-fallback {\n",
              "  display: none;\n",
              "}\n",
              "\n",
              "div.sk-parallel-item,\n",
              "div.sk-serial,\n",
              "div.sk-item {\n",
              "  /* draw centered vertical line to link estimators */\n",
              "  background-image: linear-gradient(var(--sklearn-color-text-on-default-background), var(--sklearn-color-text-on-default-background));\n",
              "  background-size: 2px 100%;\n",
              "  background-repeat: no-repeat;\n",
              "  background-position: center center;\n",
              "}\n",
              "\n",
              "/* Parallel-specific style estimator block */\n",
              "\n",
              "#sk-container-id-1 div.sk-parallel-item::after {\n",
              "  content: \"\";\n",
              "  width: 100%;\n",
              "  border-bottom: 2px solid var(--sklearn-color-text-on-default-background);\n",
              "  flex-grow: 1;\n",
              "}\n",
              "\n",
              "#sk-container-id-1 div.sk-parallel {\n",
              "  display: flex;\n",
              "  align-items: stretch;\n",
              "  justify-content: center;\n",
              "  background-color: var(--sklearn-color-background);\n",
              "  position: relative;\n",
              "}\n",
              "\n",
              "#sk-container-id-1 div.sk-parallel-item {\n",
              "  display: flex;\n",
              "  flex-direction: column;\n",
              "}\n",
              "\n",
              "#sk-container-id-1 div.sk-parallel-item:first-child::after {\n",
              "  align-self: flex-end;\n",
              "  width: 50%;\n",
              "}\n",
              "\n",
              "#sk-container-id-1 div.sk-parallel-item:last-child::after {\n",
              "  align-self: flex-start;\n",
              "  width: 50%;\n",
              "}\n",
              "\n",
              "#sk-container-id-1 div.sk-parallel-item:only-child::after {\n",
              "  width: 0;\n",
              "}\n",
              "\n",
              "/* Serial-specific style estimator block */\n",
              "\n",
              "#sk-container-id-1 div.sk-serial {\n",
              "  display: flex;\n",
              "  flex-direction: column;\n",
              "  align-items: center;\n",
              "  background-color: var(--sklearn-color-background);\n",
              "  padding-right: 1em;\n",
              "  padding-left: 1em;\n",
              "}\n",
              "\n",
              "\n",
              "/* Toggleable style: style used for estimator/Pipeline/ColumnTransformer box that is\n",
              "clickable and can be expanded/collapsed.\n",
              "- Pipeline and ColumnTransformer use this feature and define the default style\n",
              "- Estimators will overwrite some part of the style using the `sk-estimator` class\n",
              "*/\n",
              "\n",
              "/* Pipeline and ColumnTransformer style (default) */\n",
              "\n",
              "#sk-container-id-1 div.sk-toggleable {\n",
              "  /* Default theme specific background. It is overwritten whether we have a\n",
              "  specific estimator or a Pipeline/ColumnTransformer */\n",
              "  background-color: var(--sklearn-color-background);\n",
              "}\n",
              "\n",
              "/* Toggleable label */\n",
              "#sk-container-id-1 label.sk-toggleable__label {\n",
              "  cursor: pointer;\n",
              "  display: flex;\n",
              "  width: 100%;\n",
              "  margin-bottom: 0;\n",
              "  padding: 0.5em;\n",
              "  box-sizing: border-box;\n",
              "  text-align: center;\n",
              "  align-items: start;\n",
              "  justify-content: space-between;\n",
              "  gap: 0.5em;\n",
              "}\n",
              "\n",
              "#sk-container-id-1 label.sk-toggleable__label .caption {\n",
              "  font-size: 0.6rem;\n",
              "  font-weight: lighter;\n",
              "  color: var(--sklearn-color-text-muted);\n",
              "}\n",
              "\n",
              "#sk-container-id-1 label.sk-toggleable__label-arrow:before {\n",
              "  /* Arrow on the left of the label */\n",
              "  content: \"▸\";\n",
              "  float: left;\n",
              "  margin-right: 0.25em;\n",
              "  color: var(--sklearn-color-icon);\n",
              "}\n",
              "\n",
              "#sk-container-id-1 label.sk-toggleable__label-arrow:hover:before {\n",
              "  color: var(--sklearn-color-text);\n",
              "}\n",
              "\n",
              "/* Toggleable content - dropdown */\n",
              "\n",
              "#sk-container-id-1 div.sk-toggleable__content {\n",
              "  max-height: 0;\n",
              "  max-width: 0;\n",
              "  overflow: hidden;\n",
              "  text-align: left;\n",
              "  /* unfitted */\n",
              "  background-color: var(--sklearn-color-unfitted-level-0);\n",
              "}\n",
              "\n",
              "#sk-container-id-1 div.sk-toggleable__content.fitted {\n",
              "  /* fitted */\n",
              "  background-color: var(--sklearn-color-fitted-level-0);\n",
              "}\n",
              "\n",
              "#sk-container-id-1 div.sk-toggleable__content pre {\n",
              "  margin: 0.2em;\n",
              "  border-radius: 0.25em;\n",
              "  color: var(--sklearn-color-text);\n",
              "  /* unfitted */\n",
              "  background-color: var(--sklearn-color-unfitted-level-0);\n",
              "}\n",
              "\n",
              "#sk-container-id-1 div.sk-toggleable__content.fitted pre {\n",
              "  /* unfitted */\n",
              "  background-color: var(--sklearn-color-fitted-level-0);\n",
              "}\n",
              "\n",
              "#sk-container-id-1 input.sk-toggleable__control:checked~div.sk-toggleable__content {\n",
              "  /* Expand drop-down */\n",
              "  max-height: 200px;\n",
              "  max-width: 100%;\n",
              "  overflow: auto;\n",
              "}\n",
              "\n",
              "#sk-container-id-1 input.sk-toggleable__control:checked~label.sk-toggleable__label-arrow:before {\n",
              "  content: \"▾\";\n",
              "}\n",
              "\n",
              "/* Pipeline/ColumnTransformer-specific style */\n",
              "\n",
              "#sk-container-id-1 div.sk-label input.sk-toggleable__control:checked~label.sk-toggleable__label {\n",
              "  color: var(--sklearn-color-text);\n",
              "  background-color: var(--sklearn-color-unfitted-level-2);\n",
              "}\n",
              "\n",
              "#sk-container-id-1 div.sk-label.fitted input.sk-toggleable__control:checked~label.sk-toggleable__label {\n",
              "  background-color: var(--sklearn-color-fitted-level-2);\n",
              "}\n",
              "\n",
              "/* Estimator-specific style */\n",
              "\n",
              "/* Colorize estimator box */\n",
              "#sk-container-id-1 div.sk-estimator input.sk-toggleable__control:checked~label.sk-toggleable__label {\n",
              "  /* unfitted */\n",
              "  background-color: var(--sklearn-color-unfitted-level-2);\n",
              "}\n",
              "\n",
              "#sk-container-id-1 div.sk-estimator.fitted input.sk-toggleable__control:checked~label.sk-toggleable__label {\n",
              "  /* fitted */\n",
              "  background-color: var(--sklearn-color-fitted-level-2);\n",
              "}\n",
              "\n",
              "#sk-container-id-1 div.sk-label label.sk-toggleable__label,\n",
              "#sk-container-id-1 div.sk-label label {\n",
              "  /* The background is the default theme color */\n",
              "  color: var(--sklearn-color-text-on-default-background);\n",
              "}\n",
              "\n",
              "/* On hover, darken the color of the background */\n",
              "#sk-container-id-1 div.sk-label:hover label.sk-toggleable__label {\n",
              "  color: var(--sklearn-color-text);\n",
              "  background-color: var(--sklearn-color-unfitted-level-2);\n",
              "}\n",
              "\n",
              "/* Label box, darken color on hover, fitted */\n",
              "#sk-container-id-1 div.sk-label.fitted:hover label.sk-toggleable__label.fitted {\n",
              "  color: var(--sklearn-color-text);\n",
              "  background-color: var(--sklearn-color-fitted-level-2);\n",
              "}\n",
              "\n",
              "/* Estimator label */\n",
              "\n",
              "#sk-container-id-1 div.sk-label label {\n",
              "  font-family: monospace;\n",
              "  font-weight: bold;\n",
              "  display: inline-block;\n",
              "  line-height: 1.2em;\n",
              "}\n",
              "\n",
              "#sk-container-id-1 div.sk-label-container {\n",
              "  text-align: center;\n",
              "}\n",
              "\n",
              "/* Estimator-specific */\n",
              "#sk-container-id-1 div.sk-estimator {\n",
              "  font-family: monospace;\n",
              "  border: 1px dotted var(--sklearn-color-border-box);\n",
              "  border-radius: 0.25em;\n",
              "  box-sizing: border-box;\n",
              "  margin-bottom: 0.5em;\n",
              "  /* unfitted */\n",
              "  background-color: var(--sklearn-color-unfitted-level-0);\n",
              "}\n",
              "\n",
              "#sk-container-id-1 div.sk-estimator.fitted {\n",
              "  /* fitted */\n",
              "  background-color: var(--sklearn-color-fitted-level-0);\n",
              "}\n",
              "\n",
              "/* on hover */\n",
              "#sk-container-id-1 div.sk-estimator:hover {\n",
              "  /* unfitted */\n",
              "  background-color: var(--sklearn-color-unfitted-level-2);\n",
              "}\n",
              "\n",
              "#sk-container-id-1 div.sk-estimator.fitted:hover {\n",
              "  /* fitted */\n",
              "  background-color: var(--sklearn-color-fitted-level-2);\n",
              "}\n",
              "\n",
              "/* Specification for estimator info (e.g. \"i\" and \"?\") */\n",
              "\n",
              "/* Common style for \"i\" and \"?\" */\n",
              "\n",
              ".sk-estimator-doc-link,\n",
              "a:link.sk-estimator-doc-link,\n",
              "a:visited.sk-estimator-doc-link {\n",
              "  float: right;\n",
              "  font-size: smaller;\n",
              "  line-height: 1em;\n",
              "  font-family: monospace;\n",
              "  background-color: var(--sklearn-color-background);\n",
              "  border-radius: 1em;\n",
              "  height: 1em;\n",
              "  width: 1em;\n",
              "  text-decoration: none !important;\n",
              "  margin-left: 0.5em;\n",
              "  text-align: center;\n",
              "  /* unfitted */\n",
              "  border: var(--sklearn-color-unfitted-level-1) 1pt solid;\n",
              "  color: var(--sklearn-color-unfitted-level-1);\n",
              "}\n",
              "\n",
              ".sk-estimator-doc-link.fitted,\n",
              "a:link.sk-estimator-doc-link.fitted,\n",
              "a:visited.sk-estimator-doc-link.fitted {\n",
              "  /* fitted */\n",
              "  border: var(--sklearn-color-fitted-level-1) 1pt solid;\n",
              "  color: var(--sklearn-color-fitted-level-1);\n",
              "}\n",
              "\n",
              "/* On hover */\n",
              "div.sk-estimator:hover .sk-estimator-doc-link:hover,\n",
              ".sk-estimator-doc-link:hover,\n",
              "div.sk-label-container:hover .sk-estimator-doc-link:hover,\n",
              ".sk-estimator-doc-link:hover {\n",
              "  /* unfitted */\n",
              "  background-color: var(--sklearn-color-unfitted-level-3);\n",
              "  color: var(--sklearn-color-background);\n",
              "  text-decoration: none;\n",
              "}\n",
              "\n",
              "div.sk-estimator.fitted:hover .sk-estimator-doc-link.fitted:hover,\n",
              ".sk-estimator-doc-link.fitted:hover,\n",
              "div.sk-label-container:hover .sk-estimator-doc-link.fitted:hover,\n",
              ".sk-estimator-doc-link.fitted:hover {\n",
              "  /* fitted */\n",
              "  background-color: var(--sklearn-color-fitted-level-3);\n",
              "  color: var(--sklearn-color-background);\n",
              "  text-decoration: none;\n",
              "}\n",
              "\n",
              "/* Span, style for the box shown on hovering the info icon */\n",
              ".sk-estimator-doc-link span {\n",
              "  display: none;\n",
              "  z-index: 9999;\n",
              "  position: relative;\n",
              "  font-weight: normal;\n",
              "  right: .2ex;\n",
              "  padding: .5ex;\n",
              "  margin: .5ex;\n",
              "  width: min-content;\n",
              "  min-width: 20ex;\n",
              "  max-width: 50ex;\n",
              "  color: var(--sklearn-color-text);\n",
              "  box-shadow: 2pt 2pt 4pt #999;\n",
              "  /* unfitted */\n",
              "  background: var(--sklearn-color-unfitted-level-0);\n",
              "  border: .5pt solid var(--sklearn-color-unfitted-level-3);\n",
              "}\n",
              "\n",
              ".sk-estimator-doc-link.fitted span {\n",
              "  /* fitted */\n",
              "  background: var(--sklearn-color-fitted-level-0);\n",
              "  border: var(--sklearn-color-fitted-level-3);\n",
              "}\n",
              "\n",
              ".sk-estimator-doc-link:hover span {\n",
              "  display: block;\n",
              "}\n",
              "\n",
              "/* \"?\"-specific style due to the `<a>` HTML tag */\n",
              "\n",
              "#sk-container-id-1 a.estimator_doc_link {\n",
              "  float: right;\n",
              "  font-size: 1rem;\n",
              "  line-height: 1em;\n",
              "  font-family: monospace;\n",
              "  background-color: var(--sklearn-color-background);\n",
              "  border-radius: 1rem;\n",
              "  height: 1rem;\n",
              "  width: 1rem;\n",
              "  text-decoration: none;\n",
              "  /* unfitted */\n",
              "  color: var(--sklearn-color-unfitted-level-1);\n",
              "  border: var(--sklearn-color-unfitted-level-1) 1pt solid;\n",
              "}\n",
              "\n",
              "#sk-container-id-1 a.estimator_doc_link.fitted {\n",
              "  /* fitted */\n",
              "  border: var(--sklearn-color-fitted-level-1) 1pt solid;\n",
              "  color: var(--sklearn-color-fitted-level-1);\n",
              "}\n",
              "\n",
              "/* On hover */\n",
              "#sk-container-id-1 a.estimator_doc_link:hover {\n",
              "  /* unfitted */\n",
              "  background-color: var(--sklearn-color-unfitted-level-3);\n",
              "  color: var(--sklearn-color-background);\n",
              "  text-decoration: none;\n",
              "}\n",
              "\n",
              "#sk-container-id-1 a.estimator_doc_link.fitted:hover {\n",
              "  /* fitted */\n",
              "  background-color: var(--sklearn-color-fitted-level-3);\n",
              "}\n",
              "</style><div id=\"sk-container-id-1\" class=\"sk-top-container\"><div class=\"sk-text-repr-fallback\"><pre>SimpleImputer()</pre><b>In a Jupyter environment, please rerun this cell to show the HTML representation or trust the notebook. <br />On GitHub, the HTML representation is unable to render, please try loading this page with nbviewer.org.</b></div><div class=\"sk-container\" hidden><div class=\"sk-item\"><div class=\"sk-estimator fitted sk-toggleable\"><input class=\"sk-toggleable__control sk-hidden--visually\" id=\"sk-estimator-id-1\" type=\"checkbox\" checked><label for=\"sk-estimator-id-1\" class=\"sk-toggleable__label fitted sk-toggleable__label-arrow\"><div><div>SimpleImputer</div></div><div><a class=\"sk-estimator-doc-link fitted\" rel=\"noreferrer\" target=\"_blank\" href=\"https://scikit-learn.org/1.6/modules/generated/sklearn.impute.SimpleImputer.html\">?<span>Documentation for SimpleImputer</span></a><span class=\"sk-estimator-doc-link fitted\">i<span>Fitted</span></span></div></label><div class=\"sk-toggleable__content fitted\"><pre>SimpleImputer()</pre></div> </div></div></div></div>"
            ],
            "text/plain": [
              "SimpleImputer()"
            ]
          },
          "execution_count": 22,
          "metadata": {},
          "output_type": "execute_result"
        }
      ],
      "source": [
        "#imputer = SimpleImputer(strategy='mean')\n",
        "#imputer.fit(X_train[numericas])"
      ]
    },
    {
      "cell_type": "code",
      "execution_count": 21,
      "metadata": {
        "execution": {
          "iopub.execute_input": "2025-03-20T03:00:06.605039Z",
          "iopub.status.busy": "2025-03-20T03:00:06.604694Z",
          "iopub.status.idle": "2025-03-20T03:00:06.616708Z",
          "shell.execute_reply": "2025-03-20T03:00:06.615757Z",
          "shell.execute_reply.started": "2025-03-20T03:00:06.605009Z"
        },
        "id": "92beeIVgoMfZ",
        "trusted": true
      },
      "outputs": [],
      "source": [
        "#X_train_transf_num = imputer.transform(X_train[numericas])\n",
        "#X_val_transf_num = imputer.transform(X_test[numericas])"
      ]
    },
    {
      "cell_type": "code",
      "execution_count": null,
      "metadata": {
        "execution": {
          "iopub.execute_input": "2025-03-20T03:00:06.844258Z",
          "iopub.status.busy": "2025-03-20T03:00:06.843907Z",
          "iopub.status.idle": "2025-03-20T03:00:06.850045Z",
          "shell.execute_reply": "2025-03-20T03:00:06.849110Z",
          "shell.execute_reply.started": "2025-03-20T03:00:06.844231Z"
        },
        "id": "61wCwzLvoMfZ",
        "outputId": "fac13a00-ff69-4a38-b58c-93ac48a695ad",
        "trusted": true
      },
      "outputs": [
        {
          "data": {
            "text/plain": [
              "False"
            ]
          },
          "execution_count": 17,
          "metadata": {},
          "output_type": "execute_result"
        }
      ],
      "source": [
        "#pd.DataFrame(X_val_transf_num).isnull().values.any()"
      ]
    },
    {
      "cell_type": "markdown",
      "metadata": {
        "id": "mRcsLfjAoMfZ"
      },
      "source": [
        "#### Normalización de datos (Estandarización)\n",
        "\n",
        "Otras maneras\n",
        "https://machinelearningmastery.com/standardscaler-and-minmaxscaler-transforms-in-python/"
      ]
    },
    {
      "cell_type": "code",
      "execution_count": 21,
      "metadata": {
        "id": "CofdkfzzqwFr"
      },
      "outputs": [],
      "source": [
        "#scaler = RobustScaler()\n",
        "#scaler.fit(X_train_transf_num)\n",
        "\n",
        "#X_train_transf_num = scaler.transform(X_train_transf_num)\n",
        "#X_val_transf_num = scaler.transform(X_val_transf_num)\n",
        "\n",
        "\n"
      ]
    },
    {
      "cell_type": "code",
      "execution_count": null,
      "metadata": {
        "execution": {
          "iopub.execute_input": "2025-03-20T03:00:08.956548Z",
          "iopub.status.busy": "2025-03-20T03:00:08.956214Z",
          "iopub.status.idle": "2025-03-20T03:00:08.970522Z",
          "shell.execute_reply": "2025-03-20T03:00:08.969569Z",
          "shell.execute_reply.started": "2025-03-20T03:00:08.956522Z"
        },
        "id": "lkLxJEfDoMfZ",
        "trusted": true
      },
      "outputs": [],
      "source": [
        "#scaler = StandardScaler()\n",
        "#scaler.fit(X_train_transf_num)"
      ]
    },
    {
      "cell_type": "code",
      "execution_count": null,
      "metadata": {
        "execution": {
          "iopub.execute_input": "2025-03-20T03:00:09.268243Z",
          "iopub.status.busy": "2025-03-20T03:00:09.267857Z",
          "iopub.status.idle": "2025-03-20T03:00:09.278387Z",
          "shell.execute_reply": "2025-03-20T03:00:09.277433Z",
          "shell.execute_reply.started": "2025-03-20T03:00:09.268211Z"
        },
        "id": "GKVe5KmmoMfa",
        "trusted": true
      },
      "outputs": [],
      "source": [
        "#X_train_transf_num = scaler.transform(X_train_transf_num)\n",
        "#X_val_transf_num = scaler.transform(X_val_transf_num)"
      ]
    },
    {
      "cell_type": "markdown",
      "metadata": {
        "id": "gZIdzfFhoMfa"
      },
      "source": [
        "#### Selección de características con baja varianza\n",
        "\n",
        "Otras maneras\n",
        "\n",
        "https://www.analyticsvidhya.com/blog/2020/10/feature-selection-techniques-in-machine-learning/\n",
        "\n",
        "https://machinelearningmastery.com/feature-selection-with-real-and-categorical-data/"
      ]
    },
    {
      "cell_type": "code",
      "execution_count": 21,
      "metadata": {
        "execution": {
          "iopub.execute_input": "2025-03-20T03:00:11.362498Z",
          "iopub.status.busy": "2025-03-20T03:00:11.362162Z",
          "iopub.status.idle": "2025-03-20T03:00:11.370853Z",
          "shell.execute_reply": "2025-03-20T03:00:11.369977Z",
          "shell.execute_reply.started": "2025-03-20T03:00:11.362472Z"
        },
        "id": "JNM2SA3SoMfa",
        "trusted": true
      },
      "outputs": [],
      "source": [
        "#select_vth= VarianceThreshold(0.1)\n",
        "#select_vth.fit(X_train_transf_num)"
      ]
    },
    {
      "cell_type": "code",
      "execution_count": null,
      "metadata": {
        "execution": {
          "iopub.execute_input": "2025-03-20T03:00:11.660607Z",
          "iopub.status.busy": "2025-03-20T03:00:11.660268Z",
          "iopub.status.idle": "2025-03-20T03:00:11.665642Z",
          "shell.execute_reply": "2025-03-20T03:00:11.664746Z",
          "shell.execute_reply.started": "2025-03-20T03:00:11.660578Z"
        },
        "id": "gmEUFCXwoMfa",
        "trusted": true
      },
      "outputs": [],
      "source": [
        "#X_train_transf_num = select_vth.transform(X_train_transf_num)\n",
        "#X_val_transf_num = select_vth.transform(X_val_transf_num)"
      ]
    },
    {
      "cell_type": "markdown",
      "metadata": {
        "id": "IjZ0y6AkoMfa"
      },
      "source": [
        "#### Entrenamiento del modelo KNN"
      ]
    },
    {
      "cell_type": "code",
      "execution_count": 22,
      "metadata": {
        "execution": {
          "iopub.execute_input": "2025-03-20T03:00:14.927637Z",
          "iopub.status.busy": "2025-03-20T03:00:14.927320Z",
          "iopub.status.idle": "2025-03-20T03:00:14.935914Z",
          "shell.execute_reply": "2025-03-20T03:00:14.934882Z",
          "shell.execute_reply.started": "2025-03-20T03:00:14.927614Z"
        },
        "id": "3-fSBkMSoMfb",
        "trusted": true
      },
      "outputs": [],
      "source": [
        "#knn_model = KNeighborsClassifier(n_neighbors=5)\n",
        "#knn_model.fit(X_train_transf_num,y_train)"
      ]
    },
    {
      "cell_type": "markdown",
      "metadata": {
        "id": "0KciXtv6oMfb"
      },
      "source": [
        "Si queremos probar otro modelo (como regresión logística), tendríamos que copiar y pegar todo el código anterior y cambiar solo la última parte. Esto es ineficiente, propenso a errores y difícil de mantener."
      ]
    },
    {
      "cell_type": "markdown",
      "metadata": {
        "id": "kKxg57RooMfl"
      },
      "source": [
        "### Mejor, Construyamos un Pipeline que ejecute todo el flujo!"
      ]
    },
    {
      "cell_type": "markdown",
      "metadata": {
        "id": "U6ju__AIoMfl"
      },
      "source": [
        "## Arboles"
      ]
    },
    {
      "cell_type": "code",
      "execution_count": 23,
      "metadata": {
        "execution": {
          "iopub.execute_input": "2025-03-20T03:00:17.658508Z",
          "iopub.status.busy": "2025-03-20T03:00:17.658173Z",
          "iopub.status.idle": "2025-03-20T03:00:17.663380Z",
          "shell.execute_reply": "2025-03-20T03:00:17.662411Z",
          "shell.execute_reply.started": "2025-03-20T03:00:17.658482Z"
        },
        "id": "Rm1cQltzoMfl",
        "trusted": true
      },
      "outputs": [],
      "source": [
        "###cambie el pipe del  tree porque  yo no use esta misma imputación\n",
        "\n",
        "#numeric_transformer = Pipeline(\n",
        "#    steps=[(\"imputer\",  SimpleImputer(strategy='mean')),\n",
        "#           (\"select_var\", VarianceThreshold(0.1))\n",
        "#           ]\n",
        "#)\n",
        "\n",
        "numeric_transformer = Pipeline(\n",
        "    steps=[\n",
        "        (\"select_var\", VarianceThreshold(0.1))\n",
        "    ]\n",
        ")\n",
        "\n",
        "categorical_transformer = Pipeline([\n",
        "    ('imputer', SimpleImputer(strategy='most_frequent')),\n",
        "    ('dumm', OneHotEncoder(sparse_output=False, **config_onehot)),  # 👈 salida densa\n",
        "])\n",
        "\n",
        "tree_preprocessing = ColumnTransformer(\n",
        "    transformers=[\n",
        "        (\"num\", numeric_transformer, numericas),\n",
        "        (\"cat\", categorical_transformer, categoricas),\n",
        "    ],\n",
        "    sparse_threshold=0  # 👈 fuerza salida como matriz densa\n",
        ")\n"
      ]
    },
    {
      "cell_type": "code",
      "execution_count": 24,
      "metadata": {
        "id": "U6AgjWWPwXMr"
      },
      "outputs": [],
      "source": [
        "pre_full_pipeline = Pipeline([\n",
        "    (\"group_imputer\", GroupImputer(group_cols=['GENERO', 'EDAD_COMPLICACION'])),\n",
        "    (\"preprocessing\", tree_preprocessing)\n",
        "])\n"
      ]
    },
    {
      "cell_type": "code",
      "execution_count": 30,
      "metadata": {
        "id": "9qgBu5ZXwaTW"
      },
      "outputs": [],
      "source": [
        "#ctree_id3_pipeline = Pipeline([\n",
        "#    ('preprocesamiento', pre_full_pipeline),  # ahora usamos el pipeline completo\n",
        "#    ('classificador', tree.DecisionTreeClassifier(**config_ctree))\n",
        "#])\n"
      ]
    },
    {
      "cell_type": "code",
      "execution_count": 30,
      "metadata": {
        "id": "zCxYuaYcwucH"
      },
      "outputs": [],
      "source": [
        "\n",
        "#ctree_cart_pipeline = Pipeline([\n",
        "#    ('preprocesamiento', pre_full_pipeline),  # también usa el mismo preprocesamiento\n",
        "#    ('classificador', tree.DecisionTreeClassifier(**config_ctree_cart))\n",
        "#])"
      ]
    },
    {
      "cell_type": "code",
      "execution_count": 30,
      "metadata": {
        "id": "jZhyDSdwwxz_"
      },
      "outputs": [],
      "source": [
        "#ctree_cart_pipeline.fit(X_train, y_train)\n",
        "#preds = ctree_cart_pipeline.predict_proba(X_test)[:, 1]\n",
        "#metrics = get_imbalaced_metrics(y_test, preds)\n",
        "#metrics"
      ]
    },
    {
      "cell_type": "code",
      "execution_count": 28,
      "metadata": {
        "id": "S2R92JfnxAUe"
      },
      "outputs": [],
      "source": [
        "config_rfa = dict(\n",
        "    n_estimators=100,        # número de árboles\n",
        "    max_depth=None,          # podés limitar profundidad si querés\n",
        "    min_samples_split=2,     # como en los otros modelos\n",
        "    min_samples_leaf=1,\n",
        "    random_state=42,         # para reproducibilidad\n",
        "    n_jobs=-1                # usa todos los núcleos disponibles\n",
        ")\n"
      ]
    },
    {
      "cell_type": "code",
      "execution_count": 29,
      "metadata": {
        "id": "KljEnkt0xyl7"
      },
      "outputs": [],
      "source": [
        "rfa_pipeline = Pipeline([\n",
        "    ('preprocesamiento', pre_full_pipeline),  # mismo preprocesamiento con imputador por grupo\n",
        "    ('classificador', RandomForestClassifier(**config_rfa))\n",
        "])\n"
      ]
    },
    {
      "cell_type": "code",
      "source": [
        "start = time()\n",
        "rfa_pipeline.fit(X_train, y_train)\n",
        "end = time()\n",
        "\n",
        "print(\"Tiempo entrenamiento Random Forest:\", str(timedelta(seconds=end-start)))\n",
        "\n",
        "rfa_val_preds = rfa_pipeline.predict_proba(X_test)[:, 1]\n",
        "rfa_metrics = get_imbalaced_metrics(y_test, rfa_val_preds)\n",
        "rfa_metrics"
      ],
      "metadata": {
        "colab": {
          "base_uri": "https://localhost:8080/"
        },
        "id": "Y5Z34PtTxptB",
        "outputId": "e4488fc0-3d1d-4de0-fad7-7ef0dc604727"
      },
      "execution_count": 30,
      "outputs": [
        {
          "output_type": "stream",
          "name": "stdout",
          "text": [
            "Tiempo entrenamiento Random Forest: 0:00:13.221150\n"
          ]
        },
        {
          "output_type": "execute_result",
          "data": {
            "text/plain": [
              "{'roc_auc': np.float64(0.9092582627658671),\n",
              " 'average_precision': np.float64(0.6771070403229013),\n",
              " 'max_f1': 0.65,\n",
              " 'accuracy_on_max_f1': 0.9292929292929293,\n",
              " 'baseline': np.float64(0.8872053872053872)}"
            ]
          },
          "metadata": {},
          "execution_count": 30
        }
      ]
    },
    {
      "cell_type": "code",
      "source": [
        "#metrics = dict(\n",
        "#    knn=knn_model,\n",
        "#    ctree_cart=ctree_cart_metrics,\n",
        "#    ctree_id3=ctree_id3_metrics,\n",
        "#    rfa=rfa_metrics\n",
        "#)\n",
        "#metrics"
      ],
      "metadata": {
        "id": "h9XnqYpsyJ10"
      },
      "execution_count": 35,
      "outputs": []
    },
    {
      "cell_type": "code",
      "execution_count": null,
      "metadata": {
        "colab": {
          "base_uri": "https://localhost:8080/"
        },
        "id": "5XuXErREyFWc",
        "outputId": "1ae80a8a-2a4b-4577-ed1b-1956f7bf383a"
      },
      "outputs": [
        {
          "data": {
            "text/plain": [
              "{'knn': KNeighborsClassifier(),\n",
              " 'ctree_cart': {'roc_auc': np.float64(0.7065479056331248),\n",
              "  'average_precision': np.float64(0.2904919845218353),\n",
              "  'max_f1': 0.48120300751879697,\n",
              "  'accuracy_on_max_f1': 0.8838383838383839,\n",
              "  'baseline': np.float64(0.8872053872053872)},\n",
              " 'ctree_id3': {'roc_auc': np.float64(0.7081905463196353),\n",
              "  'average_precision': np.float64(0.2659669134004773),\n",
              "  'max_f1': 0.4563758389261745,\n",
              "  'accuracy_on_max_f1': 0.8636363636363636,\n",
              "  'baseline': np.float64(0.8872053872053872)},\n",
              " 'rfa': {'roc_auc': np.float64(0.9092582627658671),\n",
              "  'average_precision': np.float64(0.6771070403229013),\n",
              "  'max_f1': 0.65,\n",
              "  'accuracy_on_max_f1': 0.9292929292929293,\n",
              "  'baseline': np.float64(0.8872053872053872)}}"
            ]
          },
          "execution_count": 70,
          "metadata": {},
          "output_type": "execute_result"
        }
      ],
      "source": [
        "metrics = dict(\n",
        "    knn=knn_model,\n",
        "    ctree_cart=ctree_cart_metrics,\n",
        "    ctree_id3=ctree_id3_metrics,\n",
        "    rfa=rfa_metrics\n",
        ")\n",
        "metrics"
      ]
    },
    {
      "cell_type": "code",
      "execution_count": 32,
      "metadata": {
        "id": "KmmACmkgx-gh"
      },
      "outputs": [],
      "source": [
        "###Regresion logistica\n",
        "\n",
        "rl_pipeline = Pipeline([\n",
        "    ('preprocesamiento', pre_full_pipeline),  # 👈 usa el nuevo con imputación por grupo\n",
        "    ('classificador', LogisticRegression())\n",
        "])\n"
      ]
    },
    {
      "cell_type": "code",
      "execution_count": 33,
      "metadata": {
        "colab": {
          "base_uri": "https://localhost:8080/"
        },
        "id": "jORPRI8azpWg",
        "outputId": "a40e2ef0-7c9a-401e-fe68-283eba70462a"
      },
      "outputs": [
        {
          "output_type": "stream",
          "name": "stderr",
          "text": [
            "/usr/local/lib/python3.11/dist-packages/sklearn/linear_model/_logistic.py:465: ConvergenceWarning: lbfgs failed to converge (status=1):\n",
            "STOP: TOTAL NO. OF ITERATIONS REACHED LIMIT.\n",
            "\n",
            "Increase the number of iterations (max_iter) or scale the data as shown in:\n",
            "    https://scikit-learn.org/stable/modules/preprocessing.html\n",
            "Please also refer to the documentation for alternative solver options:\n",
            "    https://scikit-learn.org/stable/modules/linear_model.html#logistic-regression\n",
            "  n_iter_i = _check_optimize_result(\n"
          ]
        },
        {
          "output_type": "stream",
          "name": "stdout",
          "text": [
            "Tiempo Entrenamiento Regresión Logistica: 0:00:04.758086\n"
          ]
        }
      ],
      "source": [
        "start = time()\n",
        "rl_pipeline.fit(X_train, y_train)\n",
        "end = time()\n",
        "\n",
        "print('Tiempo Entrenamiento Regresión Logistica:', str(timedelta(seconds=end-start)))\n",
        "\n",
        "rl_val_preds = rl_pipeline.predict_proba(X_test)[:, 1]\n",
        "rl_metrics = get_imbalaced_metrics(y_test, rl_val_preds)\n"
      ]
    },
    {
      "cell_type": "code",
      "source": [
        "rl_val_preds = rl_pipeline.predict_proba(X_test)[:, 1]\n",
        "rl_metrics = get_imbalaced_metrics(y_test, rl_val_preds)\n",
        "rl_metrics"
      ],
      "metadata": {
        "colab": {
          "base_uri": "https://localhost:8080/"
        },
        "id": "bduiisLoybEa",
        "outputId": "bd3c2a2c-0f31-4c9e-8ab9-fbbd08ec6978"
      },
      "execution_count": 34,
      "outputs": [
        {
          "output_type": "execute_result",
          "data": {
            "text/plain": [
              "{'roc_auc': np.float64(0.8803138010139058),\n",
              " 'average_precision': np.float64(0.6791936311469364),\n",
              " 'max_f1': 0.6133333333333333,\n",
              " 'accuracy_on_max_f1': 0.9023569023569024,\n",
              " 'baseline': np.float64(0.8872053872053872)}"
            ]
          },
          "metadata": {},
          "execution_count": 34
        }
      ]
    },
    {
      "cell_type": "code",
      "execution_count": 36,
      "metadata": {
        "colab": {
          "base_uri": "https://localhost:8080/"
        },
        "id": "-rTtOuW50Grr",
        "outputId": "9bee9cdf-784b-4ece-aab4-50a0ba3b15f2"
      },
      "outputs": [
        {
          "output_type": "stream",
          "name": "stdout",
          "text": [
            "Tiempo Entrenamiento Knn: 0:00:05.782786\n"
          ]
        }
      ],
      "source": [
        "knn_pipeline = Pipeline([\n",
        "    ('preprocesamiento', pre_full_pipeline),\n",
        "    ('classificador', KNeighborsClassifier(n_neighbors=11))\n",
        "])\n",
        "\n",
        "start = time()\n",
        "knn_pipeline.fit(X_train, y_train)\n",
        "end = time()\n",
        "\n",
        "print(\n",
        "    'Tiempo Entrenamiento Knn:',\n",
        "    str(timedelta(seconds=end-start))\n",
        ")"
      ]
    },
    {
      "cell_type": "code",
      "source": [
        "knn_val_preds = knn_pipeline.predict_proba(X_test)[:, 1]\n",
        "knn_metrics = get_imbalaced_metrics(y_test, knn_val_preds)\n",
        "knn_metrics"
      ],
      "metadata": {
        "colab": {
          "base_uri": "https://localhost:8080/"
        },
        "id": "pK7Xh2R-ywal",
        "outputId": "f77ae9e1-75be-4429-963a-a62806b13c86"
      },
      "execution_count": 37,
      "outputs": [
        {
          "output_type": "execute_result",
          "data": {
            "text/plain": [
              "{'roc_auc': np.float64(0.8998555609051517),\n",
              " 'average_precision': np.float64(0.6515027211722739),\n",
              " 'max_f1': 0.5925925925925926,\n",
              " 'accuracy_on_max_f1': 0.9074074074074074,\n",
              " 'baseline': np.float64(0.8872053872053872)}"
            ]
          },
          "metadata": {},
          "execution_count": 37
        }
      ]
    },
    {
      "cell_type": "code",
      "execution_count": 39,
      "metadata": {
        "id": "iWNcVtjT6wVr"
      },
      "outputs": [],
      "source": [
        "class ToDenseTransformer(BaseEstimator, TransformerMixin):\n",
        "    def fit(self, X, y=None):\n",
        "        return self\n",
        "    def transform(self, X):\n",
        "        return X.toarray() if hasattr(X, \"toarray\") else X\n"
      ]
    },
    {
      "cell_type": "code",
      "execution_count": 40,
      "metadata": {
        "id": "OUE8iVMB6ym1"
      },
      "outputs": [],
      "source": [
        "nb_pipeline = Pipeline([\n",
        "    ('preprocesamiento', pre_full_pipeline),\n",
        "    ('to_dense', ToDenseTransformer()),  # 👈 fuerza conversión a dense\n",
        "    ('classificador', GaussianNB())\n",
        "])\n"
      ]
    },
    {
      "cell_type": "code",
      "execution_count": 41,
      "metadata": {
        "colab": {
          "base_uri": "https://localhost:8080/"
        },
        "id": "gmqUZrr_60ya",
        "outputId": "e92c4ff2-cfaf-453b-ba3e-7200f1ee83d5"
      },
      "outputs": [
        {
          "output_type": "stream",
          "name": "stdout",
          "text": [
            "Tiempo Entrenamiento nb: 0:00:04.577271\n"
          ]
        }
      ],
      "source": [
        "start = time()\n",
        "nb_pipeline.fit(X_train, y_train)\n",
        "end = time()\n",
        "\n",
        "print('Tiempo Entrenamiento nb:', str(timedelta(seconds=end-start)))\n"
      ]
    },
    {
      "cell_type": "code",
      "source": [
        "nb_val_preds = nb_pipeline.predict_proba(X_test)[:, 1]\n",
        "nb_metrics = get_imbalaced_metrics(y_test, nb_val_preds)\n",
        "nb_metrics"
      ],
      "metadata": {
        "colab": {
          "base_uri": "https://localhost:8080/"
        },
        "id": "G3j5lkyCy6yD",
        "outputId": "5e62844f-6e9e-4e55-dc75-074ca9bf14dc"
      },
      "execution_count": 42,
      "outputs": [
        {
          "output_type": "execute_result",
          "data": {
            "text/plain": [
              "{'roc_auc': np.float64(0.8725395791441276),\n",
              " 'average_precision': np.float64(0.6014928407328399),\n",
              " 'max_f1': 0.5932203389830508,\n",
              " 'accuracy_on_max_f1': 0.9191919191919192,\n",
              " 'baseline': np.float64(0.8872053872053872)}"
            ]
          },
          "metadata": {},
          "execution_count": 42
        }
      ]
    },
    {
      "cell_type": "code",
      "execution_count": 47,
      "metadata": {
        "id": "OwhCoqwl7Eol"
      },
      "outputs": [],
      "source": [
        "metrics = dict(\n",
        "    #knn=knn_metrics,\n",
        "    rl=rl_metrics,\n",
        "    nb=nb_metrics,\n",
        "    #ctree_cart=ctree_cart_metrics,\n",
        "    #ctree_id3=ctree_id3_metrics,\n",
        ")\n",
        "\n",
        "df_metrics = pd.DataFrame.from_dict(metrics, orient='index')"
      ]
    },
    {
      "cell_type": "code",
      "execution_count": 48,
      "metadata": {
        "colab": {
          "base_uri": "https://localhost:8080/",
          "height": 803
        },
        "id": "c8z-D3uT7H1n",
        "outputId": "b145e7ac-2dbf-4d49-9cf7-3ff2f8ea25ff"
      },
      "outputs": [
        {
          "output_type": "display_data",
          "data": {
            "text/plain": [
              "<Figure size 1600x900 with 10 Axes>"
            ],
            "image/png": "[encoded data removed]"
          },
          "metadata": {}
        }
      ],
      "source": [
        "plt.rc('font', size=14)\n",
        "plt.rc('xtick', labelsize=14)\n",
        "\n",
        "fig, axs = plt.subplots(1, 5 , figsize=(16, 9), sharey=True)\n",
        "\n",
        "for i, ax in enumerate(axs):\n",
        "    sns.heatmap(\n",
        "        df_metrics.iloc[:, [i]],\n",
        "        ax=ax,\n",
        "        vmin=df_metrics.iloc[:, [i]].min()*0.8,\n",
        "        vmax=df_metrics.iloc[:, [i]].max(),\n",
        "        annot=True,\n",
        "        cmap='viridis'\n",
        "    )\n",
        "\n",
        "fig.tight_layout()"
      ]
    },
    {
      "cell_type": "code",
      "source": [
        "ths = np.linspace(0, 1, 1000)\n",
        "best_th = ths[np.argmax([skm.f1_score(y_test, rl_val_preds>th) for th in ths])]\n",
        "best_th"
      ],
      "metadata": {
        "colab": {
          "base_uri": "https://localhost:8080/"
        },
        "id": "anC5uSF3zSvn",
        "outputId": "99572803-cb71-40be-f215-b307bbdf6986"
      },
      "execution_count": 49,
      "outputs": [
        {
          "output_type": "execute_result",
          "data": {
            "text/plain": [
              "np.float64(0.19519519519519518)"
            ]
          },
          "metadata": {},
          "execution_count": 49
        }
      ]
    },
    {
      "cell_type": "code",
      "execution_count": 50,
      "metadata": {
        "id": "O3hZyiWF7eIF"
      },
      "outputs": [],
      "source": [
        "with open(\"rl_pipeline.pkl\", \"wb\") as f:\n",
        "    pickle.dump(rl_pipeline, f)"
      ]
    },
    {
      "cell_type": "code",
      "execution_count": 51,
      "metadata": {
        "colab": {
          "base_uri": "https://localhost:8080/"
        },
        "id": "knBrcqsu7gRv",
        "outputId": "4a8f6eae-22f6-4360-9651-52176177d1ed"
      },
      "outputs": [
        {
          "output_type": "stream",
          "name": "stdout",
          "text": [
            "Tiempo Entrenamiento Regresión Logistica con todos los datos: 0:00:07.136104\n"
          ]
        }
      ],
      "source": [
        "start = time()\n",
        "rl_pipeline.fit(X, y)\n",
        "end = time()\n",
        "\n",
        "print(\n",
        "    'Tiempo Entrenamiento Regresión Logistica con todos los datos:',\n",
        "    str(timedelta(seconds=end-start))\n",
        ")"
      ]
    },
    {
      "cell_type": "code",
      "execution_count": 52,
      "metadata": {
        "id": "BPQ18Gdm7muo"
      },
      "outputs": [],
      "source": [
        "with open(\"rl_pipeline.pkl\", \"wb\") as f:\n",
        "    pickle.dump(rl_pipeline, f)"
      ]
    },
    {
      "cell_type": "code",
      "execution_count": 53,
      "metadata": {
        "colab": {
          "base_uri": "https://localhost:8080/",
          "height": 73
        },
        "id": "LQTbANUE7rFT",
        "outputId": "b0e8badc-9052-4825-d44f-a0a7daaea50c"
      },
      "outputs": [
        {
          "output_type": "display_data",
          "data": {
            "text/plain": [
              "<IPython.core.display.HTML object>"
            ],
            "text/html": [
              "\n",
              "     <input type=\"file\" id=\"files-357a574f-75a3-42d5-9c8b-65a50a1e89bf\" name=\"files[]\" multiple disabled\n",
              "        style=\"border:none\" />\n",
              "     <output id=\"result-357a574f-75a3-42d5-9c8b-65a50a1e89bf\">\n",
              "      Upload widget is only available when the cell has been executed in the\n",
              "      current browser session. Please rerun this cell to enable.\n",
              "      </output>\n",
              "      <script>// Copyright 2017 Google LLC\n",
              "//\n",
              "// Licensed under the Apache License, Version 2.0 (the \"License\");\n",
              "// you may not use this file except in compliance with the License.\n",
              "// You may obtain a copy of the License at\n",
              "//\n",
              "//      http://www.apache.org/licenses/LICENSE-2.0\n",
              "//\n",
              "// Unless required by applicable law or agreed to in writing, software\n",
              "// distributed under the License is distributed on an \"AS IS\" BASIS,\n",
              "// WITHOUT WARRANTIES OR CONDITIONS OF ANY KIND, either express or implied.\n",
              "// See the License for the specific language governing permissions and\n",
              "// limitations under the License.\n",
              "\n",
              "/**\n",
              " * @fileoverview Helpers for google.colab Python module.\n",
              " */\n",
              "(function(scope) {\n",
              "function span(text, styleAttributes = {}) {\n",
              "  const element = document.createElement('span');\n",
              "  element.textContent = text;\n",
              "  for (const key of Object.keys(styleAttributes)) {\n",
              "    element.style[key] = styleAttributes[key];\n",
              "  }\n",
              "  return element;\n",
              "}\n",
              "\n",
              "// Max number of bytes which will be uploaded at a time.\n",
              "const MAX_PAYLOAD_SIZE = 100 * 1024;\n",
              "\n",
              "function _uploadFiles(inputId, outputId) {\n",
              "  const steps = uploadFilesStep(inputId, outputId);\n",
              "  const outputElement = document.getElementById(outputId);\n",
              "  // Cache steps on the outputElement to make it available for the next call\n",
              "  // to uploadFilesContinue from Python.\n",
              "  outputElement.steps = steps;\n",
              "\n",
              "  return _uploadFilesContinue(outputId);\n",
              "}\n",
              "\n",
              "// This is roughly an async generator (not supported in the browser yet),\n",
              "// where there are multiple asynchronous steps and the Python side is going\n",
              "// to poll for completion of each step.\n",
              "// This uses a Promise to block the python side on completion of each step,\n",
              "// then passes the result of the previous step as the input to the next step.\n",
              "function _uploadFilesContinue(outputId) {\n",
              "  const outputElement = document.getElementById(outputId);\n",
              "  const steps = outputElement.steps;\n",
              "\n",
              "  const next = steps.next(outputElement.lastPromiseValue);\n",
              "  return Promise.resolve(next.value.promise).then((value) => {\n",
              "    // Cache the last promise value to make it available to the next\n",
              "    // step of the generator.\n",
              "    outputElement.lastPromiseValue = value;\n",
              "    return next.value.response;\n",
              "  });\n",
              "}\n",
              "\n",
              "/**\n",
              " * Generator function which is called between each async step of the upload\n",
              " * process.\n",
              " * @param {string} inputId Element ID of the input file picker element.\n",
              " * @param {string} outputId Element ID of the output display.\n",
              " * @return {!Iterable<!Object>} Iterable of next steps.\n",
              " */\n",
              "function* uploadFilesStep(inputId, outputId) {\n",
              "  const inputElement = document.getElementById(inputId);\n",
              "  inputElement.disabled = false;\n",
              "\n",
              "  const outputElement = document.getElementById(outputId);\n",
              "  outputElement.innerHTML = '';\n",
              "\n",
              "  const pickedPromise = new Promise((resolve) => {\n",
              "    inputElement.addEventListener('change', (e) => {\n",
              "      resolve(e.target.files);\n",
              "    });\n",
              "  });\n",
              "\n",
              "  const cancel = document.createElement('button');\n",
              "  inputElement.parentElement.appendChild(cancel);\n",
              "  cancel.textContent = 'Cancel upload';\n",
              "  const cancelPromise = new Promise((resolve) => {\n",
              "    cancel.onclick = () => {\n",
              "      resolve(null);\n",
              "    };\n",
              "  });\n",
              "\n",
              "  // Wait for the user to pick the files.\n",
              "  const files = yield {\n",
              "    promise: Promise.race([pickedPromise, cancelPromise]),\n",
              "    response: {\n",
              "      action: 'starting',\n",
              "    }\n",
              "  };\n",
              "\n",
              "  cancel.remove();\n",
              "\n",
              "  // Disable the input element since further picks are not allowed.\n",
              "  inputElement.disabled = true;\n",
              "\n",
              "  if (!files) {\n",
              "    return {\n",
              "      response: {\n",
              "        action: 'complete',\n",
              "      }\n",
              "    };\n",
              "  }\n",
              "\n",
              "  for (const file of files) {\n",
              "    const li = document.createElement('li');\n",
              "    li.append(span(file.name, {fontWeight: 'bold'}));\n",
              "    li.append(span(\n",
              "        `(${file.type || 'n/a'}) - ${file.size} bytes, ` +\n",
              "        `last modified: ${\n",
              "            file.lastModifiedDate ? file.lastModifiedDate.toLocaleDateString() :\n",
              "                                    'n/a'} - `));\n",
              "    const percent = span('0% done');\n",
              "    li.appendChild(percent);\n",
              "\n",
              "    outputElement.appendChild(li);\n",
              "\n",
              "    const fileDataPromise = new Promise((resolve) => {\n",
              "      const reader = new FileReader();\n",
              "      reader.onload = (e) => {\n",
              "        resolve(e.target.result);\n",
              "      };\n",
              "      reader.readAsArrayBuffer(file);\n",
              "    });\n",
              "    // Wait for the data to be ready.\n",
              "    let fileData = yield {\n",
              "      promise: fileDataPromise,\n",
              "      response: {\n",
              "        action: 'continue',\n",
              "      }\n",
              "    };\n",
              "\n",
              "    // Use a chunked sending to avoid message size limits. See b/62115660.\n",
              "    let position = 0;\n",
              "    do {\n",
              "      const length = Math.min(fileData.byteLength - position, MAX_PAYLOAD_SIZE);\n",
              "      const chunk = new Uint8Array(fileData, position, length);\n",
              "      position += length;\n",
              "\n",
              "      const base64 = btoa(String.fromCharCode.apply(null, chunk));\n",
              "      yield {\n",
              "        response: {\n",
              "          action: 'append',\n",
              "          file: file.name,\n",
              "          data: base64,\n",
              "        },\n",
              "      };\n",
              "\n",
              "      let percentDone = fileData.byteLength === 0 ?\n",
              "          100 :\n",
              "          Math.round((position / fileData.byteLength) * 100);\n",
              "      percent.textContent = `${percentDone}% done`;\n",
              "\n",
              "    } while (position < fileData.byteLength);\n",
              "  }\n",
              "\n",
              "  // All done.\n",
              "  yield {\n",
              "    response: {\n",
              "      action: 'complete',\n",
              "    }\n",
              "  };\n",
              "}\n",
              "\n",
              "scope.google = scope.google || {};\n",
              "scope.google.colab = scope.google.colab || {};\n",
              "scope.google.colab._files = {\n",
              "  _uploadFiles,\n",
              "  _uploadFilesContinue,\n",
              "};\n",
              "})(self);\n",
              "</script> "
            ]
          },
          "metadata": {}
        },
        {
          "output_type": "stream",
          "name": "stdout",
          "text": [
            "Saving df_test.parquet to df_test.parquet\n"
          ]
        }
      ],
      "source": [
        "from google.colab import files\n",
        "uploaded = files.upload()\n",
        "\n",
        "test_df = pd.read_parquet(\"df_test.parquet\")\n",
        "test_df['EDAD_COMPLICACION'] = (test_df['Fecha_cero'] - test_df['FECHA_NACIMIENTO']).dt.days // 365\n",
        "\n",
        "test_df[columnas_numerico] = X[columnas_numerico].astype(float)\n",
        "test_df[columnas_categ] = X[columnas_categ].astype(str)\n",
        "\n",
        "submission_pred = rl_pipeline.predict_proba(test_df)[:, 1]\n",
        "submission_pred_bool = submission_pred>best_th\n",
        "submission_pred_int = [int(item) for item in submission_pred_bool]\n",
        "submission = pd.DataFrame(data=dict(ID=test_df.index, Target=submission_pred_int))\n",
        "submission.to_csv(\"submission_RL.csv\", index=False)"
      ]
    },
    {
      "cell_type": "code",
      "execution_count": 54,
      "metadata": {
        "colab": {
          "base_uri": "https://localhost:8080/",
          "height": 17
        },
        "id": "0l7_NyvN8HV7",
        "outputId": "1b4181de-51cc-4633-e0dd-6ebb3ae2f38c"
      },
      "outputs": [
        {
          "output_type": "display_data",
          "data": {
            "text/plain": [
              "<IPython.core.display.Javascript object>"
            ],
            "application/javascript": [
              "\n",
              "    async function download(id, filename, size) {\n",
              "      if (!google.colab.kernel.accessAllowed) {\n",
              "        return;\n",
              "      }\n",
              "      const div = document.createElement('div');\n",
              "      const label = document.createElement('label');\n",
              "      label.textContent = `Downloading \"${filename}\": `;\n",
              "      div.appendChild(label);\n",
              "      const progress = document.createElement('progress');\n",
              "      progress.max = size;\n",
              "      div.appendChild(progress);\n",
              "      document.body.appendChild(div);\n",
              "\n",
              "      const buffers = [];\n",
              "      let downloaded = 0;\n",
              "\n",
              "      const channel = await google.colab.kernel.comms.open(id);\n",
              "      // Send a message to notify the kernel that we're ready.\n",
              "      channel.send({})\n",
              "\n",
              "      for await (const message of channel.messages) {\n",
              "        // Send a message to notify the kernel that we're ready.\n",
              "        channel.send({})\n",
              "        if (message.buffers) {\n",
              "          for (const buffer of message.buffers) {\n",
              "            buffers.push(buffer);\n",
              "            downloaded += buffer.byteLength;\n",
              "            progress.value = downloaded;\n",
              "          }\n",
              "        }\n",
              "      }\n",
              "      const blob = new Blob(buffers, {type: 'application/binary'});\n",
              "      const a = document.createElement('a');\n",
              "      a.href = window.URL.createObjectURL(blob);\n",
              "      a.download = filename;\n",
              "      div.appendChild(a);\n",
              "      a.click();\n",
              "      div.remove();\n",
              "    }\n",
              "  "
            ]
          },
          "metadata": {}
        },
        {
          "output_type": "display_data",
          "data": {
            "text/plain": [
              "<IPython.core.display.Javascript object>"
            ],
            "application/javascript": [
              "download(\"download_219661cd-40bb-41f8-af77-ba2f0510d186\", \"submission_RL.csv\", 11660)"
            ]
          },
          "metadata": {}
        }
      ],
      "source": [
        "from google.colab import files\n",
        "files.download(\"submission_RL.csv\")"
      ]
    },
    {
      "cell_type": "markdown",
      "source": [
        "llegue hasta aquí y lo demás no se corre"
      ],
      "metadata": {
        "id": "TGGRkSzxz0nu"
      }
    },
    {
      "cell_type": "markdown",
      "metadata": {
        "id": "tpByP7t9oMfm"
      },
      "source": [
        "### ID3"
      ]
    },
    {
      "cell_type": "code",
      "execution_count": null,
      "metadata": {
        "colab": {
          "base_uri": "https://localhost:8080/"
        },
        "execution": {
          "iopub.execute_input": "2025-03-20T03:00:20.219683Z",
          "iopub.status.busy": "2025-03-20T03:00:20.219352Z",
          "iopub.status.idle": "2025-03-20T03:00:20.352828Z",
          "shell.execute_reply": "2025-03-20T03:00:20.351883Z",
          "shell.execute_reply.started": "2025-03-20T03:00:20.219656Z"
        },
        "id": "47gk9je2oMfm",
        "outputId": "055a1672-203e-4e91-8637-ec152ca079c4",
        "trusted": true
      },
      "outputs": [
        {
          "name": "stdout",
          "output_type": "stream",
          "text": [
            "Tiempo Entrenamiento ctree_id3: 0:00:00.204025\n"
          ]
        }
      ],
      "source": [
        "config_ctree = dict(criterion='entropy', # el criterio de particionamiento de un conjunto de datos (gini, entropy)\n",
        "        #    max_depth=None,      # prepoda: controla la profundidad del árbol (largo máximo de las ramas)\n",
        "        #    min_samples_split=2, # prepoda: el mínimo número de registros necesarios para crear una nueva rama\n",
        "        #    min_samples_leaf=1,  # prepoda: el mínimo número de registros en una hoja\n",
        "        #    random_state=None,   # semilla del generador aleatorio utilizado para\n",
        "        #    max_leaf_nodes=None, # prepoda: máximo número de nodos hojas\n",
        "        #    min_impurity_decrease=0.0 # prepoda: umbral mínimo de reducción de la impureza para aceptar la creación de una rama\n",
        ")\n",
        "\n",
        "ctree_id3_pipeline = Pipeline([\n",
        "    ('preprocesamiento', tree_preprocessing),\n",
        "    ('classificador', tree.DecisionTreeClassifier(**config_ctree\n",
        "            ))\n",
        "])\n",
        "\n",
        "start = time()\n",
        "ctree_id3_pipeline.fit(X_train, y_train)\n",
        "end = time()\n",
        "\n",
        "print(\n",
        "    'Tiempo Entrenamiento ctree_id3:',\n",
        "    str(timedelta(seconds=end-start))\n",
        ")"
      ]
    },
    {
      "cell_type": "code",
      "execution_count": null,
      "metadata": {
        "colab": {
          "base_uri": "https://localhost:8080/"
        },
        "execution": {
          "iopub.execute_input": "2025-03-20T03:00:20.877877Z",
          "iopub.status.busy": "2025-03-20T03:00:20.877564Z",
          "iopub.status.idle": "2025-03-20T03:00:22.674270Z",
          "shell.execute_reply": "2025-03-20T03:00:22.673395Z",
          "shell.execute_reply.started": "2025-03-20T03:00:20.877853Z"
        },
        "id": "Drsm5x2foMfm",
        "outputId": "8a70a9b5-4812-4013-9a04-3ff46e2e8e0f",
        "trusted": true
      },
      "outputs": [
        {
          "data": {
            "text/plain": [
              "{'roc_auc': np.float64(0.7081905463196353),\n",
              " 'average_precision': np.float64(0.2659669134004773),\n",
              " 'max_f1': 0.4563758389261745,\n",
              " 'accuracy_on_max_f1': 0.8636363636363636,\n",
              " 'baseline': np.float64(0.8872053872053872)}"
            ]
          },
          "execution_count": 55,
          "metadata": {},
          "output_type": "execute_result"
        }
      ],
      "source": [
        "ctree_id3_val_preds = ctree_id3_pipeline.predict_proba(X_test)[:, 1]\n",
        "ctree_id3_metrics = get_imbalaced_metrics(y_test, ctree_id3_val_preds)\n",
        "ctree_id3_metrics"
      ]
    },
    {
      "cell_type": "markdown",
      "metadata": {
        "id": "WR47NU0poMfm"
      },
      "source": [
        "### CART"
      ]
    },
    {
      "cell_type": "code",
      "execution_count": null,
      "metadata": {
        "colab": {
          "base_uri": "https://localhost:8080/"
        },
        "execution": {
          "iopub.execute_input": "2025-03-20T03:00:25.761970Z",
          "iopub.status.busy": "2025-03-20T03:00:25.761648Z",
          "iopub.status.idle": "2025-03-20T03:00:25.913521Z",
          "shell.execute_reply": "2025-03-20T03:00:25.912555Z",
          "shell.execute_reply.started": "2025-03-20T03:00:25.761944Z"
        },
        "id": "Nz2j__5QoMfm",
        "outputId": "8a9af315-0d8e-40d4-cc27-dd2a839d980c",
        "trusted": true
      },
      "outputs": [
        {
          "name": "stdout",
          "output_type": "stream",
          "text": [
            "Tiempo Entrenamiento ctree_cart: 0:00:00.161308\n"
          ]
        }
      ],
      "source": [
        "config_ctree_cart = dict(criterion='gini', # el criterio de particionamiento de un conjunto de datos (gini, entropy)\n",
        "        #    max_depth=None,      # prepoda: controla la profundidad del árbol (largo máximo de las ramas)\n",
        "        #    min_samples_split=2, # prepoda: el mínimo número de registros necesarios para crear una nueva rama\n",
        "        #    min_samples_leaf=1,  # prepoda: el mínimo número de registros en una hoja\n",
        "        #    random_state=None,   # semilla del generador aleatorio utilizado para\n",
        "        #    max_leaf_nodes=None, # prepoda: máximo número de nodos hojas\n",
        "        #    min_impurity_decrease=0.0 # prepoda: umbral mínimo de reducción de la impureza para aceptar la creación de una rama\n",
        ")\n",
        "\n",
        "ctree_cart_pipeline = Pipeline([\n",
        "    ('preprocesamiento', tree_preprocessing),\n",
        "    ('classificador', tree.DecisionTreeClassifier(**config_ctree_cart\n",
        "            ))\n",
        "])\n",
        "\n",
        "start = time()\n",
        "ctree_cart_pipeline.fit(X_train, y_train)\n",
        "end = time()\n",
        "\n",
        "print(\n",
        "    'Tiempo Entrenamiento ctree_cart:',\n",
        "    str(timedelta(seconds=end-start))\n",
        ")"
      ]
    },
    {
      "cell_type": "code",
      "execution_count": null,
      "metadata": {
        "colab": {
          "base_uri": "https://localhost:8080/"
        },
        "execution": {
          "iopub.execute_input": "2025-03-20T03:00:26.840954Z",
          "iopub.status.busy": "2025-03-20T03:00:26.840632Z",
          "iopub.status.idle": "2025-03-20T03:00:28.646142Z",
          "shell.execute_reply": "2025-03-20T03:00:28.645160Z",
          "shell.execute_reply.started": "2025-03-20T03:00:26.840929Z"
        },
        "id": "1UnfIa0FoMfn",
        "outputId": "a1846e8d-5e2b-4a13-e82e-a52f3ffb7455",
        "trusted": true
      },
      "outputs": [
        {
          "data": {
            "text/plain": [
              "{'roc_auc': np.float64(0.7065479056331248),\n",
              " 'average_precision': np.float64(0.2904919845218353),\n",
              " 'max_f1': 0.48120300751879697,\n",
              " 'accuracy_on_max_f1': 0.8838383838383839,\n",
              " 'baseline': np.float64(0.8872053872053872)}"
            ]
          },
          "execution_count": 29,
          "metadata": {},
          "output_type": "execute_result"
        }
      ],
      "source": [
        "ctree_cart_val_preds = ctree_cart_pipeline.predict_proba(X_test)[:, 1]\n",
        "ctree_cart_metrics = get_imbalaced_metrics(y_test, ctree_cart_val_preds)\n",
        "ctree_cart_metrics"
      ]
    },
    {
      "cell_type": "markdown",
      "metadata": {
        "id": "ApzNPfkloMfn"
      },
      "source": [
        "Probá cambiando los hiperparametros!\n",
        "\n",
        "https://scikit-learn.org/stable/modules/tree.html"
      ]
    },
    {
      "cell_type": "markdown",
      "metadata": {
        "id": "DORfkYoHoMfn"
      },
      "source": [
        "### Incluir CHAID"
      ]
    },
    {
      "cell_type": "markdown",
      "metadata": {
        "id": "zimLb8XIoMfn"
      },
      "source": [
        "## Ejecutemos los que ya vimos"
      ]
    },
    {
      "cell_type": "code",
      "execution_count": null,
      "metadata": {
        "execution": {
          "iopub.execute_input": "2025-03-20T03:01:19.283109Z",
          "iopub.status.busy": "2025-03-20T03:01:19.282722Z",
          "iopub.status.idle": "2025-03-20T03:01:19.289033Z",
          "shell.execute_reply": "2025-03-20T03:01:19.287792Z",
          "shell.execute_reply.started": "2025-03-20T03:01:19.283068Z"
        },
        "id": "wlOr-6oWoMfn",
        "trusted": true
      },
      "outputs": [],
      "source": [
        "numeric_transformer = Pipeline(\n",
        "    steps=[(\"imputer\",  SimpleImputer(strategy='mean')),\n",
        "           (\"scaler\", StandardScaler()),\n",
        "           (\"select_var\", VarianceThreshold(0.1))\n",
        "           ]\n",
        ")\n",
        "\n",
        "categorical_transformer = Pipeline([\n",
        "    ('imputer', SimpleImputer(strategy='most_frequent')),\n",
        "    ('dumm', OneHotEncoder(sparse_output=False, **config_onehot)),\n",
        "])\n",
        "\n",
        "\n",
        "\n",
        "preprocessor = ColumnTransformer(\n",
        "    transformers=[\n",
        "        (\"num\", numeric_transformer, numericas),\n",
        "        (\"cat\", categorical_transformer, categoricas),\n",
        "    ]\n",
        ")"
      ]
    },
    {
      "cell_type": "markdown",
      "metadata": {
        "id": "ePLH2BMDoMfo"
      },
      "source": [
        "## Regresión Logistica"
      ]
    },
    {
      "cell_type": "code",
      "execution_count": null,
      "metadata": {
        "colab": {
          "base_uri": "https://localhost:8080/",
          "height": 211
        },
        "execution": {
          "iopub.execute_input": "2025-03-20T03:01:22.602210Z",
          "iopub.status.busy": "2025-03-20T03:01:22.601829Z",
          "iopub.status.idle": "2025-03-20T03:01:22.717559Z",
          "shell.execute_reply": "2025-03-20T03:01:22.716471Z",
          "shell.execute_reply.started": "2025-03-20T03:01:22.602178Z"
        },
        "id": "COgv2M22oMfo",
        "outputId": "defa0e59-ad38-413c-e242-3b6d96db72e7",
        "trusted": true
      },
      "outputs": [
        {
          "ename": "NameError",
          "evalue": "name 'preprocessor' is not defined",
          "output_type": "error",
          "traceback": [
            "\u001b[0;31m---------------------------------------------------------------------------\u001b[0m",
            "\u001b[0;31mNameError\u001b[0m                                 Traceback (most recent call last)",
            "\u001b[0;32m<ipython-input-72-dc576ead5903>\u001b[0m in \u001b[0;36m<cell line: 0>\u001b[0;34m()\u001b[0m\n\u001b[1;32m      1\u001b[0m rl_pipeline = Pipeline([\n\u001b[0;32m----> 2\u001b[0;31m     \u001b[0;34m(\u001b[0m\u001b[0;34m'preprocesamiento'\u001b[0m\u001b[0;34m,\u001b[0m \u001b[0mpreprocessor\u001b[0m\u001b[0;34m)\u001b[0m\u001b[0;34m,\u001b[0m\u001b[0;34m\u001b[0m\u001b[0;34m\u001b[0m\u001b[0m\n\u001b[0m\u001b[1;32m      3\u001b[0m     \u001b[0;34m(\u001b[0m\u001b[0;34m'classificador'\u001b[0m\u001b[0;34m,\u001b[0m \u001b[0mLogisticRegression\u001b[0m\u001b[0;34m(\u001b[0m\u001b[0;34m)\u001b[0m\u001b[0;34m)\u001b[0m\u001b[0;34m\u001b[0m\u001b[0;34m\u001b[0m\u001b[0m\n\u001b[1;32m      4\u001b[0m ])\n\u001b[1;32m      5\u001b[0m \u001b[0;34m\u001b[0m\u001b[0m\n",
            "\u001b[0;31mNameError\u001b[0m: name 'preprocessor' is not defined"
          ]
        }
      ],
      "source": [
        "rl_pipeline = Pipeline([\n",
        "    ('preprocesamiento', preprocessor),\n",
        "    ('classificador', LogisticRegression())\n",
        "])\n",
        "\n",
        "start = time()\n",
        "rl_pipeline.fit(X_train, y_train)\n",
        "end = time()\n",
        "\n",
        "print(\n",
        "    'Tiempo Entrenamiento Regresión Logistica:',\n",
        "    str(timedelta(seconds=end-start))\n",
        ")"
      ]
    },
    {
      "cell_type": "code",
      "execution_count": null,
      "metadata": {
        "colab": {
          "base_uri": "https://localhost:8080/"
        },
        "execution": {
          "iopub.execute_input": "2025-03-20T03:01:24.818254Z",
          "iopub.status.busy": "2025-03-20T03:01:24.817857Z",
          "iopub.status.idle": "2025-03-20T03:01:26.595985Z",
          "shell.execute_reply": "2025-03-20T03:01:26.595063Z",
          "shell.execute_reply.started": "2025-03-20T03:01:24.818218Z"
        },
        "id": "mN23aHOGoMfo",
        "outputId": "b6ce56c1-ffde-4705-e4b1-e709de58b4ea",
        "trusted": true
      },
      "outputs": [
        {
          "data": {
            "text/plain": [
              "{'roc_auc': np.float64(0.8811351213571611),\n",
              " 'average_precision': np.float64(0.6762697771165697),\n",
              " 'max_f1': 0.6153846153846154,\n",
              " 'accuracy_on_max_f1': 0.898989898989899,\n",
              " 'baseline': np.float64(0.8872053872053872)}"
            ]
          },
          "execution_count": 75,
          "metadata": {},
          "output_type": "execute_result"
        }
      ],
      "source": [
        "rl_val_preds = rl_pipeline.predict_proba(X_test)[:, 1]\n",
        "rl_metrics = get_imbalaced_metrics(y_test, rl_val_preds)\n",
        "rl_metrics"
      ]
    },
    {
      "cell_type": "markdown",
      "metadata": {
        "id": "vgfEApfJoMfo"
      },
      "source": [
        "Probá cambiando los hiperparametros!\n",
        "\n",
        "https://scikit-learn.org/0.16/modules/generated/sklearn.linear_model.LogisticRegression.html"
      ]
    },
    {
      "cell_type": "code",
      "execution_count": null,
      "metadata": {
        "id": "gpI_IvForhyg"
      },
      "outputs": [],
      "source": []
    },
    {
      "cell_type": "markdown",
      "metadata": {
        "id": "96joHj0GoMfo"
      },
      "source": [
        "## KNN"
      ]
    },
    {
      "cell_type": "code",
      "execution_count": null,
      "metadata": {
        "colab": {
          "base_uri": "https://localhost:8080/"
        },
        "execution": {
          "iopub.execute_input": "2025-03-20T03:01:27.283833Z",
          "iopub.status.busy": "2025-03-20T03:01:27.283484Z",
          "iopub.status.idle": "2025-03-20T03:01:27.331180Z",
          "shell.execute_reply": "2025-03-20T03:01:27.330138Z",
          "shell.execute_reply.started": "2025-03-20T03:01:27.283800Z"
        },
        "id": "3DDPwMMRoMfp",
        "outputId": "a07331b1-b90e-46b1-9875-88b458db6890",
        "trusted": true
      },
      "outputs": [
        {
          "name": "stdout",
          "output_type": "stream",
          "text": [
            "Tiempo Entrenamiento Knn: 0:00:00.045149\n"
          ]
        }
      ],
      "source": [
        "knn_pipeline = Pipeline([\n",
        "    ('preprocesamiento', preprocessor),\n",
        "    ('classificador', KNeighborsClassifier(n_neighbors=11))\n",
        "])\n",
        "\n",
        "start = time()\n",
        "knn_pipeline.fit(X_train, y_train)\n",
        "end = time()\n",
        "\n",
        "print(\n",
        "    'Tiempo Entrenamiento Knn:',\n",
        "    str(timedelta(seconds=end-start))\n",
        ")"
      ]
    },
    {
      "cell_type": "code",
      "execution_count": null,
      "metadata": {
        "colab": {
          "base_uri": "https://localhost:8080/"
        },
        "execution": {
          "iopub.execute_input": "2025-03-20T03:01:29.006743Z",
          "iopub.status.busy": "2025-03-20T03:01:29.006307Z",
          "iopub.status.idle": "2025-03-20T03:01:30.915942Z",
          "shell.execute_reply": "2025-03-20T03:01:30.914969Z",
          "shell.execute_reply.started": "2025-03-20T03:01:29.006708Z"
        },
        "id": "FAdORYmjoMfp",
        "outputId": "30c200b4-4326-4eed-ec75-c8c5b4d86003",
        "trusted": true
      },
      "outputs": [
        {
          "data": {
            "text/plain": [
              "{'roc_auc': np.float64(0.8276643348721289),\n",
              " 'average_precision': np.float64(0.5782752450122284),\n",
              " 'max_f1': 0.5915492957746479,\n",
              " 'accuracy_on_max_f1': 0.9023569023569024,\n",
              " 'baseline': np.float64(0.8872053872053872)}"
            ]
          },
          "execution_count": 33,
          "metadata": {},
          "output_type": "execute_result"
        }
      ],
      "source": [
        "knn_val_preds = knn_pipeline.predict_proba(X_test)[:, 1]\n",
        "knn_metrics = get_imbalaced_metrics(y_test, knn_val_preds)\n",
        "knn_metrics"
      ]
    },
    {
      "cell_type": "markdown",
      "metadata": {
        "id": "UEvBI5JBoMfp"
      },
      "source": [
        "\n",
        "Probá cambiando los hiperparametros! Si, cambia de vecinos\n",
        "\n",
        "https://scikit-learn.org/stable/modules/generated/sklearn.neighbors.KNeighborsClassifier.html"
      ]
    },
    {
      "cell_type": "markdown",
      "metadata": {
        "id": "tOh1TpD0oMfp"
      },
      "source": [
        "## Naive Bayes"
      ]
    },
    {
      "cell_type": "code",
      "execution_count": 55,
      "metadata": {
        "colab": {
          "base_uri": "https://localhost:8080/",
          "height": 211
        },
        "execution": {
          "iopub.execute_input": "2025-03-20T03:01:31.805477Z",
          "iopub.status.busy": "2025-03-20T03:01:31.805145Z",
          "iopub.status.idle": "2025-03-20T03:01:31.861645Z",
          "shell.execute_reply": "2025-03-20T03:01:31.860633Z",
          "shell.execute_reply.started": "2025-03-20T03:01:31.805451Z"
        },
        "id": "jsETx4okoMfp",
        "outputId": "b0e87a92-fbc2-4923-c4bf-cd2be3ef39c8",
        "trusted": true
      },
      "outputs": [
        {
          "output_type": "error",
          "ename": "NameError",
          "evalue": "name 'preprocessor' is not defined",
          "traceback": [
            "\u001b[0;31m---------------------------------------------------------------------------\u001b[0m",
            "\u001b[0;31mNameError\u001b[0m                                 Traceback (most recent call last)",
            "\u001b[0;32m<ipython-input-55-d7490d4c3b6b>\u001b[0m in \u001b[0;36m<cell line: 0>\u001b[0;34m()\u001b[0m\n\u001b[1;32m      1\u001b[0m nb_pipeline = Pipeline([\n\u001b[0;32m----> 2\u001b[0;31m     \u001b[0;34m(\u001b[0m\u001b[0;34m'preprocesamiento'\u001b[0m\u001b[0;34m,\u001b[0m \u001b[0mpreprocessor\u001b[0m\u001b[0;34m)\u001b[0m\u001b[0;34m,\u001b[0m\u001b[0;34m\u001b[0m\u001b[0;34m\u001b[0m\u001b[0m\n\u001b[0m\u001b[1;32m      3\u001b[0m     \u001b[0;34m(\u001b[0m\u001b[0;34m'classificador'\u001b[0m\u001b[0;34m,\u001b[0m \u001b[0mGaussianNB\u001b[0m\u001b[0;34m(\u001b[0m\u001b[0;34m)\u001b[0m\u001b[0;34m)\u001b[0m\u001b[0;34m\u001b[0m\u001b[0;34m\u001b[0m\u001b[0m\n\u001b[1;32m      4\u001b[0m ])\n\u001b[1;32m      5\u001b[0m \u001b[0;34m\u001b[0m\u001b[0m\n",
            "\u001b[0;31mNameError\u001b[0m: name 'preprocessor' is not defined"
          ]
        }
      ],
      "source": [
        "nb_pipeline = Pipeline([\n",
        "    ('preprocesamiento', preprocessor),\n",
        "    ('classificador', GaussianNB())\n",
        "])\n",
        "\n",
        "start = time()\n",
        "nb_pipeline.fit(X_train, y_train)\n",
        "end = time()\n",
        "\n",
        "print(\n",
        "    'Tiempo Entrenamiento nb:',\n",
        "    str(timedelta(seconds=end-start))\n",
        ")"
      ]
    },
    {
      "cell_type": "code",
      "execution_count": null,
      "metadata": {
        "colab": {
          "base_uri": "https://localhost:8080/"
        },
        "execution": {
          "iopub.execute_input": "2025-03-20T03:01:32.245876Z",
          "iopub.status.busy": "2025-03-20T03:01:32.245559Z",
          "iopub.status.idle": "2025-03-20T03:01:34.046117Z",
          "shell.execute_reply": "2025-03-20T03:01:34.045135Z",
          "shell.execute_reply.started": "2025-03-20T03:01:32.245851Z"
        },
        "id": "z9BtuY-7oMfq",
        "outputId": "9f58cc5b-d7be-4810-8e82-82e96b1b087b",
        "trusted": true
      },
      "outputs": [
        {
          "data": {
            "text/plain": [
              "{'roc_auc': np.float64(0.5020249794669914),\n",
              " 'average_precision': np.float64(0.1132013839701815),\n",
              " 'max_f1': 0.20307692307692307,\n",
              " 'accuracy_on_max_f1': 0.12794612794612795,\n",
              " 'baseline': np.float64(0.8872053872053872)}"
            ]
          },
          "execution_count": 89,
          "metadata": {},
          "output_type": "execute_result"
        }
      ],
      "source": [
        "nb_val_preds = nb_pipeline.predict_proba(X_test)[:, 1]\n",
        "nb_metrics = get_imbalaced_metrics(y_test, nb_val_preds)\n",
        "nb_metrics"
      ]
    },
    {
      "cell_type": "markdown",
      "metadata": {
        "id": "cmcysxOroMfq"
      },
      "source": [
        "Probá cambiando los hiperparametros! Umm, no aqui nada que hacer"
      ]
    },
    {
      "cell_type": "markdown",
      "metadata": {
        "id": "liq6P3_soMfq"
      },
      "source": [
        "## Resumen Metricas"
      ]
    },
    {
      "cell_type": "code",
      "execution_count": null,
      "metadata": {
        "execution": {
          "iopub.execute_input": "2025-03-20T03:02:17.194271Z",
          "iopub.status.busy": "2025-03-20T03:02:17.193876Z",
          "iopub.status.idle": "2025-03-20T03:02:17.199504Z",
          "shell.execute_reply": "2025-03-20T03:02:17.198433Z",
          "shell.execute_reply.started": "2025-03-20T03:02:17.194239Z"
        },
        "id": "meRt2Vs-oMfq",
        "trusted": true
      },
      "outputs": [],
      "source": [
        "metrics = dict(\n",
        "    knn=knn_metrics,\n",
        "    rl=rl_metrics,\n",
        "    nb=nb_metrics,\n",
        "    ctree_cart=ctree_cart_metrics,\n",
        "    ctree_id3=ctree_id3_metrics,\n",
        ")\n",
        "\n",
        "df_metrics = pd.DataFrame.from_dict(metrics, orient='index')"
      ]
    },
    {
      "cell_type": "code",
      "execution_count": null,
      "metadata": {
        "colab": {
          "base_uri": "https://localhost:8080/",
          "height": 803
        },
        "execution": {
          "iopub.execute_input": "2025-03-20T03:02:30.842666Z",
          "iopub.status.busy": "2025-03-20T03:02:30.842331Z",
          "iopub.status.idle": "2025-03-20T03:02:32.495488Z",
          "shell.execute_reply": "2025-03-20T03:02:32.494289Z",
          "shell.execute_reply.started": "2025-03-20T03:02:30.842639Z"
        },
        "id": "9qKbllsToMfq",
        "outputId": "3abab12a-94ff-433a-93cb-9d713ee7c0e0",
        "trusted": true
      },
      "outputs": [
        {
          "data": {
            "image/png": "[encoded data removed]",
            "text/plain": [
              "<Figure size 1600x900 with 10 Axes>"
            ]
          },
          "metadata": {},
          "output_type": "display_data"
        }
      ],
      "source": [
        "plt.rc('font', size=14)\n",
        "plt.rc('xtick', labelsize=14)\n",
        "\n",
        "fig, axs = plt.subplots(1, 5 , figsize=(16, 9), sharey=True)\n",
        "\n",
        "for i, ax in enumerate(axs):\n",
        "    sns.heatmap(\n",
        "        df_metrics.iloc[:, [i]],\n",
        "        ax=ax,\n",
        "        vmin=df_metrics.iloc[:, [i]].min()*0.8,\n",
        "        vmax=df_metrics.iloc[:, [i]].max(),\n",
        "        annot=True,\n",
        "        cmap='viridis'\n",
        "    )\n",
        "\n",
        "fig.tight_layout()"
      ]
    },
    {
      "cell_type": "markdown",
      "metadata": {
        "id": "S3JKNTe9oMfr"
      },
      "source": [
        "Definamos el umbral de decisión.\n",
        "\n",
        "https://towardsdatascience.com/metrics-to-evaluate-your-machine-learning-algorithm-f10ba6e38234\n",
        "\n",
        "https://machinelearningmastery.com/roc-curves-and-precision-recall-curves-for-classification-in-python/\n",
        "\n",
        "https://www.analyticsvidhya.com/blog/2019/08/11-important-model-evaluation-error-metrics/"
      ]
    },
    {
      "cell_type": "code",
      "execution_count": null,
      "metadata": {
        "colab": {
          "base_uri": "https://localhost:8080/"
        },
        "id": "h3_IXHN5oMfr",
        "outputId": "77947e2e-c77a-46ee-e588-ef885db77225",
        "trusted": true
      },
      "outputs": [
        {
          "data": {
            "text/plain": [
              "np.float64(0.17317317317317318)"
            ]
          },
          "execution_count": 92,
          "metadata": {},
          "output_type": "execute_result"
        }
      ],
      "source": [
        "ths = np.linspace(0, 1, 1000)\n",
        "best_th = ths[np.argmax([skm.f1_score(y_test, rl_val_preds>th) for th in ths])]\n",
        "best_th"
      ]
    },
    {
      "cell_type": "markdown",
      "metadata": {
        "id": "YHJLohzJoMfs"
      },
      "source": [
        "Guardemos el modelo que más nos gustó."
      ]
    },
    {
      "cell_type": "code",
      "execution_count": null,
      "metadata": {
        "id": "qa4o4XkHoMfs",
        "trusted": true
      },
      "outputs": [],
      "source": [
        "with open(\"rl_pipeline.pkl\", \"wb\") as f:\n",
        "    pickle.dump(rl_pipeline, f)"
      ]
    },
    {
      "cell_type": "markdown",
      "metadata": {
        "id": "w_eLX4utoMft"
      },
      "source": [
        "Espera!! Deberiamos reentrenar con todos los datos?"
      ]
    },
    {
      "cell_type": "code",
      "execution_count": null,
      "metadata": {
        "colab": {
          "base_uri": "https://localhost:8080/"
        },
        "id": "3n3U7fkzoMft",
        "outputId": "31dad1d0-d90e-493f-bdc0-808eb93b7a6c",
        "trusted": true
      },
      "outputs": [
        {
          "name": "stdout",
          "output_type": "stream",
          "text": [
            "Tiempo Entrenamiento Regresión Logistica con todos los datos: 0:00:08.053962\n"
          ]
        },
        {
          "name": "stderr",
          "output_type": "stream",
          "text": [
            "/usr/local/lib/python3.11/dist-packages/sklearn/linear_model/_logistic.py:465: ConvergenceWarning: lbfgs failed to converge (status=1):\n",
            "STOP: TOTAL NO. of ITERATIONS REACHED LIMIT.\n",
            "\n",
            "Increase the number of iterations (max_iter) or scale the data as shown in:\n",
            "    https://scikit-learn.org/stable/modules/preprocessing.html\n",
            "Please also refer to the documentation for alternative solver options:\n",
            "    https://scikit-learn.org/stable/modules/linear_model.html#logistic-regression\n",
            "  n_iter_i = _check_optimize_result(\n"
          ]
        }
      ],
      "source": [
        "start = time()\n",
        "rl_pipeline.fit(X, y)\n",
        "end = time()\n",
        "\n",
        "print(\n",
        "    'Tiempo Entrenamiento Regresión Logistica con todos los datos:',\n",
        "    str(timedelta(seconds=end-start))\n",
        ")"
      ]
    },
    {
      "cell_type": "markdown",
      "metadata": {
        "id": "nfIBu4IwoMft"
      },
      "source": [
        "Ahora si, guardemos el mejor modelo hasta ahora"
      ]
    },
    {
      "cell_type": "code",
      "execution_count": null,
      "metadata": {
        "id": "w-wOKFVmoMfu",
        "trusted": true
      },
      "outputs": [],
      "source": [
        "with open(\"rl_pipeline.pkl\", \"wb\") as f:\n",
        "    pickle.dump(rl_pipeline, f)"
      ]
    },
    {
      "cell_type": "markdown",
      "metadata": {
        "id": "a-U03pECoMfu"
      },
      "source": [
        "## Generar Submission\n",
        "\n",
        "Realicemos predicciones sobre el test set de la competencia"
      ]
    },
    {
      "cell_type": "code",
      "execution_count": null,
      "metadata": {
        "colab": {
          "base_uri": "https://localhost:8080/",
          "height": 211
        },
        "id": "2grtkPCQoMfu",
        "outputId": "f000cbee-26a4-4a29-f67f-92ef3584830e",
        "trusted": true
      },
      "outputs": [
        {
          "ename": "NameError",
          "evalue": "name 'DATA_DIR' is not defined",
          "output_type": "error",
          "traceback": [
            "\u001b[0;31m---------------------------------------------------------------------------\u001b[0m",
            "\u001b[0;31mNameError\u001b[0m                                 Traceback (most recent call last)",
            "\u001b[0;32m<ipython-input-96-e26a71de796f>\u001b[0m in \u001b[0;36m<cell line: 0>\u001b[0;34m()\u001b[0m\n\u001b[0;32m----> 1\u001b[0;31m \u001b[0mtest_df\u001b[0m \u001b[0;34m=\u001b[0m \u001b[0mpd\u001b[0m\u001b[0;34m.\u001b[0m\u001b[0mread_parquet\u001b[0m\u001b[0;34m(\u001b[0m\u001b[0mosp\u001b[0m\u001b[0;34m.\u001b[0m\u001b[0mjoin\u001b[0m\u001b[0;34m(\u001b[0m\u001b[0mDATA_DIR\u001b[0m\u001b[0;34m,\u001b[0m \u001b[0;34m\"df_test.parquet\"\u001b[0m\u001b[0;34m)\u001b[0m\u001b[0;34m)\u001b[0m\u001b[0;34m\u001b[0m\u001b[0;34m\u001b[0m\u001b[0m\n\u001b[0m\u001b[1;32m      2\u001b[0m \u001b[0mtest_df\u001b[0m\u001b[0;34m[\u001b[0m\u001b[0;34m'EDAD_COMPLICACION'\u001b[0m\u001b[0;34m]\u001b[0m \u001b[0;34m=\u001b[0m \u001b[0;34m(\u001b[0m\u001b[0mtest_df\u001b[0m\u001b[0;34m[\u001b[0m\u001b[0;34m'Fecha_cero'\u001b[0m\u001b[0;34m]\u001b[0m \u001b[0;34m-\u001b[0m \u001b[0mtest_df\u001b[0m\u001b[0;34m[\u001b[0m\u001b[0;34m'FECHA_NACIMIENTO'\u001b[0m\u001b[0;34m]\u001b[0m\u001b[0;34m)\u001b[0m\u001b[0;34m.\u001b[0m\u001b[0mdt\u001b[0m\u001b[0;34m.\u001b[0m\u001b[0mdays\u001b[0m \u001b[0;34m//\u001b[0m \u001b[0;36m365\u001b[0m\u001b[0;34m\u001b[0m\u001b[0;34m\u001b[0m\u001b[0m\n\u001b[1;32m      3\u001b[0m \u001b[0;34m\u001b[0m\u001b[0m\n\u001b[1;32m      4\u001b[0m \u001b[0mtest_df\u001b[0m\u001b[0;34m[\u001b[0m\u001b[0mcolumnas_numerico\u001b[0m\u001b[0;34m]\u001b[0m \u001b[0;34m=\u001b[0m \u001b[0mX\u001b[0m\u001b[0;34m[\u001b[0m\u001b[0mcolumnas_numerico\u001b[0m\u001b[0;34m]\u001b[0m\u001b[0;34m.\u001b[0m\u001b[0mastype\u001b[0m\u001b[0;34m(\u001b[0m\u001b[0mfloat\u001b[0m\u001b[0;34m)\u001b[0m\u001b[0;34m\u001b[0m\u001b[0;34m\u001b[0m\u001b[0m\n\u001b[1;32m      5\u001b[0m \u001b[0mtest_df\u001b[0m\u001b[0;34m[\u001b[0m\u001b[0mcolumnas_categ\u001b[0m\u001b[0;34m]\u001b[0m \u001b[0;34m=\u001b[0m \u001b[0mX\u001b[0m\u001b[0;34m[\u001b[0m\u001b[0mcolumnas_categ\u001b[0m\u001b[0;34m]\u001b[0m\u001b[0;34m.\u001b[0m\u001b[0mastype\u001b[0m\u001b[0;34m(\u001b[0m\u001b[0mstr\u001b[0m\u001b[0;34m)\u001b[0m\u001b[0;34m\u001b[0m\u001b[0;34m\u001b[0m\u001b[0m\n",
            "\u001b[0;31mNameError\u001b[0m: name 'DATA_DIR' is not defined"
          ]
        }
      ],
      "source": [
        "test_df = pd.read_parquet(osp.join(DATA_DIR, \"df_test.parquet\"))\n",
        "test_df['EDAD_COMPLICACION'] = (test_df['Fecha_cero'] - test_df['FECHA_NACIMIENTO']).dt.days // 365\n",
        "\n",
        "test_df[columnas_numerico] = X[columnas_numerico].astype(float)\n",
        "test_df[columnas_categ] = X[columnas_categ].astype(str)\n",
        "\n",
        "submission_pred = rl_pipeline.predict_proba(test_df)[:, 1]\n",
        "submission_pred_bool = submission_pred>best_th\n",
        "submission_pred_int = [int(item) for item in submission_pred_bool]\n",
        "submission = pd.DataFrame(data=dict(ID=test_df.index, Target=submission_pred_int))\n",
        "submission.to_csv(\"submission_RL.csv\", index=False)"
      ]
    },
    {
      "cell_type": "code",
      "execution_count": null,
      "metadata": {
        "colab": {
          "base_uri": "https://localhost:8080/",
          "height": 356
        },
        "id": "vDPcd6hBoMfv",
        "outputId": "e46f396c-f559-461b-c3e8-8881bd8cbeac",
        "trusted": true
      },
      "outputs": [
        {
          "ename": "FileNotFoundError",
          "evalue": "[Errno 2] No such file or directory: 'df_test.parquet'",
          "output_type": "error",
          "traceback": [
            "\u001b[0;31m---------------------------------------------------------------------------\u001b[0m",
            "\u001b[0;31mFileNotFoundError\u001b[0m                         Traceback (most recent call last)",
            "\u001b[0;32m<ipython-input-97-2fb178721871>\u001b[0m in \u001b[0;36m<cell line: 0>\u001b[0;34m()\u001b[0m\n\u001b[1;32m      8\u001b[0m \u001b[0mDATA_DIR\u001b[0m \u001b[0;34m=\u001b[0m \u001b[0;34m\"df_test.parquet\"\u001b[0m  \u001b[0;31m# Or DATA_DIR = \"/path/to/your/directory\"\u001b[0m\u001b[0;34m\u001b[0m\u001b[0;34m\u001b[0m\u001b[0m\n\u001b[1;32m      9\u001b[0m \u001b[0;34m\u001b[0m\u001b[0m\n\u001b[0;32m---> 10\u001b[0;31m \u001b[0mtest_df\u001b[0m \u001b[0;34m=\u001b[0m \u001b[0mpd\u001b[0m\u001b[0;34m.\u001b[0m\u001b[0mread_parquet\u001b[0m\u001b[0;34m(\u001b[0m\u001b[0mDATA_DIR\u001b[0m\u001b[0;34m)\u001b[0m  \u001b[0;31m# Correctly read the data\u001b[0m\u001b[0;34m\u001b[0m\u001b[0;34m\u001b[0m\u001b[0m\n\u001b[0m\u001b[1;32m     11\u001b[0m \u001b[0mtest_df\u001b[0m\u001b[0;34m[\u001b[0m\u001b[0;34m'EDAD_COMPLICACION'\u001b[0m\u001b[0;34m]\u001b[0m \u001b[0;34m=\u001b[0m \u001b[0;34m(\u001b[0m\u001b[0mtest_df\u001b[0m\u001b[0;34m[\u001b[0m\u001b[0;34m'Fecha_cero'\u001b[0m\u001b[0;34m]\u001b[0m \u001b[0;34m-\u001b[0m \u001b[0mtest_df\u001b[0m\u001b[0;34m[\u001b[0m\u001b[0;34m'FECHA_NACIMIENTO'\u001b[0m\u001b[0;34m]\u001b[0m\u001b[0;34m)\u001b[0m\u001b[0;34m.\u001b[0m\u001b[0mdt\u001b[0m\u001b[0;34m.\u001b[0m\u001b[0mdays\u001b[0m \u001b[0;34m//\u001b[0m \u001b[0;36m365\u001b[0m\u001b[0;34m\u001b[0m\u001b[0;34m\u001b[0m\u001b[0m\n\u001b[1;32m     12\u001b[0m \u001b[0;34m\u001b[0m\u001b[0m\n",
            "\u001b[0;32m/usr/local/lib/python3.11/dist-packages/pandas/io/parquet.py\u001b[0m in \u001b[0;36mread_parquet\u001b[0;34m(path, engine, columns, storage_options, use_nullable_dtypes, dtype_backend, filesystem, filters, **kwargs)\u001b[0m\n\u001b[1;32m    665\u001b[0m     \u001b[0mcheck_dtype_backend\u001b[0m\u001b[0;34m(\u001b[0m\u001b[0mdtype_backend\u001b[0m\u001b[0;34m)\u001b[0m\u001b[0;34m\u001b[0m\u001b[0;34m\u001b[0m\u001b[0m\n\u001b[1;32m    666\u001b[0m \u001b[0;34m\u001b[0m\u001b[0m\n\u001b[0;32m--> 667\u001b[0;31m     return impl.read(\n\u001b[0m\u001b[1;32m    668\u001b[0m         \u001b[0mpath\u001b[0m\u001b[0;34m,\u001b[0m\u001b[0;34m\u001b[0m\u001b[0;34m\u001b[0m\u001b[0m\n\u001b[1;32m    669\u001b[0m         \u001b[0mcolumns\u001b[0m\u001b[0;34m=\u001b[0m\u001b[0mcolumns\u001b[0m\u001b[0;34m,\u001b[0m\u001b[0;34m\u001b[0m\u001b[0;34m\u001b[0m\u001b[0m\n",
            "\u001b[0;32m/usr/local/lib/python3.11/dist-packages/pandas/io/parquet.py\u001b[0m in \u001b[0;36mread\u001b[0;34m(self, path, columns, filters, use_nullable_dtypes, dtype_backend, storage_options, filesystem, **kwargs)\u001b[0m\n\u001b[1;32m    265\u001b[0m             \u001b[0mto_pandas_kwargs\u001b[0m\u001b[0;34m[\u001b[0m\u001b[0;34m\"split_blocks\"\u001b[0m\u001b[0;34m]\u001b[0m \u001b[0;34m=\u001b[0m \u001b[0;32mTrue\u001b[0m  \u001b[0;31m# type: ignore[assignment]\u001b[0m\u001b[0;34m\u001b[0m\u001b[0;34m\u001b[0m\u001b[0m\n\u001b[1;32m    266\u001b[0m \u001b[0;34m\u001b[0m\u001b[0m\n\u001b[0;32m--> 267\u001b[0;31m         path_or_handle, handles, filesystem = _get_path_or_handle(\n\u001b[0m\u001b[1;32m    268\u001b[0m             \u001b[0mpath\u001b[0m\u001b[0;34m,\u001b[0m\u001b[0;34m\u001b[0m\u001b[0;34m\u001b[0m\u001b[0m\n\u001b[1;32m    269\u001b[0m             \u001b[0mfilesystem\u001b[0m\u001b[0;34m,\u001b[0m\u001b[0;34m\u001b[0m\u001b[0;34m\u001b[0m\u001b[0m\n",
            "\u001b[0;32m/usr/local/lib/python3.11/dist-packages/pandas/io/parquet.py\u001b[0m in \u001b[0;36m_get_path_or_handle\u001b[0;34m(path, fs, storage_options, mode, is_dir)\u001b[0m\n\u001b[1;32m    138\u001b[0m         \u001b[0;31m# fsspec resources can also point to directories\u001b[0m\u001b[0;34m\u001b[0m\u001b[0;34m\u001b[0m\u001b[0m\n\u001b[1;32m    139\u001b[0m         \u001b[0;31m# this branch is used for example when reading from non-fsspec URLs\u001b[0m\u001b[0;34m\u001b[0m\u001b[0;34m\u001b[0m\u001b[0m\n\u001b[0;32m--> 140\u001b[0;31m         handles = get_handle(\n\u001b[0m\u001b[1;32m    141\u001b[0m             \u001b[0mpath_or_handle\u001b[0m\u001b[0;34m,\u001b[0m \u001b[0mmode\u001b[0m\u001b[0;34m,\u001b[0m \u001b[0mis_text\u001b[0m\u001b[0;34m=\u001b[0m\u001b[0;32mFalse\u001b[0m\u001b[0;34m,\u001b[0m \u001b[0mstorage_options\u001b[0m\u001b[0;34m=\u001b[0m\u001b[0mstorage_options\u001b[0m\u001b[0;34m\u001b[0m\u001b[0;34m\u001b[0m\u001b[0m\n\u001b[1;32m    142\u001b[0m         )\n",
            "\u001b[0;32m/usr/local/lib/python3.11/dist-packages/pandas/io/common.py\u001b[0m in \u001b[0;36mget_handle\u001b[0;34m(path_or_buf, mode, encoding, compression, memory_map, is_text, errors, storage_options)\u001b[0m\n\u001b[1;32m    880\u001b[0m         \u001b[0;32melse\u001b[0m\u001b[0;34m:\u001b[0m\u001b[0;34m\u001b[0m\u001b[0;34m\u001b[0m\u001b[0m\n\u001b[1;32m    881\u001b[0m             \u001b[0;31m# Binary mode\u001b[0m\u001b[0;34m\u001b[0m\u001b[0;34m\u001b[0m\u001b[0m\n\u001b[0;32m--> 882\u001b[0;31m             \u001b[0mhandle\u001b[0m \u001b[0;34m=\u001b[0m \u001b[0mopen\u001b[0m\u001b[0;34m(\u001b[0m\u001b[0mhandle\u001b[0m\u001b[0;34m,\u001b[0m \u001b[0mioargs\u001b[0m\u001b[0;34m.\u001b[0m\u001b[0mmode\u001b[0m\u001b[0;34m)\u001b[0m\u001b[0;34m\u001b[0m\u001b[0;34m\u001b[0m\u001b[0m\n\u001b[0m\u001b[1;32m    883\u001b[0m         \u001b[0mhandles\u001b[0m\u001b[0;34m.\u001b[0m\u001b[0mappend\u001b[0m\u001b[0;34m(\u001b[0m\u001b[0mhandle\u001b[0m\u001b[0;34m)\u001b[0m\u001b[0;34m\u001b[0m\u001b[0;34m\u001b[0m\u001b[0m\n\u001b[1;32m    884\u001b[0m \u001b[0;34m\u001b[0m\u001b[0m\n",
            "\u001b[0;31mFileNotFoundError\u001b[0m: [Errno 2] No such file or directory: 'df_test.parquet'"
          ]
        }
      ],
      "source": [
        "from google.colab import files\n",
        "#uploaded = files.upload() # This is not necessary in this case\n",
        "\n",
        "#DATA_DIR = pd.read_parquet(\"df_test.parquet\") # This is where the issue lies\n",
        "#DATA_DIR.head() # Remove this unnecesary call\n",
        "\n",
        "# Use a string to specify the directory or filename directly for DATA_DIR\n",
        "DATA_DIR = \"df_test.parquet\"  # Or DATA_DIR = \"/path/to/your/directory\"\n",
        "\n",
        "test_df = pd.read_parquet(DATA_DIR)  # Correctly read the data\n",
        "test_df['EDAD_COMPLICACION'] = (test_df['Fecha_cero'] - test_df['FECHA_NACIMIENTO']).dt.days // 365\n",
        "\n",
        "# Ensure 'columnas_numerico' and 'columnas_categ' are lists of column names\n",
        "test_df[columnas_numerico] = test_df[columnas_numerico].astype(float)\n",
        "test_df[columnas_categ] = test_df[columnas_categ].astype(str)\n",
        "\n",
        "submission_pred = rl_pipeline.predict_proba(test_df)[:, 1]\n",
        "submission_pred_bool = submission_pred > best_th\n",
        "submission_pred_int = [int(item) for item in submission_pred_bool]\n",
        "submission = pd.DataFrame(data=dict(ID=test_df.index, Target=submission_pred_int))\n",
        "submission.to_csv(\"submission_RL.csv\", index=False)"
      ]
    },
    {
      "cell_type": "code",
      "execution_count": null,
      "metadata": {
        "colab": {
          "base_uri": "https://localhost:8080/",
          "height": 17
        },
        "id": "4bffRiClj-zj",
        "outputId": "6a8860d6-992c-473b-c94a-b63ab5493ca1"
      },
      "outputs": [
        {
          "data": {
            "application/javascript": "\n    async function download(id, filename, size) {\n      if (!google.colab.kernel.accessAllowed) {\n        return;\n      }\n      const div = document.createElement('div');\n      const label = document.createElement('label');\n      label.textContent = `Downloading \"${filename}\": `;\n      div.appendChild(label);\n      const progress = document.createElement('progress');\n      progress.max = size;\n      div.appendChild(progress);\n      document.body.appendChild(div);\n\n      const buffers = [];\n      let downloaded = 0;\n\n      const channel = await google.colab.kernel.comms.open(id);\n      // Send a message to notify the kernel that we're ready.\n      channel.send({})\n\n      for await (const message of channel.messages) {\n        // Send a message to notify the kernel that we're ready.\n        channel.send({})\n        if (message.buffers) {\n          for (const buffer of message.buffers) {\n            buffers.push(buffer);\n            downloaded += buffer.byteLength;\n            progress.value = downloaded;\n          }\n        }\n      }\n      const blob = new Blob(buffers, {type: 'application/binary'});\n      const a = document.createElement('a');\n      a.href = window.URL.createObjectURL(blob);\n      a.download = filename;\n      div.appendChild(a);\n      a.click();\n      div.remove();\n    }\n  ",
            "text/plain": [
              "<IPython.core.display.Javascript object>"
            ]
          },
          "metadata": {},
          "output_type": "display_data"
        },
        {
          "data": {
            "application/javascript": "download(\"download_b0c73c8c-4de6-4920-910a-467a14739643\", \"submission_RL.csv\", 11660)",
            "text/plain": [
              "<IPython.core.display.Javascript object>"
            ]
          },
          "metadata": {},
          "output_type": "display_data"
        }
      ],
      "source": [
        "from google.colab import files\n",
        "files.download(\"submission_RL.csv\")\n"
      ]
    }
  ],
  "metadata": {
    "colab": {
      "provenance": []
    },
    "kaggle": {
      "accelerator": "none",
      "dataSources": [
        {
          "databundleVersionId": 11455223,
          "sourceId": 96400,
          "sourceType": "competition"
        }
      ],
      "dockerImageVersionId": 30918,
      "isGpuEnabled": false,
      "isInternetEnabled": true,
      "language": "python",
      "sourceType": "notebook"
    },
    "kernelspec": {
      "display_name": "Python 3",
      "language": "python",
      "name": "python3"
    },
    "language_info": {
      "codemirror_mode": {
        "name": "ipython",
        "version": 3
      },
      "file_extension": ".py",
      "mimetype": "text/x-python",
      "name": "python",
      "nbconvert_exporter": "python",
      "pygments_lexer": "ipython3",
      "version": "3.13.3"
    }
  },
  "nbformat": 4,
  "nbformat_minor": 0
}